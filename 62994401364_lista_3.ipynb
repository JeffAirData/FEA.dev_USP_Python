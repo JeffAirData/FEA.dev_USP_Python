{
  "cells": [
    {
      "cell_type": "markdown",
      "metadata": {
        "id": "a5edfgghECeY"
      },
      "source": [
        "![WhatsApp%20Image%202023-09-10%20at%2011.20.28.jpeg](attachment:WhatsApp%20Image%202023-09-10%20at%2011.20.28.jpeg)\n"
      ]
    },
    {
      "cell_type": "markdown",
      "metadata": {
        "id": "S6hwkwxjECeb"
      },
      "source": [
        "# Fala devs, blz??\n",
        "\n",
        "Esta será nossa terceira lista de exercícios para você testar seu conhecimento acerca do conteúdo do MÓDULO 3:\n",
        "\n",
        "-Funções"
      ]
    },
    {
      "cell_type": "markdown",
      "metadata": {
        "id": "fdIRufkmECec"
      },
      "source": [
        "## INSTRUÇÕES:\n",
        "\n",
        "A lista deve ser realizada pelo Jupyter Notebook.\n",
        "\n",
        "Nâo é necessário entregar a lista para afins de certificado dentro da plataforma, entretanto para alunos da USP que queiram participar do processo seletivo ou conseguir créditos AAC (apenas FEANOS) é necessária a entrega de TODAS as listas.\n",
        "\n",
        "A entrega das listas ou pelo menos sua excecução é recomendada a fim de exercitar todo o conhecimento adquirido do curso.\n",
        "\n",
        "O DESAFIO é para realmente te desafiar, por isso não desista de tentar e de continuar com o curso, ao longo das listas você verá que cada vez mais você terá ferramentas para completá-lo.\n",
        "\n",
        "Caso haja alguma dúvida acerca da lista participe das monitorias que serão oferecidas as quintas e sábados das 17h as 18h pelo DISCORD. Caso seu problema não seje resolvido envie uma mensagem para contato.feadev@gmail.com\n",
        "\n",
        "O gabarito será disponibilizado na plataforma após o término de periodo de envio\n",
        "\n"
      ]
    },
    {
      "cell_type": "code",
      "execution_count": null,
      "metadata": {
        "id": "CBdeEKKPECed"
      },
      "outputs": [],
      "source": [
        "## vamos começar??"
      ]
    },
    {
      "cell_type": "markdown",
      "metadata": {
        "id": "4PQGcwxRECee"
      },
      "source": [
        "## QUESTÃO 0"
      ]
    },
    {
      "cell_type": "markdown",
      "metadata": {
        "id": "kYOF9SzZECef"
      },
      "source": [
        "Final do ano chegando e você já quer garantir sua viagem para a Europa, Crie uma função que converta valores euro para real. Considere que 1 euro equivale a 5.33 reais.\n",
        "\n",
        "Sabendo que hotel + comida + transporte + lazer darão entorno de 4500 euros, quantos reais você deverá guardar na sua poupança para garantir as férias."
      ]
    },
    {
      "cell_type": "markdown",
      "metadata": {
        "id": "9SVWeqNVECef"
      },
      "source": [
        "![Captura%20de%20tela%202023-10-19%20143306.png](attachment:Captura%20de%20tela%202023-10-19%20143306.png)"
      ]
    },
    {
      "cell_type": "code",
      "execution_count": null,
      "metadata": {
        "colab": {
          "base_uri": "https://localhost:8080/"
        },
        "id": "jIav9VwCECeg",
        "outputId": "e8d02569-6105-4087-dd40-be990fd06030"
      },
      "outputs": [
        {
          "name": "stdout",
          "output_type": "stream",
          "text": [
            "Para garantir as férias na Europa, você precisará de 23985.00 reais na sua poupança.\n"
          ]
        }
      ],
      "source": [
        "#seu código começa aqui\n",
        "\n",
        "from IPython.display import HTML\n",
        "largura_maxima = 80\n",
        "\n",
        "def converter_euro_para_real(valor_em_euro):\n",
        "    taxa_de_cambio = 5.33  # 1 euro equivale a 5.33 reais\n",
        "    valor_em_real = valor_em_euro * taxa_de_cambio\n",
        "    return valor_em_real\n",
        "\n",
        "#Agora, você pode usar essa função para calcular o total em reais que você precisa para sua viagem. Considerando que você precisa de aproximadamente 4500 euros, podemos calcular o valor correspondente em reais da seguinte maneira:\n",
        "\n",
        "total_em_euro = 4500\n",
        "total_em_real = converter_euro_para_real(total_em_euro)\n",
        "print(f\"Para garantir as férias na Europa, você precisará de {total_em_real:.2f} reais na sua poupança.\")\n"
      ]
    },
    {
      "cell_type": "markdown",
      "metadata": {
        "id": "xeFh2rP5ECeg"
      },
      "source": [
        "## QUESTÃO 1\n"
      ]
    },
    {
      "cell_type": "markdown",
      "metadata": {
        "id": "QEsEzz_xECeg"
      },
      "source": [
        "Uma função em Python é uma sequência de códigos que possui nome próprio, executa tarefas específicas e evita repetição de código, podendo ser chamada pelo seu nome. Há funções já determinadas como print() e input(), entretanto, nesta lista de exercícios criaremos nossas próprias funções!\n"
      ]
    },
    {
      "cell_type": "markdown",
      "metadata": {
        "id": "evYhXf19ECeh"
      },
      "source": [
        "Você adicionou o curso de Python da FEA.Dev em seu currículo e foi contratado como estagiário da empresa HelloWorld. Parabéns! Sua tarefa na empresa é automatizar o máximo de processos possíveis e, para isso, precisará criar muitas funções facilitadoras.\n",
        "\n",
        "Começaremos com dois exemplos básicos apenas como demonstração."
      ]
    },
    {
      "cell_type": "markdown",
      "metadata": {
        "id": "1ajuQZcxECeh"
      },
      "source": [
        "![Captura%20de%20tela%202023-10-19%20143652.png](attachment:Captura%20de%20tela%202023-10-19%20143652.png)"
      ]
    },
    {
      "cell_type": "code",
      "execution_count": null,
      "metadata": {
        "colab": {
          "base_uri": "https://localhost:8080/"
        },
        "id": "bbTlJGpsECeh",
        "outputId": "93e5b1dd-218f-4318-c501-53c438bf03d7"
      },
      "outputs": [
        {
          "name": "stdout",
          "output_type": "stream",
          "text": [
            "hello, world!\n",
            "12\n"
          ]
        }
      ],
      "source": [
        "def slogan():\n",
        "    print('hello, world!')\n",
        "\n",
        "#função com parâmetros e retornando um valor\n",
        "def soma(a, b):\n",
        "    print (a + b)\n",
        "\n",
        "\n",
        "\n",
        "slogan()\n",
        "soma(5, 7) #5 e 7 são argumentos da função soma"
      ]
    },
    {
      "cell_type": "markdown",
      "metadata": {
        "id": "yApR0c19ECek"
      },
      "source": [
        "**a)Parâmetros Opcionais:**\n",
        "\n",
        "Observando o departamento de contabilidade da HelloWorld, você percebeu que os funcionários passam o dia multiplicando valores e, como um bom programador, resolveu tornar esse processo mais eficiente. Desenvolva a função mult, que retorna a multiplicação dos parâmetros \"a\", \"b\", \"c\" e \"d\". Porém, a função não precisa necessariamente receber os 4 argumentos. Caso um parâmetro não receba um argumento, ele deve valer 1."
      ]
    },
    {
      "cell_type": "code",
      "execution_count": null,
      "metadata": {
        "id": "nGFALE6uECek"
      },
      "outputs": [],
      "source": [
        "def mult(a = 1, b = 1, c = 1, d = 1):\n",
        "  return a * b * c * d;"
      ]
    },
    {
      "cell_type": "markdown",
      "metadata": {
        "id": "ILUPLObEECel"
      },
      "source": [
        "**b)Return X Print:**\n",
        "\n",
        "Antes de tudo, rode todas as células do jupyter.\n",
        "\n",
        "O CEO da HelloWorld está desesperado, pois não consegue solucionar um erro de código que está impedindo a empresa de continuar funcionando. Assim, ele te ligou para ajudá-lo a corrigir tal erro.\n",
        "Rode o código abaixo para identificar o erro.\n",
        "(não altere o código, o erro foi planejado)"
      ]
    },
    {
      "cell_type": "code",
      "execution_count": null,
      "metadata": {
        "colab": {
          "base_uri": "https://localhost:8080/",
          "height": 279
        },
        "id": "IxnZQL4-ECel",
        "outputId": "fa77b442-fdae-404c-b29c-5537def51602"
      },
      "outputs": [
        {
          "name": "stdout",
          "output_type": "stream",
          "text": [
            "10\n"
          ]
        },
        {
          "ename": "TypeError",
          "evalue": "ignored",
          "output_type": "error",
          "traceback": [
            "\u001b[0;31m---------------------------------------------------------------------------\u001b[0m",
            "\u001b[0;31mTypeError\u001b[0m                                 Traceback (most recent call last)",
            "\u001b[0;32m<ipython-input-13-d58fef185387>\u001b[0m in \u001b[0;36m<cell line: 1>\u001b[0;34m()\u001b[0m\n\u001b[0;32m----> 1\u001b[0;31m \u001b[0mmult\u001b[0m\u001b[0;34m(\u001b[0m\u001b[0msoma\u001b[0m\u001b[0;34m(\u001b[0m\u001b[0;36m5\u001b[0m\u001b[0;34m,\u001b[0m \u001b[0;36m5\u001b[0m\u001b[0;34m)\u001b[0m\u001b[0;34m,\u001b[0m \u001b[0;36m10\u001b[0m\u001b[0;34m)\u001b[0m\u001b[0;34m\u001b[0m\u001b[0;34m\u001b[0m\u001b[0m\n\u001b[0m",
            "\u001b[0;32m<ipython-input-5-bef143e3a2ee>\u001b[0m in \u001b[0;36mmult\u001b[0;34m(a, b, c, d)\u001b[0m\n\u001b[1;32m      2\u001b[0m \u001b[0;34m\u001b[0m\u001b[0m\n\u001b[1;32m      3\u001b[0m \u001b[0;32mdef\u001b[0m \u001b[0mmult\u001b[0m\u001b[0;34m(\u001b[0m\u001b[0ma\u001b[0m\u001b[0;34m=\u001b[0m\u001b[0;36m1\u001b[0m\u001b[0;34m,\u001b[0m \u001b[0mb\u001b[0m\u001b[0;34m=\u001b[0m\u001b[0;36m1\u001b[0m\u001b[0;34m,\u001b[0m \u001b[0mc\u001b[0m\u001b[0;34m=\u001b[0m\u001b[0;36m1\u001b[0m\u001b[0;34m,\u001b[0m \u001b[0md\u001b[0m\u001b[0;34m=\u001b[0m\u001b[0;36m1\u001b[0m\u001b[0;34m)\u001b[0m\u001b[0;34m:\u001b[0m\u001b[0;34m\u001b[0m\u001b[0;34m\u001b[0m\u001b[0m\n\u001b[0;32m----> 4\u001b[0;31m     \u001b[0;32mreturn\u001b[0m \u001b[0ma\u001b[0m \u001b[0;34m*\u001b[0m \u001b[0mb\u001b[0m \u001b[0;34m*\u001b[0m \u001b[0mc\u001b[0m \u001b[0;34m*\u001b[0m \u001b[0md\u001b[0m\u001b[0;34m\u001b[0m\u001b[0;34m\u001b[0m\u001b[0m\n\u001b[0m",
            "\u001b[0;31mTypeError\u001b[0m: unsupported operand type(s) for *: 'NoneType' and 'int'"
          ]
        }
      ],
      "source": [
        "mult(soma(5, 5), 10)"
      ]
    },
    {
      "cell_type": "markdown",
      "metadata": {
        "id": "5v1kgyOCECel"
      },
      "source": [
        "Reescreva a função soma para que o erro não ocorra. Lembre-se da diferença entre retornar um valor e imprimir um valor."
      ]
    },
    {
      "cell_type": "code",
      "execution_count": null,
      "metadata": {
        "colab": {
          "base_uri": "https://localhost:8080/"
        },
        "id": "ucZrsMMiECel",
        "outputId": "fee3b56b-e5e0-49ad-a188-04bf9a620f40"
      },
      "outputs": [
        {
          "name": "stdout",
          "output_type": "stream",
          "text": [
            "100\n"
          ]
        }
      ],
      "source": [
        "#No código fornecido, a função soma imprime o resultado em vez de retorná-lo. Para evitar o erro e permitir que a função mult funcione corretamente, você precisa alterar a função soma para retornar o resultado. Aqui está a correção:\n",
        "\n",
        "def soma(a, b):\n",
        "    return a + b\n",
        "\n",
        "def mult(x, y):\n",
        "    return x * y\n",
        "\n",
        "resultado = mult(soma(5, 5), 10)\n",
        "print(resultado)"
      ]
    },
    {
      "cell_type": "markdown",
      "metadata": {
        "id": "ohgW1BILECem"
      },
      "source": [
        "## QUESTÃO 2\n",
        "\n"
      ]
    },
    {
      "cell_type": "markdown",
      "metadata": {
        "id": "_g8KhQULECem"
      },
      "source": [
        "Você está desenvolvendo um jogo de adivinhação muito simples, no qual o jogador tenta adivinhar um número secreto entre 1 e 100.\n",
        "\n",
        "**Instrução:**\n",
        "\n",
        "O programa gerará aleatoriamente um número entre 1 e 100 que o jogador deve adivinhar.\n",
        "\n",
        "O jogador poderá inserir um palpite (um número inteiro) e pressionar \"Enter\".\n",
        "\n",
        "O programa fornecerá feedback sobre o palpite do jogador, dizendo se o palpite é muito alto, muito baixo ou correto em relação ao número secreto.\n",
        "\n",
        "O jogador continuará a adivinhar até acertar o número secreto.\n",
        "\n",
        "O programa informará quantas tentativas foram necessárias para acertar o número."
      ]
    },
    {
      "cell_type": "markdown",
      "metadata": {
        "id": "EMRcbn36ECem"
      },
      "source": [
        "![Captura%20de%20tela%202023-10-19%20160227.png](attachment:Captura%20de%20tela%202023-10-19%20160227.png)"
      ]
    },
    {
      "cell_type": "markdown",
      "metadata": {
        "id": "KmHRMXpIECen"
      },
      "source": [
        "**Exemplo**\n",
        "\n",
        "Bem-vindo ao Jogo de Adivinhação! Tente adivinhar o número secreto entre 1 e 100.\n",
        "\n",
        "Digite o seu palpite: 50 O número é maior. Tente novamente.\n",
        "\n",
        "Digite o seu palpite: 25 O número é maior. Tente novamente.\n",
        "\n",
        "Digite o seu palpite: 37 O número é menor. Tente novamente.\n",
        "\n",
        "Digite o seu palpite: 42 Parabéns! Você acertou o número secreto 42 em 4 tentativas.\n"
      ]
    },
    {
      "cell_type": "code",
      "execution_count": null,
      "metadata": {
        "colab": {
          "base_uri": "https://localhost:8080/"
        },
        "id": "7F5hDyB4ECen",
        "outputId": "270c6313-5da6-4b9e-82c5-f55d0d110953"
      },
      "outputs": [
        {
          "name": "stdout",
          "output_type": "stream",
          "text": [
            "Bem-vindo ao jogo de adivinhação! Tente adivinhar o número secreto entre 1 e 100.\n",
            "Digite seu palpite: 100\n",
            "Seu palpite é muito alto. Tente novamente.\n",
            "Digite seu palpite: 50\n",
            "Seu palpite é muito alto. Tente novamente.\n",
            "Digite seu palpite: 10\n",
            "Seu palpite é muito baixo. Tente novamente.\n",
            "Digite seu palpite: 25\n",
            "Seu palpite é muito baixo. Tente novamente.\n",
            "Digite seu palpite: 35\n",
            "Seu palpite é muito baixo. Tente novamente.\n",
            "Digite seu palpite: 45\n",
            "Seu palpite é muito baixo. Tente novamente.\n",
            "Digite seu palpite: 49\n",
            "Parabéns! Você acertou o número secreto 49 em 7 tentativas.\n"
          ]
        }
      ],
      "source": [
        "import random\n",
        "\n",
        "# Gera um número secreto aleatório entre 1 e 100\n",
        "numero_secreto = random.randint(1, 100)\n",
        "\n",
        "tentativas = 0\n",
        "\n",
        "print(\"Bem-vindo ao jogo de adivinhação! Tente adivinhar o número secreto entre 1 e 100.\")\n",
        "\n",
        "while True:\n",
        "    # Solicita um palpite ao jogador\n",
        "    palpite = input(\"Digite seu palpite: \")\n",
        "\n",
        "    # Verifica se o palpite é um número inteiro\n",
        "    if not palpite.isdigit():\n",
        "        print(\"Por favor, digite um número inteiro.\")\n",
        "        continue\n",
        "\n",
        "    palpite = int(palpite)\n",
        "    tentativas += 1\n",
        "\n",
        "    # Verifica se o palpite está correto\n",
        "    if palpite == numero_secreto:\n",
        "        print(f\"Parabéns! Você acertou o número secreto {numero_secreto} em {tentativas} tentativas.\")\n",
        "        break\n",
        "    elif palpite < numero_secreto:\n",
        "        print(\"Seu palpite é muito baixo. Tente novamente.\")\n",
        "    else:\n",
        "        print(\"Seu palpite é muito alto. Tente novamente.\")"
      ]
    },
    {
      "cell_type": "markdown",
      "metadata": {
        "id": "Ph99rxJxECen"
      },
      "source": [
        "## QUESTÃO 3"
      ]
    },
    {
      "cell_type": "markdown",
      "metadata": {
        "id": "V-97TC3fECen"
      },
      "source": [
        "**Jogo da Forca**\n",
        "\n",
        "Você está criando um jogo da forca em Python, um jogo popular de adivinhação de palavras. Neste jogo, um jogador tenta adivinhar uma palavra, letra por letra, antes que o enforcado seja completamente desenhado.\n",
        "\n",
        "**Instrução:**\n",
        "\n",
        "Crie uma função chamada verificar_letra que aceite dois argumentos: uma palavra secreta e uma letra. A função deve verificar se a letra está presente na palavra secreta. Se a letra estiver na palavra secreta, a função deve retornar True, caso contrário, deve retornar False.\n",
        "\n",
        "Apenas 1 letra."
      ]
    },
    {
      "cell_type": "markdown",
      "metadata": {
        "id": "nA5hKmo5ECeo"
      },
      "source": [
        "![Captura%20de%20tela%202023-10-19%20154009.png](attachment:Captura%20de%20tela%202023-10-19%20154009.png)"
      ]
    },
    {
      "cell_type": "code",
      "execution_count": null,
      "metadata": {
        "colab": {
          "base_uri": "https://localhost:8080/"
        },
        "id": "tdd_cqN3ECeo",
        "outputId": "2b261d7d-f3e5-48e4-b6d0-635e6a7376ef"
      },
      "outputs": [
        {
          "name": "stdout",
          "output_type": "stream",
          "text": [
            "Bem-vindo ao Jogo da Forca!\n",
            "Palavra: ______\n",
            "Tentativas restantes: 6\n",
            "Adivinhe uma letra: a\n",
            "A letra 'a' não está na palavra secreta ou a entrada é inválida.\n",
            "Palavra: ______\n",
            "Tentativas restantes: 5\n",
            "Adivinhe uma letra: e\n",
            "A letra 'e' não está na palavra secreta ou a entrada é inválida.\n",
            "Palavra: ______\n",
            "Tentativas restantes: 4\n",
            "Adivinhe uma letra: i\n",
            "A letra 'i' não está na palavra secreta ou a entrada é inválida.\n",
            "Palavra: ______\n",
            "Tentativas restantes: 3\n",
            "Adivinhe uma letra: o\n",
            "Palavra: ____o_\n",
            "Tentativas restantes: 3\n",
            "Adivinhe uma letra: u\n",
            "A letra 'u' não está na palavra secreta ou a entrada é inválida.\n",
            "Palavra: ____o_\n",
            "Tentativas restantes: 2\n",
            "Adivinhe uma letra: s\n",
            "A letra 's' não está na palavra secreta ou a entrada é inválida.\n",
            "Palavra: ____o_\n",
            "Tentativas restantes: 1\n",
            "Adivinhe uma letra: h\n",
            "Palavra: ___ho_\n",
            "Tentativas restantes: 1\n",
            "Adivinhe uma letra: n\n",
            "Palavra: ___hon\n",
            "Tentativas restantes: 1\n",
            "Adivinhe uma letra: python\n",
            "A letra 'python' não está na palavra secreta ou a entrada é inválida.\n",
            "Você perdeu! A palavra secreta era: 'python'.\n"
          ]
        },
        {
          "data": {
            "text/plain": [
              "False"
            ]
          },
          "execution_count": 9,
          "metadata": {},
          "output_type": "execute_result"
        }
      ],
      "source": [
        "def verificar_letra(palavra_secreta, letra):\n",
        "    \"\"\"\n",
        "    Verifica se a letra está presente na palavra secreta. Garante que apenas uma letra seja inserida.\n",
        "\n",
        "    Args:\n",
        "        palavra_secreta (str): A palavra secreta a ser adivinhada.\n",
        "        letra (str): A letra a ser verificada.\n",
        "\n",
        "    Returns:\n",
        "        bool: True se a letra estiver presente na palavra secreta, False caso contrário.\n",
        "    \"\"\"\n",
        "    if len(letra) == 1 and letra.isalpha():\n",
        "        if letra in palavra_secreta:\n",
        "            return True\n",
        "    return False\n",
        "\n",
        "def jogo_da_forca(palavra_secreta):\n",
        "    \"\"\"\n",
        "    Função para jogar o jogo da forca. Aceita a palavra secreta e permite adivinhar letra por letra.\n",
        "\n",
        "    Args:\n",
        "        palavra_secreta (str): A palavra que deve ser adivinhada.\n",
        "\n",
        "    Returns:\n",
        "        bool: True se a palavra foi adivinhada, False se o jogador perdeu.\n",
        "    \"\"\"\n",
        "    letras_corretas = set()\n",
        "    tentativas = len(palavra_secreta)  # Número máximo de tentativas\n",
        "\n",
        "    print(\"Bem-vindo ao Jogo da Forca!\")\n",
        "\n",
        "    while tentativas > 0:\n",
        "        palavra_misteriosa = \"\"\n",
        "        for letra in palavra_secreta:\n",
        "            if letra in letras_corretas:\n",
        "                palavra_misteriosa += letra\n",
        "            else:\n",
        "                palavra_misteriosa += \"_\"\n",
        "\n",
        "        print(f\"Palavra: {palavra_misteriosa}\")\n",
        "        print(f\"Tentativas restantes: {tentativas}\")\n",
        "\n",
        "        letra = input(\"Adivinhe uma letra: \").lower()\n",
        "\n",
        "        if verificar_letra(palavra_secreta, letra):\n",
        "            letras_corretas.add(letra)\n",
        "            if letras_corretas == set(palavra_secreta):\n",
        "                print(f\"Parabéns! Você adivinhou a palavra secreta: '{palavra_secreta}'.\")\n",
        "                return True\n",
        "        else:\n",
        "            print(f\"A letra '{letra}' não está na palavra secreta ou a entrada é inválida.\")\n",
        "            tentativas -= 1\n",
        "\n",
        "    print(f\"Você perdeu! A palavra secreta era: '{palavra_secreta}'.\")\n",
        "    return False\n",
        "\n",
        "# Exemplo de uso:\n",
        "palavra_secreta = \"python\"\n",
        "jogo_da_forca(palavra_secreta)\n"
      ]
    },
    {
      "cell_type": "markdown",
      "metadata": {
        "id": "87XyjgQJECeo"
      },
      "source": [
        "# QUESTÃO 4"
      ]
    },
    {
      "cell_type": "markdown",
      "metadata": {
        "id": "Gfm6Bs3IECeo"
      },
      "source": [
        "Você está desenvolvendo uma função que embaralha as letras de uma palavra para criar palavras embaralhadas.\n",
        "\n",
        "**Instrução:**\n",
        "\n",
        "Crie uma função chamada embaralhar_palavra que aceite uma palavra como argumento e retorne a mesma palavra com suas letras embaralhadas. Independentemente da entrada ser em maiúsculas ou minúsculas, a saída deve estar sempre em letras minúsculas.\n",
        "\n",
        "A palavra deve ser: embaralhados"
      ]
    },
    {
      "cell_type": "markdown",
      "metadata": {
        "id": "daloQzttECep"
      },
      "source": [
        "![Captura%20de%20tela%202023-10-19%20154456.png](attachment:Captura%20de%20tela%202023-10-19%20154456.png)"
      ]
    },
    {
      "cell_type": "code",
      "execution_count": null,
      "metadata": {
        "colab": {
          "base_uri": "https://localhost:8080/"
        },
        "id": "WWSArHbNECep",
        "outputId": "e8deea58-7218-49a7-a8ec-7024fae127f5"
      },
      "outputs": [
        {
          "name": "stdout",
          "output_type": "stream",
          "text": [
            "Palavra original: embaralhados\n",
            "Palavra embaralhada: asmahdboelra\n"
          ]
        }
      ],
      "source": [
        "import random\n",
        "\n",
        "def embaralhar_palavra(palavra):\n",
        "    # Convertemos a palavra para letras minúsculas\n",
        "    palavra = palavra.lower()\n",
        "    # Transformamos a palavra em uma lista de caracteres\n",
        "    lista_letras = list(palavra)\n",
        "    # Embaralhamos a lista de letras\n",
        "    random.shuffle(lista_letras)\n",
        "    # Juntamos as letras embaralhadas de volta em uma palavra\n",
        "    palavra_embaralhada = ''.join(lista_letras)\n",
        "    return palavra_embaralhada\n",
        "\n",
        "# Exemplo de uso:\n",
        "palavra_original = \"embaralhados\"\n",
        "palavra_embaralhada = embaralhar_palavra(palavra_original)\n",
        "print(f\"Palavra original: {palavra_original}\")\n",
        "print(f\"Palavra embaralhada: {palavra_embaralhada}\")"
      ]
    },
    {
      "cell_type": "markdown",
      "metadata": {
        "id": "f0SmCfOvECep"
      },
      "source": [
        "## QUESTÃO 5"
      ]
    },
    {
      "cell_type": "markdown",
      "metadata": {
        "id": "wyW8aHyNECep"
      },
      "source": [
        "# Você está desenvolvendo uma função chamada eh_numero_par que verifica se um número é par ou ímpar. Esta função ajudará a determinar se um número dado é divisível por 2.\n",
        "\n",
        "**Instruções:**\n",
        "\n",
        "Crie uma função chamada eh_numero_par que aceite um número como argumento.\n",
        "\n",
        "Dentro da função, verifique se o número é divisível por 2. Se for divisível por 2, retorne True. Caso contrário, retorne False."
      ]
    },
    {
      "cell_type": "code",
      "execution_count": null,
      "metadata": {
        "colab": {
          "base_uri": "https://localhost:8080/"
        },
        "id": "LwvPtjgyECeq",
        "outputId": "6b4479d5-5a5b-47ff-9974-d56e92159abf"
      },
      "outputs": [
        {
          "name": "stdout",
          "output_type": "stream",
          "text": [
            "Digite um número (ou '0' para sair): 12\n",
            "12 é um número par.\n",
            "Digite um número (ou '0' para sair): 3\n",
            "3 é um número ímpar.\n",
            "Digite um número (ou '0' para sair): 0\n"
          ]
        }
      ],
      "source": [
        "def eh_numero_par(numero):\n",
        "    if numero % 2 == 0:\n",
        "        return True\n",
        "    else:\n",
        "        return False\n",
        "\n",
        "while True:\n",
        "    try:\n",
        "        numero = int(input(\"Digite um número (ou '0' para sair): \"))\n",
        "        if numero == 0:\n",
        "            break\n",
        "        if eh_numero_par(numero):\n",
        "            print(f\"{numero} é um número par.\")\n",
        "        else:\n",
        "            print(f\"{numero} é um número ímpar.\")\n",
        "    except ValueError:\n",
        "        print(\"Entrada inválida. Por favor, digite um número inteiro.\")\n"
      ]
    },
    {
      "cell_type": "markdown",
      "metadata": {
        "id": "j8pFajjiECeq"
      },
      "source": [
        "## QUESTÃO 6"
      ]
    },
    {
      "cell_type": "markdown",
      "metadata": {
        "id": "9wY4GHbgECeq"
      },
      "source": [
        "Você está desenvolvendo um sistema para uma sorveteria que permite aos clientes escolherem seus sabores de sorvete favoritos e montar seus próprios sorvetes. Crie uma função que ajude os clientes a escolher os sabores de sorvete.\n",
        "\n",
        "Crie uma função chamada escolher_sabores que aceite uma lista de sabores de sorvete como argumento. A função deve escolher aleatoriamente um sabor de sorvete da lista e retorná-lo."
      ]
    },
    {
      "cell_type": "markdown",
      "metadata": {
        "id": "hVfc5frrECeq"
      },
      "source": [
        "![Captura%20de%20tela%202023-10-19%20155418.png](attachment:Captura%20de%20tela%202023-10-19%20155418.png)"
      ]
    },
    {
      "cell_type": "code",
      "execution_count": null,
      "metadata": {
        "colab": {
          "base_uri": "https://localhost:8080/"
        },
        "id": "UhbWuOSPECer",
        "outputId": "10519574-9a05-4c7b-ef61-05f416c48e3b"
      },
      "outputs": [
        {
          "name": "stdout",
          "output_type": "stream",
          "text": [
            "Seu sabor escolhido é: Baunilha\n"
          ]
        }
      ],
      "source": [
        "import random\n",
        "\n",
        "def escolher_sabores(sabores_disponiveis):\n",
        "    if sabores_disponiveis:\n",
        "        sabor_escolhido = random.choice(sabores_disponiveis)\n",
        "        return sabor_escolhido\n",
        "    else:\n",
        "        return None\n",
        "\n",
        "# Lista de sabores disponíveis\n",
        "sabores_disponiveis = [\"Baunilha\", \"Chocolate\", \"Morango\", \"Creme\", \"Café\", \"Chocolate com menta\", \"Milho\"]\n",
        "\n",
        "# Exemplo de uso\n",
        "sabor_escolhido = escolher_sabores(sabores_disponiveis)\n",
        "if sabor_escolhido:\n",
        "    print(f\"Seu sabor escolhido é: {sabor_escolhido}\")\n",
        "else:\n",
        "    print(\"Desculpe, não há sabores disponíveis no momento.\")\n"
      ]
    },
    {
      "cell_type": "markdown",
      "metadata": {
        "id": "Ht3-KamAECfN"
      },
      "source": [
        "# Questão 7"
      ]
    },
    {
      "cell_type": "markdown",
      "metadata": {
        "id": "kwiGaNuIECfO"
      },
      "source": [
        "Você está desenvolvendo uma aplicação de gerenciamento de eventos para auxiliar pessoas a planejarem seus compromissos mensais. Para isso, é essencial criar uma função que gera um calendário mensal para que os usuários possam visualizar os dias da semana e planejar seus eventos.\n",
        "\n",
        "Crie uma função chamada gerar_calendario_mensal que aceita dois argumentos: o ano e o mês para o qual você deseja gerar um calendário. A função deve retornar uma representação do calendário do mês especificado, exibindo os dias da semana e os números dos dias do mês."
      ]
    },
    {
      "cell_type": "markdown",
      "metadata": {
        "id": "Q2yksWYnECfO"
      },
      "source": [
        "![Captura%20de%20tela%202023-10-19%20160340.png](attachment:Captura%20de%20tela%202023-10-19%20160340.png)"
      ]
    },
    {
      "cell_type": "code",
      "execution_count": null,
      "metadata": {
        "colab": {
          "base_uri": "https://localhost:8080/"
        },
        "id": "lr8VXt8GECfO",
        "outputId": "ba5a49bc-b8fd-4877-d16f-e588a55f8659"
      },
      "outputs": [
        {
          "name": "stdout",
          "output_type": "stream",
          "text": [
            "    October 2023\n",
            "Mo Tu We Th Fr Sa Su\n",
            "                   1\n",
            " 2  3  4  5  6  7  8\n",
            " 9 10 11 12 13 14 15\n",
            "16 17 18 19 20 21 22\n",
            "23 24 25 26 27 28 29\n",
            "30 31\n",
            "\n"
          ]
        }
      ],
      "source": [
        "import calendar\n",
        "\n",
        "def gerar_calendario_mensal(ano, mes):\n",
        "    calendario = calendar.month(ano, mes)\n",
        "    return calendario\n",
        "\n",
        "# Exemplo de uso:\n",
        "ano = 2023\n",
        "mes = 10  # Outubro\n",
        "\n",
        "calendario_mensal = gerar_calendario_mensal(ano, mes)\n",
        "print(calendario_mensal)\n"
      ]
    },
    {
      "cell_type": "markdown",
      "metadata": {
        "id": "8bijfqBKECfP"
      },
      "source": [
        "# Questão 8"
      ]
    },
    {
      "cell_type": "markdown",
      "metadata": {
        "id": "TAVBxqEgECfP"
      },
      "source": [
        "É outubrooooo!!!!!\n",
        "Você está se preparando para o Halloween e deseja criar um programa para contar a quantidade de doces que você coletou durante o \"doces ou travessuras\". Crie uma função que simule a contagem de doces."
      ]
    },
    {
      "cell_type": "markdown",
      "metadata": {
        "id": "8DRp-C6gECfP"
      },
      "source": [
        "Crie uma função chamada contar_doces que aceite uma lista de tipos de doces como argumento. A função deve contar quantas vezes cada tipo de doce aparece na lista e retornar um dicionário onde as chaves são os tipos de doces e os valores são as quantidades correspondentes."
      ]
    },
    {
      "cell_type": "code",
      "execution_count": null,
      "metadata": {
        "colab": {
          "base_uri": "https://localhost:8080/"
        },
        "id": "OG-nK2ScECfQ",
        "outputId": "c49c85eb-81ca-4447-ad4c-d999af1ca54b"
      },
      "outputs": [
        {
          "name": "stdout",
          "output_type": "stream",
          "text": [
            "{'chocolate': 2, 'pirulito': 3, 'caramelo': 1}\n"
          ]
        }
      ],
      "source": [
        "def contar_doces(lista_de_doces):\n",
        "    contagem = {}\n",
        "    for doce in lista_de_doces:\n",
        "        doce = doce.lower()  # Convertendo para letras minúsculas para tratar tipos de doce de forma insensível a maiúsculas/minúsculas\n",
        "        if doce in contagem:\n",
        "            contagem[doce] += 1\n",
        "        else:\n",
        "            contagem[doce] = 1\n",
        "    return contagem\n",
        "\n",
        "# Exemplo de uso com os tipos de doces fornecidos\n",
        "doces_coletados = [\"chocolate\", \"chocolate\", \"pirulito\", \"caramelo\", \"pirulito\", \"pirulito\"]\n",
        "contagem_de_doces = contar_doces(doces_coletados)\n",
        "\n",
        "print(contagem_de_doces)"
      ]
    },
    {
      "cell_type": "markdown",
      "metadata": {
        "id": "MElgB-KGECfQ"
      },
      "source": [
        "# DESAFIO"
      ]
    },
    {
      "cell_type": "markdown",
      "metadata": {
        "id": "fUk8vfx3ECfR"
      },
      "source": [
        "Quem não gosta de jogar um bingo na igreja e ganhar uns potes de plásticos maneiros???\n",
        "Vamos jogar no Python? Crie um jogo de bingo onde a pessoa deve pressionar \"Enter\" para sortear cada número. Os números sorteados estão limitados a um intervalo de 1 a 20.\n",
        "\n",
        "Instruções:\n",
        "\n",
        "Crie uma função chamada sortear_bingo que não aceita argumentos.\n",
        "\n",
        "Inicialize uma lista vazia chamada numeros_sorteados para acompanhar os números sorteados.\n",
        "\n",
        "Inicialize uma cartela de bingo com números de 1 a 20. A cartela pode ser uma lista de 2 listas com 5 números cada. Cada número deve ser único na cartela.\n",
        "\n",
        "Utilize um loop para simular o sorteio de números de 1 a 20. Certifique-se de que os números sorteados sejam únicos.\n",
        "\n",
        "Exiba cada número sorteado na tela e a cartela do jogador.\n",
        "\n",
        "Peça à pessoa que pressione \"Enter\" para sortear o próximo número a cada rodada.\n",
        "\n",
        "Marque o número sorteado na cartela do jogador.\n",
        "\n",
        "Continue o sorteio até que todos os números de 1 a 20 tenham sido sorteados. Quando isso acontecer, exiba \"Bingo!\"."
      ]
    },
    {
      "cell_type": "markdown",
      "metadata": {
        "id": "zRNQ93FEECfR"
      },
      "source": [
        "sua cartela será:"
      ]
    },
    {
      "cell_type": "markdown",
      "metadata": {
        "id": "Q0PUUFkfECfS"
      },
      "source": [
        "![Captura%20de%20tela%202023-10-19%20152736.png](attachment:Captura%20de%20tela%202023-10-19%20152736.png)"
      ]
    },
    {
      "cell_type": "code",
      "execution_count": null,
      "metadata": {
        "colab": {
          "background_save": true,
          "base_uri": "https://localhost:8080/"
        },
        "id": "Wj0LSLYqECfS",
        "outputId": "aaf223f8-6d72-474a-f598-53780cd485e8"
      },
      "outputs": [
        {
          "name": "stdout",
          "output_type": "stream",
          "text": [
            "Bem-vindo ao Jogo de Bingo!\n",
            "Número sorteado: 7\n",
            "Sua cartela de jogador:\n",
            "[1, 8, 10]\n",
            "[5, 3, 'X']\n",
            "[2, 6, 9]\n",
            "Número sorteado: 1\n",
            "Sua cartela de jogador:\n",
            "['X', 8, 10]\n",
            "[5, 3, 'X']\n",
            "[2, 6, 9]\n",
            "Número sorteado: 20\n",
            "Sua cartela de jogador:\n",
            "['X', 8, 10]\n",
            "[5, 3, 'X']\n",
            "[2, 6, 9]\n"
          ]
        }
      ],
      "source": [
        "cartela_jogador = [\n",
        "    [1,8,10],\n",
        "    [5,3,7],\n",
        "    [2,6,9],\n",
        "]\n",
        "\n",
        "import random\n",
        "\n",
        "def sortear_bingo():\n",
        "    numeros_sorteados = []\n",
        "    cartela_jogador = [\n",
        "        [1, 8, 10],\n",
        "        [5, 3, 7],\n",
        "        [2, 6, 9]\n",
        "    ]\n",
        "\n",
        "    print(\"Bem-vindo ao Jogo de Bingo!\")\n",
        "\n",
        "    while numeros_sorteados != list(range(1, 21)):\n",
        "        input(\"Pressione Enter para sortear um número...\")\n",
        "        numero_sorteado = random.randint(1, 20)\n",
        "\n",
        "        if numero_sorteado not in numeros_sorteados:\n",
        "            numeros_sorteados.append(numero_sorteado)\n",
        "            print(f\"Número sorteado: {numero_sorteado}\")\n",
        "\n",
        "            for i in range(3):\n",
        "                for j in range(3):\n",
        "                    if cartela_jogador[i][j] == numero_sorteado:\n",
        "                        cartela_jogador[i][j] = \"X\"\n",
        "\n",
        "            print(\"Sua cartela de jogador:\")\n",
        "            for linha in cartela_jogador:\n",
        "                print(linha)\n",
        "\n",
        "    print(\"Bingo!\")\n",
        "\n",
        "# Chama a função para iniciar o jogo de bingo\n",
        "sortear_bingo()"
      ]
    }
  ],
  "metadata": {
    "colab": {
      "provenance": []
    },
    "kernelspec": {
      "display_name": "Python 3 (ipykernel)",
      "language": "python",
      "name": "python3"
    },
    "language_info": {
      "codemirror_mode": {
        "name": "ipython",
        "version": 3
      },
      "file_extension": ".py",
      "mimetype": "text/x-python",
      "name": "python",
      "nbconvert_exporter": "python",
      "pygments_lexer": "ipython3",
      "version": "3.11.4"
    }
  },
  "nbformat": 4,
  "nbformat_minor": 0
}