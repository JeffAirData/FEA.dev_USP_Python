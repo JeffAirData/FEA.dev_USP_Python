{
  "cells": [
    {
      "cell_type": "markdown",
      "metadata": {
        "id": "bKNA6ShrHXk7"
      },
      "source": [
        "![WhatsApp%20Image%202023-09-10%20at%2011.20.28.jpeg](attachment:WhatsApp%20Image%202023-09-10%20at%2011.20.28.jpeg)\n"
      ]
    },
    {
      "cell_type": "markdown",
      "metadata": {
        "id": "GdnqONojHXk-"
      },
      "source": [
        "# Fala devs, blz??\n",
        "\n",
        "Esta será nossa segunda lista de exercícios para você testar seu conhecimento acerca do conteúdo do MÓDULO 3:\n",
        "\n",
        "-Condicionais\n",
        "\n",
        "\n",
        "-Loops"
      ]
    },
    {
      "cell_type": "markdown",
      "metadata": {
        "id": "CMPmmDPUHXk-"
      },
      "source": [
        "## INSTRUÇÕES:\n",
        "\n",
        "A lista deve ser realizada pelo Jupyter Notebook.\n",
        "\n",
        "Nâo é necessário entregar a lista para afins de certificado dentro da plataforma, entretanto para alunos da USP que queiram participar do processo seletivo ou conseguir créditos AAC (apenas FEANOS) é necessária a entrega de TODAS as listas.\n",
        "\n",
        "A entrega das listas ou pelo menos sua excecução é recomendada a fim de exercitar todo o conhecimento adquirido do curso.\n",
        "\n",
        "O DESAFIO é para realmente te desafiar, por isso não desista de tentar e de continuar com o curso, ao longo das listas você verá que cada vez mais você terá ferramentas para completá-lo.\n",
        "\n",
        "Caso haja alguma dúvida acerca da lista participe das monitorias que serão oferecidas as quintas e sábados das 17h as 18h pelo DISCORD. Caso seu problema não seje resolvido envie uma mensagem para contato.feadev@gmail.com\n",
        "\n",
        "O gabarito será disponibilizado na plataforma após o término de periodo de envio\n",
        "\n"
      ]
    },
    {
      "cell_type": "code",
      "execution_count": null,
      "metadata": {
        "id": "weVqblklHXk_"
      },
      "outputs": [],
      "source": [
        "## vamos começar??"
      ]
    },
    {
      "cell_type": "markdown",
      "metadata": {
        "id": "ZrCmEBBfHXlA"
      },
      "source": [
        "## QUESTÃO 0"
      ]
    },
    {
      "cell_type": "markdown",
      "metadata": {
        "id": "_SRntY62HXlA"
      },
      "source": [
        "Escreva um programa em Python que solicite ao usuário que insira um número inteiro e, em seguida, verifique se o número é par ou ímpar. Se for par, o programa deve imprimir \"O número é par.\" Caso contrário, deve imprimir \"O número é ímpar.\""
      ]
    },
    {
      "cell_type": "markdown",
      "metadata": {
        "id": "yNKlBUZ3HXlA"
      },
      "source": [
        "#### LEMBRE-SE\n",
        "\n",
        "**int (Número Inteiro):**\n",
        "\n",
        "O tipo de dado int representa números inteiros, ou seja, números sem casas decimais.\n",
        "\n",
        "Exemplos de inteiros incluem -3, 0, 42, 1001, etc.\n",
        "\n",
        "Você pode realizar operações aritméticas, como adição, subtração, multiplicação e divisão, com números inteiros.\n",
        "\n",
        "**float (Número de Ponto Flutuante):**\n",
        "\n",
        "O tipo de dado float representa números de ponto flutuante, que têm casas decimais.\n",
        "\n",
        "Exemplos de números de ponto flutuante incluem 3.14, -0.5, 2.71828, etc.\n",
        "\n",
        "Você pode realizar operações aritméticas com números de ponto flutuante da mesma forma que com inteiros.\n",
        "\n",
        "**Quando precisar especificar qual tipo de número você aceitará na resposta utilize:**\n",
        "\n",
        "**numero = float(input(\"Digite um número: \"))**\n",
        "\n",
        "\n",
        "**numero = int(input(\"Digite um número: \"))**\n",
        "\n",
        "\n"
      ]
    },
    {
      "cell_type": "code",
      "execution_count": null,
      "metadata": {
        "colab": {
          "base_uri": "https://localhost:8080/"
        },
        "id": "ioZSooAUHXlA",
        "outputId": "88a82c54-6bc8-4405-e0cd-2f1b3d898fc6"
      },
      "outputs": [
        {
          "output_type": "stream",
          "name": "stdout",
          "text": [
            "Digite um número: -250\n",
            "O número é negativo\n"
          ]
        }
      ],
      "source": [
        "# Solicita ao usuário que insira um número\n",
        "numero = int(input(\"Digite um número: \"))\n",
        "\n",
        "# Verifica se o número é positivo, negativo ou zero\n",
        "if numero > 0:\n",
        "    print(\"O número é positivo\")\n",
        "elif numero == 0:\n",
        "    print(\"O número é zero\")\n",
        "else:\n",
        "    print(\"O número é negativo\")\n",
        "\n",
        "\n"
      ]
    },
    {
      "cell_type": "code",
      "source": [
        "# Creio ter havido um erro ao repassar a questão aos alunos. O que fora abordado inicialmente deveria ter sido se o número é par ou ímpar, assim:\n",
        "\n",
        "# Solicita ao usuário que insira um número\n",
        "numero = int(input(\"Digite um número: \"))\n",
        "\n",
        "# Verifica se o número é par ou ímpar. Solicitando que o usuário insira um número inteiro, em seguida, verifica-se se o número é par ou ímpar usando o operador de módulo %. Se o resto da divisão por 2 for igual a 0, o número é par e a mensagem \"O número é par\" é impressa. Caso contrário, a mensagem \"O número é ímpar\" é impressa. Deste modo:\n",
        "if numero % 2 == 0:\n",
        "    print(\"O número é par.\")\n",
        "else:\n",
        "    print(\"O número é ímpar.\")\n"
      ],
      "metadata": {
        "colab": {
          "base_uri": "https://localhost:8080/"
        },
        "id": "WjbbOYO9XqgS",
        "outputId": "fd592eeb-3332-4bef-e8e3-7fcc78a486b5"
      },
      "execution_count": null,
      "outputs": [
        {
          "output_type": "stream",
          "name": "stdout",
          "text": [
            "Digite um número: 55\n",
            "O número é ímpar.\n"
          ]
        }
      ]
    },
    {
      "cell_type": "markdown",
      "metadata": {
        "id": "Vfb0WRk9HXlB"
      },
      "source": [
        "## QUESTÃO 1\n"
      ]
    },
    {
      "cell_type": "markdown",
      "metadata": {
        "id": "ZOtE4uEEHXlB"
      },
      "source": [
        "Você está criando um programa de boas-vindas em Python para um jogo simples. Você deseja que o programa peça ao jogador para inserir um número, e com base nesse número, o programa dará uma resposta personalizada. Se o número inserido pelo jogador for maior que 10, o programa dará as boas-vindas a um jogador experiente. Se for 10 ou menor, o programa dará as boas-vindas a um jogador iniciante. Você precisa usar uma estrutura condicional (if-else) para fazer isso.\n",
        "\n",
        "Crie um programa em Python que peça ao jogador para digitar um número inteiro. Em seguida, verifique se o número é maior que 10. Se for maior que 10, imprima \"Bem-vindo, jogador experiente!\". Se for 10 ou menor, imprima \"Bem-vindo, jogador iniciante!\". Certifique-se de usar uma estrutura condicional (if-else) para determinar a saída com base no número inserido pelo jogador.\n",
        "\n",
        "\n",
        "\n",
        "lembre-se para pedir que o jogador insira um número você deve usar *input*\n"
      ]
    },
    {
      "cell_type": "markdown",
      "metadata": {
        "id": "B3rrBdAZHXlB"
      },
      "source": [
        "A função input() em Python é usada para receber entradas de texto (ou outros tipos de dados, que são tratados como texto) do usuário através do teclado. Ela permite que um programa interaja com o usuário, solicitando que ele insira informações durante a execução do programa.\n",
        "\n",
        "A sintaxe básica do input() é a seguinte:"
      ]
    },
    {
      "cell_type": "code",
      "execution_count": null,
      "metadata": {
        "id": "d6AuyqMIHXlC"
      },
      "outputs": [],
      "source": [
        "variavel = input(\"Texto da solicitação: \")"
      ]
    },
    {
      "cell_type": "markdown",
      "metadata": {
        "id": "x8KMZc0_HXlC"
      },
      "source": [
        "\"Texto da solicitação\" é a mensagem que será exibida ao usuário, pedindo-lhe que insira algo.\n",
        "O valor digitado pelo usuário é armazenado na variável especificada (nesse caso, na variável variavel)."
      ]
    },
    {
      "cell_type": "code",
      "execution_count": null,
      "metadata": {
        "id": "Gs_nqIp8HXlB",
        "outputId": "b164f79a-4a23-4a17-f56d-5353dc1209b6",
        "colab": {
          "base_uri": "https://localhost:8080/"
        }
      },
      "outputs": [
        {
          "output_type": "stream",
          "name": "stdout",
          "text": [
            "Digite um número inteiro: 100\n",
            "Bem-vindo, jogador experiente!\n"
          ]
        }
      ],
      "source": [
        "# Solicitar ao jogador que insira um número inteiro\n",
        "numero = int(input(\"Digite um número inteiro: \"))\n",
        "\n",
        "# Verificar se o número é maior que 10\n",
        "if numero > 10:\n",
        "    print(\"Bem-vindo, jogador experiente!\")\n",
        "else:\n",
        "    print(\"Bem-vindo, jogador iniciante!\")\n"
      ]
    },
    {
      "cell_type": "markdown",
      "metadata": {
        "id": "mLOf1CQJHXlC"
      },
      "source": [
        "## QUESTÃO 2\n",
        "\n"
      ]
    },
    {
      "cell_type": "markdown",
      "metadata": {
        "id": "C4DXRyhwHXlC"
      },
      "source": [
        " Você deseja criar um programa que ajude os eleitores a entenderem se são obrigados a votar ou se têm apenas o direito de votar com base em sua idade.  Faça um programa que ao digitar a idade, ele diga se a pessoa já pode votar, se é obrigatório ou não\n",
        "\n",
        "* Faixas de idade e output esperados:*\n",
        "  - até 16 anos: \"Não pode votar\"\n",
        "  - Entre 16 e 18 anos: \"Direito a voto, mas não obrigatório\"\n",
        "  - Entre 16 e 70: \"Voto Obrigatório\"\n",
        "  - A partir de 70: \"Direito a voto, mas não obrigatório\""
      ]
    },
    {
      "cell_type": "markdown",
      "metadata": {
        "id": "KNSVDteHHXlC"
      },
      "source": [
        "![Captura%20de%20tela%202023-10-09%20150019.png](attachment:Captura%20de%20tela%202023-10-09%20150019.png)"
      ]
    },
    {
      "cell_type": "code",
      "execution_count": null,
      "metadata": {
        "id": "gS-P6pyCHXlC",
        "colab": {
          "base_uri": "https://localhost:8080/"
        },
        "outputId": "255e7eff-0eeb-4db4-94a2-eb44cfd772ce"
      },
      "outputs": [
        {
          "output_type": "stream",
          "name": "stdout",
          "text": [
            "Digite sua idade: 17\n",
            "Direito a voto, mas não obrigatório\n"
          ]
        }
      ],
      "source": [
        "# Solicitar ao usuário que insira a idade\n",
        "idade = int(input(\"Digite sua idade: \"))\n",
        "\n",
        "# Verificar a faixa etária e imprimir o resultado\n",
        "if idade <= 16:\n",
        "    print(\"Não pode votar\")\n",
        "elif 16 < idade < 18:\n",
        "    print(\"Direito a voto, mas não obrigatório\")\n",
        "elif 18 <= idade <= 70:\n",
        "    print(\"Voto Obrigatório\")\n",
        "else:\n",
        "    print(\"Direito a voto, mas não obrigatório\")"
      ]
    },
    {
      "cell_type": "markdown",
      "metadata": {
        "id": "NGkIERIdHXlC"
      },
      "source": [
        "## QUESTÃO 3"
      ]
    },
    {
      "cell_type": "markdown",
      "metadata": {
        "id": "RPGHpNxIHXlC"
      },
      "source": [
        "Você descobriu um sebo perto da sua casa e resolve dar uma olhada e encontra muitos títulos interessantes. Mas como você não está nadando em dinheiro, terá que fazer algumas escolhas.\n",
        "- Escreva um programa que retorne se você deverá comprar ou não o livro, considerando que:\n",
        "  - Ele precisa estar na sua wishlist (nada de comprar por impulso);\n",
        "  - O preço do sebo deve ser mais barato do que na internet."
      ]
    },
    {
      "cell_type": "markdown",
      "metadata": {
        "id": "RnRMN-mrHXlC"
      },
      "source": [
        "a) Você deverá comprar Moby Dick?\n",
        "\n",
        "b) Você deverá comprar Crime e Castigo?\n",
        "\n",
        "c) Você deverá comprar a Odisseia?\n"
      ]
    },
    {
      "cell_type": "markdown",
      "metadata": {
        "id": "wCapqvlGHXlD"
      },
      "source": [
        "![Captura%20de%20tela%202023-10-09%20135957.png](attachment:Captura%20de%20tela%202023-10-09%20135957.png)"
      ]
    },
    {
      "cell_type": "code",
      "execution_count": null,
      "metadata": {
        "id": "lloihUpwHXlD",
        "colab": {
          "base_uri": "https://localhost:8080/"
        },
        "outputId": "73f17681-81c6-4262-b87a-fa370b386407"
      },
      "outputs": [
        {
          "output_type": "stream",
          "name": "stdout",
          "text": [
            "Você deve comprar 'Moby Dick' no sebo, pois está na wishlist e é mais barato do que na internet.\n",
            "Você não deve comprar 'Crime e Castigo' no sebo, pois não está na wishlist ou não tem informações de preço.\n",
            "Não compre 'Odisseia' no sebo, pois está na wishlist, mas é mais caro do que na internet.\n"
          ]
        }
      ],
      "source": [
        "wishlist = ['Moby Dick', 'Helena', 'A Origem das Espécies', 'Grande Sertão: Veredas', 'Odisseia', 'Rápido e Devagar', 'Sidarta']\n",
        "\n",
        "precos_sebo = {'Odisseia':50, 'Jane Eyre':61, 'A Divina Comédia': 56, 'Helena':10, 'Moby Dick':55, 'Crime e Castigo':20}\n",
        "precos_internet = {'Odisseia':30, 'Jane Eyre':32, 'A Divina Comédia': 22, 'Helena':26, 'Moby Dick':145, 'Crime e Castigo':80}\n",
        "\n",
        "#####SEU CODIGO COMECA AQUI#####\n",
        "\n",
        "# Função para determinar se você deve comprar um livro\n",
        "def deve_comprar_livro(livro):\n",
        "    if livro in wishlist and livro in precos_sebo and livro in precos_internet:\n",
        "        preco_sebo = precos_sebo[livro]\n",
        "        preco_internet = precos_internet[livro]\n",
        "        if preco_sebo < preco_internet:\n",
        "            return f\"Você deve comprar '{livro}' no sebo, pois está na wishlist e é mais barato do que na internet.\"\n",
        "        else:\n",
        "            return f\"Não compre '{livro}' no sebo, pois está na wishlist, mas é mais caro do que na internet.\"\n",
        "    else:\n",
        "        return f\"Você não deve comprar '{livro}' no sebo, pois não está na wishlist ou não tem informações de preço.\"\n",
        "\n",
        "# Verificação para os livros em questão\n",
        "print(deve_comprar_livro('Moby Dick'))\n",
        "print(deve_comprar_livro('Crime e Castigo'))\n",
        "print(deve_comprar_livro('Odisseia'))"
      ]
    },
    {
      "cell_type": "markdown",
      "metadata": {
        "id": "mxltwwFyHXlD"
      },
      "source": [
        "# QUESTÃO 4"
      ]
    },
    {
      "cell_type": "markdown",
      "metadata": {
        "id": "omK9buIZHXlD"
      },
      "source": [
        "Você está comprando uma sobremesa em uma cafeteria. O preço da sobremesa pode variar, e você tem um voucher que cobre até $20. Se a sobremesa custar mais, você precisará pagar a diferença. Se custar menos, você economizará o valor restante do voucher."
      ]
    },
    {
      "cell_type": "markdown",
      "metadata": {
        "id": "Kcnypp2oHXlD"
      },
      "source": [
        "Crie um programa em Python que solicite o preço da sobremesa que você deseja comprar. Em seguida, o programa deve calcular se a operação foi vantajosa e quanto você economizou ou precisa pagar a mais.\n",
        "\n",
        "Se o preço da sobremesa for maior que 20, o programa deve imprimir \"Você precisa pagar X a mais.\" (onde X é a diferença entre o preço da sobremesa e 20).\n",
        "\n",
        "Se o preço da sobremesa for igual a 20, o programa deve imprimir \"Você não precisa pagar nada a mais.\"\n",
        "\n",
        "Se o preço da sobremesa for menor que 20, o programa deve imprimir \"Você economizou X.\" (onde X é a diferença entre 20 e o preço da sobremesa)."
      ]
    },
    {
      "cell_type": "markdown",
      "metadata": {
        "id": "Hdrsh6E_HXlD"
      },
      "source": [
        "![Captura%20de%20tela%202023-10-09%20140707.png](attachment:Captura%20de%20tela%202023-10-09%20140707.png)"
      ]
    },
    {
      "cell_type": "code",
      "execution_count": null,
      "metadata": {
        "id": "sVBUwXj-HXlD",
        "colab": {
          "base_uri": "https://localhost:8080/"
        },
        "outputId": "279bc03f-d12a-448f-9022-2e3692f40782"
      },
      "outputs": [
        {
          "output_type": "stream",
          "name": "stdout",
          "text": [
            "Digite o preço da sobremesa: 50\n",
            "Você precisa pagar $30.00 a mais.\n"
          ]
        }
      ],
      "source": [
        "# Solicite o preço da sobremesa\n",
        "# Defina o preço máximo coberto pelo voucher\n",
        "# Calcule a diferença entre o preço da sobremesa e o valor do voucher\n",
        "# Verifi1que se você precisa pagar a mais, economizou ou não precisa pagar nada a mais\n",
        "\n",
        "\n",
        "# Solicitar o preço da sobremesa\n",
        "preco_sobremesa = float(input(\"Digite o preço da sobremesa: \"))\n",
        "\n",
        "# Definir o preço máximo coberto pelo voucher\n",
        "valor_voucher = 20.0\n",
        "\n",
        "# Calcular a diferença entre o preço da sobremesa e o valor do voucher\n",
        "diferenca = preco_sobremesa - valor_voucher\n",
        "\n",
        "# Verificar se você precisa pagar a mais, economizou ou não precisa pagar nada a mais\n",
        "if diferenca > 0:\n",
        "    print(f\"Você precisa pagar ${diferenca:.2f} a mais.\")\n",
        "elif diferenca == 0:\n",
        "    print(\"Você não precisa pagar nada a mais.\")\n",
        "else:\n",
        "    economia = -diferenca\n",
        "    print(f\"Você economizou ${economia:.2f}.\")"
      ]
    },
    {
      "cell_type": "markdown",
      "source": [],
      "metadata": {
        "id": "lMgE3wHCQP66"
      }
    },
    {
      "cell_type": "markdown",
      "metadata": {
        "id": "vddpec3XHXlD"
      },
      "source": [
        "## QUESTÃO 5"
      ]
    },
    {
      "cell_type": "markdown",
      "metadata": {
        "id": "fUaqlQ4-HXlD"
      },
      "source": [
        "a)Escreva um programa em Python que use um loop para imprimir os números de 1 a 5.\n",
        "\n",
        "A saída do programa deve ser algo como:\n",
        "\n",
        "1\n",
        "\n",
        "2\n",
        "\n",
        "3\n",
        "\n",
        "4\n",
        "\n",
        "5\n"
      ]
    },
    {
      "cell_type": "code",
      "execution_count": null,
      "metadata": {
        "id": "17qwfTrUHXlD",
        "colab": {
          "base_uri": "https://localhost:8080/"
        },
        "outputId": "625ddf30-f0ee-411b-f05c-cfd5c80c0a09"
      },
      "outputs": [
        {
          "output_type": "stream",
          "name": "stdout",
          "text": [
            "1\n",
            "2\n",
            "3\n",
            "4\n",
            "5\n"
          ]
        }
      ],
      "source": [
        "#Você pode usar um loop for ou while para resolver este exercício, conforme preferir.\n",
        "\n",
        "# Usando um loop for para imprimir os números de 1 a 5\n",
        "for numero in range(1, 6):\n",
        "    print(numero)"
      ]
    },
    {
      "cell_type": "markdown",
      "metadata": {
        "id": "mtqf3lCGHXlD"
      },
      "source": [
        " b)Você ficou animado com o novo programa criado acima para imprimir os números e mostrou pra um amigo que dá aula para o fundamental 1. Ao ver a mágica acontecendo seu amigo implorou para que você construísse uma tabuada automática para ele.\n",
        "\n",
        "Escreva um código que receba o input de um número e retorne sua tabuada padrão, multiplicando até 10 e ajude o profesor a automatizar suas aulas.\n",
        "  \n",
        " OBS: deixe sua tabuada toda alinhada conforme exemplo:\n",
        "\n",
        "    n = 7\n",
        "    \n",
        "    7 x 1 = 7\n",
        "    7 x 2 = 14\n",
        "    .\n",
        "    .\n",
        "    .\n",
        "    7 X  9 = 63\n",
        "    7 X 10 = 70"
      ]
    },
    {
      "cell_type": "code",
      "execution_count": null,
      "metadata": {
        "id": "Lzv3f14JHXlD",
        "colab": {
          "base_uri": "https://localhost:8080/"
        },
        "outputId": "12eebbdd-7907-4f45-aacd-5328d4ae055d"
      },
      "outputs": [
        {
          "output_type": "stream",
          "name": "stdout",
          "text": [
            "Digite um número para a tabuada: 8\n",
            "8 x 1 = 8\n",
            "8 x 2 = 16\n",
            "8 x 3 = 24\n",
            "8 x 4 = 32\n",
            "8 x 5 = 40\n",
            "8 x 6 = 48\n",
            "8 x 7 = 56\n",
            "8 x 8 = 64\n",
            "8 x 9 = 72\n",
            "8 x 10 = 80\n"
          ]
        }
      ],
      "source": [
        "# Solicitar ao usuário que insira um número\n",
        "numero = int(input(\"Digite um número para a tabuada: \"))\n",
        "\n",
        "# Imprimir a tabuada do número de 1 a 10\n",
        "for i in range(1, 11):\n",
        "    resultado = numero * i\n",
        "    print(f\"{numero} x {i} = {resultado}\")"
      ]
    },
    {
      "cell_type": "markdown",
      "metadata": {
        "id": "gMbishA9HXlE"
      },
      "source": [
        "## QUESTÃO 6"
      ]
    },
    {
      "cell_type": "markdown",
      "metadata": {
        "id": "ns2fvlenHXlE"
      },
      "source": [
        "**Bad Romance:**\n",
        "\n",
        "De volta a 2009. Tem umas músicas com um refrão tão gostosinho que fica martelando na nossa mente, então vamos aproveitar para analisar e exercitar nossas skills de programação. Escreva um código que conte quantas vezes a letra \"a\" aparece em duas estrofes do famoso hit de Lady Gaga:\n"
      ]
    },
    {
      "cell_type": "markdown",
      "metadata": {
        "id": "E5USUF1RHXlE"
      },
      "source": [
        "![Captura%20de%20tela%202023-10-09%20142324.png](attachment:Captura%20de%20tela%202023-10-09%20142324.png)"
      ]
    },
    {
      "cell_type": "code",
      "execution_count": null,
      "metadata": {
        "id": "4KOFR0zJHXlE",
        "colab": {
          "base_uri": "https://localhost:8080/"
        },
        "outputId": "8ce811df-98f1-43f4-bcc9-c893d38f5fd4"
      },
      "outputs": [
        {
          "output_type": "stream",
          "name": "stdout",
          "text": [
            "A letra \"a\" aparece 30 vezes nas duas estrofes da música.\n"
          ]
        }
      ],
      "source": [
        "# Letras da música\n",
        "bad_romance = \"\"\"Rah, rah-ah-ah-ah\n",
        "Roma, roma-ma\n",
        "Gaga, ooh-la-la\n",
        "Want your bad romance\n",
        "\n",
        "Rah, rah-ah-ah-ah\n",
        "Roma, roma-ma\n",
        "Gaga, ooh-la-la\n",
        "Want your bad romance\"\"\"\n",
        "\n",
        "# Contar a ocorrência da letra 'a' (maiúscula e minúscula)\n",
        "contagem_a = bad_romance.lower().count('a')\n",
        "\n",
        "# Imprimir a contagem\n",
        "print(f'A letra \"a\" aparece {contagem_a} vezes nas duas estrofes da música.')"
      ]
    },
    {
      "cell_type": "markdown",
      "metadata": {
        "id": "EVf7DsNRHXlE"
      },
      "source": [
        "# Questão 7"
      ]
    },
    {
      "cell_type": "markdown",
      "metadata": {
        "id": "SoUtR-7HHXlE"
      },
      "source": [
        "O grande poder dos Loops é que você poder printar elementos em uma velocidade muuito maior. Utilize esse novo poder para printar os digitos de 1 a 9 da seguinte maneira:"
      ]
    },
    {
      "cell_type": "code",
      "execution_count": null,
      "metadata": {
        "id": "DWxlEvtZHXlH"
      },
      "outputs": [],
      "source": [
        "\"\"\"\n",
        "1\n",
        "22\n",
        "333\n",
        "4444\n",
        "55555\n",
        "666666\n",
        "7777777\n",
        "88888888\n",
        "999999999\n",
        "\"\"\""
      ]
    },
    {
      "cell_type": "code",
      "execution_count": null,
      "metadata": {
        "id": "3iYoQNQ-HXlH",
        "colab": {
          "base_uri": "https://localhost:8080/"
        },
        "outputId": "8b5e8d88-c3a1-4f64-d1c1-37db33af90fc"
      },
      "outputs": [
        {
          "output_type": "stream",
          "name": "stdout",
          "text": [
            "1\n",
            "22\n",
            "333\n",
            "4444\n",
            "55555\n",
            "666666\n",
            "7777777\n",
            "88888888\n",
            "999999999\n"
          ]
        }
      ],
      "source": [
        "# Usando loops para imprimir os dígitos de 1 a 9\n",
        "for i in range(1, 10):\n",
        "    print(str(i) * i)"
      ]
    },
    {
      "cell_type": "markdown",
      "metadata": {
        "id": "r7BdB_hSHXlI"
      },
      "source": [
        "# Questão 8"
      ]
    },
    {
      "cell_type": "code",
      "execution_count": null,
      "metadata": {
        "id": "3UZNneEpHXlI"
      },
      "outputs": [],
      "source": [
        "Escreva um código que receba o input de um número e verifique se ele é primo ou não."
      ]
    },
    {
      "cell_type": "markdown",
      "metadata": {
        "id": "rhTrHhtEHXlI"
      },
      "source": [
        "![Captura%20de%20tela%202023-10-09%20143231.png](attachment:Captura%20de%20tela%202023-10-09%20143231.png)"
      ]
    },
    {
      "cell_type": "code",
      "execution_count": null,
      "metadata": {
        "id": "VmspJIJEHXlI"
      },
      "outputs": [],
      "source": [
        "# Solicita ao usuário que insira um número\n",
        "# Verifica se o número é maior que 1\n",
        "# Inicializa uma variável para contar os divisores\n",
        "# Loop para verificar se o número é primo\n",
        "# Se encontrarmos um divisor, podemos parar de verificar\n",
        "# Se não houver divisores além de 1 e o próprio número, é primo\n"
      ]
    },
    {
      "cell_type": "code",
      "execution_count": null,
      "metadata": {
        "id": "ZJeQMXFvHXlI",
        "colab": {
          "base_uri": "https://localhost:8080/"
        },
        "outputId": "d2afedce-cdf2-40e9-f118-92a1584cd270"
      },
      "outputs": [
        {
          "output_type": "stream",
          "name": "stdout",
          "text": [
            "Digite um número: 2\n",
            "2 é um número primo.\n"
          ]
        }
      ],
      "source": [
        "# Solicitar ao usuário que insira um número\n",
        "numero = int(input(\"Digite um número: \"))\n",
        "\n",
        "# Verificar se o número é maior que 1\n",
        "if numero > 1:\n",
        "    # Inicializar uma variável para contar os divisores\n",
        "    divisores = 0\n",
        "\n",
        "    # Loop para verificar se o número é primo\n",
        "    for i in range(2, numero):\n",
        "        if numero % i == 0:\n",
        "            divisores += 1\n",
        "            break  # Se encontrarmos um divisor, podemos parar de verificar\n",
        "\n",
        "    # Se não houver divisores além de 1 e o próprio número, é primo\n",
        "    if divisores == 0:\n",
        "        print(f\"{numero} é um número primo.\")\n",
        "    else:\n",
        "        print(f\"{numero} não é um número primo.\")\n",
        "else:\n",
        "    print(f\"{numero} não é um número primo, pois deve ser maior que 1.\")"
      ]
    },
    {
      "cell_type": "markdown",
      "metadata": {
        "id": "paA8-vzmHXlI"
      },
      "source": [
        "# Questão 9"
      ]
    },
    {
      "cell_type": "markdown",
      "metadata": {
        "id": "-jrGIW61HXlI"
      },
      "source": [
        "Crie um programa que peça para digitar um número constantemente sem limite, até que o usário digite o número 0. Em seguida mostre a soma de todos os valores inputados, e a quantidade de números que foram inputados."
      ]
    },
    {
      "cell_type": "markdown",
      "metadata": {
        "id": "jMLM_-yxHXlI"
      },
      "source": [
        "![Captura%20de%20tela%202023-10-09%20145809.png](attachment:Captura%20de%20tela%202023-10-09%20145809.png)"
      ]
    },
    {
      "cell_type": "code",
      "source": [
        "soma = 0\n",
        "quantidade = 0\n",
        "\n",
        "while True:\n",
        "    numero = int(input(\"Digite um número (0 para sair): \"))\n",
        "\n",
        "    if numero == 0:\n",
        "        break\n",
        "\n",
        "    soma += numero\n",
        "    quantidade += 1\n",
        "\n",
        "if quantidade == 0:\n",
        "    print(\"Nenhum número foi inserido.\")\n",
        "else:\n",
        "    print(f\"Soma dos números inseridos: {soma}\")\n",
        "    print(f\"Quantidade de números inseridos: {quantidade}\")"
      ],
      "metadata": {
        "colab": {
          "base_uri": "https://localhost:8080/"
        },
        "id": "4SpbTTCVUBGy",
        "outputId": "af68399d-46db-43da-a787-ee5446c4f299"
      },
      "execution_count": null,
      "outputs": [
        {
          "output_type": "stream",
          "name": "stdout",
          "text": [
            "Digite um número (0 para sair): 1\n",
            "Digite um número (0 para sair): 2\n",
            "Digite um número (0 para sair): 3\n",
            "Digite um número (0 para sair): 4\n",
            "Digite um número (0 para sair): 5\n",
            "Digite um número (0 para sair): 6\n",
            "Digite um número (0 para sair): 17\n",
            "Digite um número (0 para sair): 18\n",
            "Digite um número (0 para sair): 19\n",
            "Digite um número (0 para sair): 20\n",
            "Digite um número (0 para sair): 0\n",
            "Soma dos números inseridos: 95\n",
            "Quantidade de números inseridos: 10\n"
          ]
        }
      ]
    },
    {
      "cell_type": "markdown",
      "metadata": {
        "id": "8meUl_N8HXlI"
      },
      "source": [
        "# DESAFIO"
      ]
    },
    {
      "cell_type": "markdown",
      "metadata": {
        "id": "SySzQVzsHXlI"
      },
      "source": [
        "Escreva um programa em Python que solicite ao usuário que insira um ano (um número inteiro) e determine se o ano é bissexto ou não. O programa deve continuar pedindo ao usuário para inserir anos até que ele decida parar.\n",
        "\n",
        "Um ano bissexto é um ano que é divisível por 4, com exceção dos anos que são divisíveis por 100. No entanto, anos divisíveis por 400 também são considerados bissextos. Em outras palavras:\n",
        "\n",
        "**Anos divisíveis por 4 são bissextos (por exemplo, 2004, 2008, 2012).**\n",
        "\n",
        "**Anos divisíveis por 100 não são bissextos**\n",
        "\n",
        "Instruções:\n",
        "\n",
        "Solicite ao usuário que insira um ano.\n",
        "\n",
        "Verifique se o ano é bissexto de acordo com as regras mencionadas anteriormente.\n",
        "\n",
        "Se o ano for bissexto, imprima \"O ano [ano] é bissexto.\".\n",
        "\n",
        "Se o ano não for bissexto, imprima \"O ano [ano] não é bissexto.\".\n",
        "\n",
        "Pergunte ao usuário se ele deseja verificar outro ano.\n",
        "\n",
        "Se o usuário quiser verificar outro ano, repita o processo. Caso contrário, encerre o programa.\n"
      ]
    },
    {
      "cell_type": "code",
      "execution_count": null,
      "metadata": {
        "id": "rz7QmA4BHXlI",
        "colab": {
          "base_uri": "https://localhost:8080/"
        },
        "outputId": "f5067c90-e33d-48ad-a7df-af62e38ab76a"
      },
      "outputs": [
        {
          "output_type": "stream",
          "name": "stdout",
          "text": [
            "Digite um ano (0 para sair): 400\n",
            "O ano 400 é bissexto.\n",
            "Digite um ano (0 para sair): 4\n",
            "O ano 4 é bissexto.\n",
            "Digite um ano (0 para sair): 16\n",
            "O ano 16 é bissexto.\n",
            "Digite um ano (0 para sair): 0\n",
            "Programa encerrado.\n"
          ]
        }
      ],
      "source": [
        "while True:\n",
        "    ano = int(input(\"Digite um ano (0 para sair): \"))\n",
        "\n",
        "    if ano == 0:\n",
        "        break\n",
        "\n",
        "    if (ano % 4 == 0 and ano % 100 != 0) or (ano % 400 == 0):\n",
        "        print(f\"O ano {ano} é bissexto.\")\n",
        "    else:\n",
        "        print(f\"O ano {ano} não é bissexto.\")\n",
        "\n",
        "print(\"Programa encerrado.\")"
      ]
    },
    {
      "cell_type": "markdown",
      "metadata": {
        "id": "HRJlpjqdHXlJ"
      },
      "source": [
        "### CURIOSIDADE\n",
        "\n",
        "Para criar um calendário em Python, você pode usar a biblioteca calendar que já está incluída na biblioteca padrão da linguagem. A biblioteca **calendar** fornece várias funções e classes para trabalhar com datas e calendários. Aqui está um exemplo simples de como criar um calendário de um mês específico em Python"
      ]
    },
    {
      "cell_type": "code",
      "execution_count": null,
      "metadata": {
        "id": "sbknR4gOHXlJ",
        "outputId": "03016c19-ad72-43ac-c7f8-c0f2b4bd706e",
        "colab": {
          "base_uri": "https://localhost:8080/"
        }
      },
      "outputs": [
        {
          "output_type": "stream",
          "name": "stdout",
          "text": [
            "    October 2023\n",
            "Mo Tu We Th Fr Sa Su\n",
            "                   1\n",
            " 2  3  4  5  6  7  8\n",
            " 9 10 11 12 13 14 15\n",
            "16 17 18 19 20 21 22\n",
            "23 24 25 26 27 28 29\n",
            "30 31\n",
            "\n"
          ]
        }
      ],
      "source": [
        "import calendar\n",
        "\n",
        "# Defina o ano e o mês desejados\n",
        "ano = 2023\n",
        "mes = 10  # Por exemplo, outubro\n",
        "\n",
        "# Crie um objeto de calendário\n",
        "cal = calendar.month(ano, mes)\n",
        "\n",
        "# Imprima o calendário\n",
        "print(cal)\n"
      ]
    },
    {
      "cell_type": "markdown",
      "metadata": {
        "id": "LvsNOHaXHXlJ"
      },
      "source": [
        "Neste exemplo, importamos a biblioteca calendar, definimos o ano e o mês desejados (neste caso, outubro de 2023) e, em seguida, usamos a função calendar.month(ano, mes) para criar o calendário desse mês específico. O calendário é retornado como uma string formatada e pode ser impresso no console.\n",
        "\n",
        "Você pode personalizar ainda mais a exibição do calendário usando as várias funções e métodos oferecidos pela biblioteca calendar, como calendar.weekday() para obter o dia da semana de uma data específica, ou calendar.setfirstweekday() para definir o primeiro dia da semana no calendário."
      ]
    }
  ],
  "metadata": {
    "kernelspec": {
      "display_name": "Python 3 (ipykernel)",
      "language": "python",
      "name": "python3"
    },
    "language_info": {
      "codemirror_mode": {
        "name": "ipython",
        "version": 3
      },
      "file_extension": ".py",
      "mimetype": "text/x-python",
      "name": "python",
      "nbconvert_exporter": "python",
      "pygments_lexer": "ipython3",
      "version": "3.11.4"
    },
    "colab": {
      "provenance": []
    }
  },
  "nbformat": 4,
  "nbformat_minor": 0
}