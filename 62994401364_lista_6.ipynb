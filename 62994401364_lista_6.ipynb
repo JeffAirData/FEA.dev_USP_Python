{
  "cells": [
    {
      "cell_type": "markdown",
      "metadata": {
        "id": "view-in-github",
        "colab_type": "text"
      },
      "source": [
        "<a href=\"https://colab.research.google.com/github/JeffAirData/FEA.dev_USP_Python/blob/main/62994401364_lista_6.ipynb\" target=\"_parent\"><img src=\"https://colab.research.google.com/assets/colab-badge.svg\" alt=\"Open In Colab\"/></a>"
      ]
    },
    {
      "cell_type": "markdown",
      "id": "5495f301",
      "metadata": {
        "id": "5495f301"
      },
      "source": [
        "# Lista semana 7 - Pandas 2\n"
      ]
    },
    {
      "cell_type": "markdown",
      "id": "ffee004e",
      "metadata": {
        "id": "ffee004e"
      },
      "source": [
        "![image.png](attachment:image.png)"
      ]
    },
    {
      "cell_type": "markdown",
      "id": "6ca8ebb8",
      "metadata": {
        "id": "6ca8ebb8"
      },
      "source": [
        "#### **Fala devs, beleza?**\n",
        "Esta já é a penúltima lista, onde serão abordados mais assuntos relacionados com a biblioteca Pandas. Bom trabalho!"
      ]
    },
    {
      "cell_type": "code",
      "execution_count": 2,
      "id": "2b0842bf",
      "metadata": {
        "id": "2b0842bf"
      },
      "outputs": [],
      "source": [
        "# Importe a biblioteca Pandas e as demais que pretende usar\n",
        "import pandas as pd"
      ]
    },
    {
      "cell_type": "markdown",
      "id": "23b14982",
      "metadata": {
        "id": "23b14982"
      },
      "source": [
        "## Exercício 1:\n",
        "Dado o seguinte DataFrame:"
      ]
    },
    {
      "cell_type": "code",
      "execution_count": 3,
      "id": "520536ae",
      "metadata": {
        "id": "520536ae"
      },
      "outputs": [],
      "source": [
        "data = {'Nome': ['Alice', 'Bob', 'Charlie', 'David', 'Eva', 'Pedro', 'Jonas', 'Ana', 'Sofia'],\n",
        "        'Idade': [25, 30, 22, 35, 28, 19, 27, 39, 29],\n",
        "        'Salário': [4000, 4500, 3500, 5500, 4800, 3000, 6000, 5000, 4500]}\n",
        "\n",
        "df = pd.DataFrame(data)"
      ]
    },
    {
      "cell_type": "markdown",
      "id": "3784041b",
      "metadata": {
        "id": "3784041b"
      },
      "source": [
        "a) Use a função loc para selecionar as linhas correspondentes aos indivíduos com idades entre 25 e 30 anos."
      ]
    },
    {
      "cell_type": "code",
      "execution_count": 4,
      "id": "12843d9f",
      "metadata": {
        "colab": {
          "base_uri": "https://localhost:8080/"
        },
        "id": "12843d9f",
        "outputId": "e738452a-2b28-4ac4-974b-46763e0e9388"
      },
      "outputs": [
        {
          "output_type": "stream",
          "name": "stdout",
          "text": [
            "    Nome  Idade  Salário\n",
            "0  Alice     25     4000\n",
            "1    Bob     30     4500\n",
            "4    Eva     28     4800\n",
            "6  Jonas     27     6000\n",
            "8  Sofia     29     4500\n"
          ]
        }
      ],
      "source": [
        "## SEU CÓDIGO COMEÇA AQUI ##\n",
        "#Usar a função loc para selecionar as linhas com idades entre 25 e 30 anos\n",
        "selecao = df.loc[(df['Idade'] >= 25) & (df['Idade'] <= 30)]\n",
        "\n",
        "# Exibir o resultado\n",
        "print(selecao)"
      ]
    },
    {
      "cell_type": "markdown",
      "id": "b6041ac3",
      "metadata": {
        "id": "b6041ac3"
      },
      "source": [
        "b) Use a função iloc para selecionar as linhas correspondentes aos indivíduos na primeira e última posição do DataFrame e tire a média de seus salários."
      ]
    },
    {
      "cell_type": "code",
      "execution_count": 5,
      "id": "bdd6bd9e",
      "metadata": {
        "colab": {
          "base_uri": "https://localhost:8080/"
        },
        "id": "bdd6bd9e",
        "outputId": "fb624b81-3bd6-445d-8241-654e99c0a124"
      },
      "outputs": [
        {
          "output_type": "stream",
          "name": "stdout",
          "text": [
            "Média dos salários: 4250.0\n"
          ]
        }
      ],
      "source": [
        "## SEU CÓDIGO COMEÇA AQUI ##\n",
        "# Usar iloc para selecionar as linhas da primeira e última posição\n",
        "selecao = df.iloc[[0, -1]]\n",
        "\n",
        "# Calcular a média dos salários\n",
        "media_salarios = selecao['Salário'].mean()\n",
        "\n",
        "# Exibir a média\n",
        "print(\"Média dos salários:\", media_salarios)"
      ]
    },
    {
      "cell_type": "markdown",
      "id": "bcce013a",
      "metadata": {
        "id": "bcce013a"
      },
      "source": [
        "## Exercício 2:\n",
        "Dado o seguinte DataFrame:"
      ]
    },
    {
      "cell_type": "code",
      "execution_count": 6,
      "id": "5bc0fd62",
      "metadata": {
        "id": "5bc0fd62"
      },
      "outputs": [],
      "source": [
        "data = {'Categoria': ['A', 'B', 'A', 'C', 'B', 'A', 'B', 'A', 'C', 'C', 'B', 'A'],\n",
        "        'Valor': [100, 200, 150, 300, 250, 120, 140, 230, 390, 80, 160, 210]}\n",
        "\n",
        "df = pd.DataFrame(data)"
      ]
    },
    {
      "cell_type": "markdown",
      "id": "07582fed",
      "metadata": {
        "id": "07582fed"
      },
      "source": [
        "a) Calcule a média dos valores para cada categoria."
      ]
    },
    {
      "cell_type": "code",
      "execution_count": 7,
      "id": "f91509c0",
      "metadata": {
        "colab": {
          "base_uri": "https://localhost:8080/"
        },
        "id": "f91509c0",
        "outputId": "703ce909-cde0-42c8-d370-313f8363c239"
      },
      "outputs": [
        {
          "output_type": "stream",
          "name": "stdout",
          "text": [
            "Categoria\n",
            "A    162.000000\n",
            "B    187.500000\n",
            "C    256.666667\n",
            "Name: Valor, dtype: float64\n"
          ]
        }
      ],
      "source": [
        "## SEU CÓDIGO COMEÇA AQUI ##\n",
        "# Criar o DataFrame\n",
        "data = {\n",
        "    'Categoria': ['A', 'B', 'A', 'C', 'B', 'A', 'B', 'A', 'C', 'C', 'B', 'A'],\n",
        "    'Valor': [100, 200, 150, 300, 250, 120, 140, 230, 390, 80, 160, 210]\n",
        "}\n",
        "df = pd.DataFrame(data)\n",
        "\n",
        "# Agrupar por 'Categoria' e calcular a média dos valores\n",
        "media_por_categoria = df.groupby('Categoria')['Valor'].mean()\n",
        "\n",
        "# Exibir a média dos valores para cada categoria\n",
        "print(media_por_categoria)"
      ]
    },
    {
      "cell_type": "markdown",
      "id": "a1a3f0a6",
      "metadata": {
        "id": "a1a3f0a6"
      },
      "source": [
        "b) Calcule a soma dos valores para cada categoria. O que possui a maior soma também possui a maior média? Qual a razão disso ocorrer ou não?"
      ]
    },
    {
      "cell_type": "code",
      "execution_count": 8,
      "id": "da25ee8e",
      "metadata": {
        "colab": {
          "base_uri": "https://localhost:8080/"
        },
        "id": "da25ee8e",
        "outputId": "7c44fbeb-100d-42af-fcd5-ad701b2ec300"
      },
      "outputs": [
        {
          "output_type": "stream",
          "name": "stdout",
          "text": [
            "Categoria\n",
            "A    810\n",
            "B    750\n",
            "C    770\n",
            "Name: Valor, dtype: int64\n"
          ]
        }
      ],
      "source": [
        "## SEU CÓDIGO COMEÇA AQUI ##\n",
        "# Agrupar por 'Categoria' e calcular a soma dos valores\n",
        "soma_por_categoria = df.groupby('Categoria')['Valor'].sum()\n",
        "\n",
        "# Exibir a soma dos valores para cada categoria\n",
        "print(soma_por_categoria)"
      ]
    },
    {
      "cell_type": "markdown",
      "id": "2e8cf9a4",
      "metadata": {
        "id": "2e8cf9a4"
      },
      "source": [
        "## Exercício 3:\n",
        "Dado o seguinte DataFrame:"
      ]
    },
    {
      "cell_type": "code",
      "execution_count": 9,
      "id": "89725c6e",
      "metadata": {
        "id": "89725c6e"
      },
      "outputs": [],
      "source": [
        "data = {'Data': ['2023-01-01', '2023-01-01', '2023-01-02', '2023-01-02'],\n",
        "        'Produto': ['A', 'B', 'A', 'B'],\n",
        "        'Vendas': [100, 150, 200, 120]}\n",
        "\n",
        "df = pd.DataFrame(data)"
      ]
    },
    {
      "cell_type": "markdown",
      "id": "45daa91a",
      "metadata": {
        "id": "45daa91a"
      },
      "source": [
        "Crie uma tabela dinâmica (pivot table) que mostre as vendas totais para cada produto em cada data."
      ]
    },
    {
      "cell_type": "code",
      "execution_count": 10,
      "id": "ff2e9e46",
      "metadata": {
        "colab": {
          "base_uri": "https://localhost:8080/"
        },
        "id": "ff2e9e46",
        "outputId": "29617952-a30d-4344-f3da-d12a5ab76b96"
      },
      "outputs": [
        {
          "output_type": "stream",
          "name": "stdout",
          "text": [
            "Produto       A    B\n",
            "Data                \n",
            "2023-01-01  100  150\n",
            "2023-01-02  200  120\n"
          ]
        }
      ],
      "source": [
        "## SEU CÓDIGO COMEÇA AQUI #\n",
        "# Criar a tabela dinâmica\n",
        "pivot_table = df.pivot_table(values='Vendas', index='Data', columns='Produto', aggfunc='sum')\n",
        "\n",
        "# Exibir a tabela dinâmica\n",
        "print(pivot_table)"
      ]
    },
    {
      "cell_type": "markdown",
      "id": "27b364b6",
      "metadata": {
        "id": "27b364b6"
      },
      "source": [
        "## Exercício 4:\n",
        "Dado os seguintes DataFrames:"
      ]
    },
    {
      "cell_type": "code",
      "execution_count": 11,
      "id": "63947001",
      "metadata": {
        "id": "63947001"
      },
      "outputs": [],
      "source": [
        "df1 = pd.DataFrame({'Chave': ['A', 'B', 'C', 'D'],\n",
        "                    'Valor1': [10, 12, 6, 4]})\n",
        "\n",
        "df2 = pd.DataFrame({'Chave': ['B', 'D', 'E', 'F'],\n",
        "                    'Valor2': [9, 6, 11, 8]})\n",
        "\n",
        "df3 = pd.DataFrame({'Chave': ['C', 'D', 'E', 'G'],\n",
        "                    'Valor3': [10, 7, 14, 15]})"
      ]
    },
    {
      "cell_type": "markdown",
      "id": "648721c4",
      "metadata": {
        "id": "648721c4"
      },
      "source": [
        "a) Combine os DataFrames df1 e df2 com base na coluna 'Chave', e deixe a coluna chave como index. Inclua apenas as chaves que aparecem em ambos os dataframes"
      ]
    },
    {
      "cell_type": "code",
      "execution_count": 12,
      "id": "c5a83fb7",
      "metadata": {
        "colab": {
          "base_uri": "https://localhost:8080/"
        },
        "id": "c5a83fb7",
        "outputId": "b7f5e929-9945-47af-eda6-bdec63995f2e"
      },
      "outputs": [
        {
          "output_type": "stream",
          "name": "stdout",
          "text": [
            "       Valor1  Valor2\n",
            "Chave                \n",
            "B          12       9\n",
            "D           4       6\n"
          ]
        }
      ],
      "source": [
        "## SEU CÓDIGO COMEÇA AQUI ##\n",
        "# Combinar df1 e df2\n",
        "df_combinado = pd.merge(df1, df2, on='Chave', how='inner').set_index('Chave')\n",
        "\n",
        "# Exibir o DataFrame combinado\n",
        "print(df_combinado)"
      ]
    },
    {
      "cell_type": "markdown",
      "id": "5d1ca2a9",
      "metadata": {
        "id": "5d1ca2a9"
      },
      "source": [
        "b) Combine os DataFrames df1, df2 e df3, incluindo todas as chaves e valores. Defina \"Chave\" como index e substitua os valores não existentes por 0."
      ]
    },
    {
      "cell_type": "code",
      "execution_count": 13,
      "id": "72acef37",
      "metadata": {
        "colab": {
          "base_uri": "https://localhost:8080/"
        },
        "id": "72acef37",
        "outputId": "f0449f1d-5b87-41f2-d084-e6039423342f"
      },
      "outputs": [
        {
          "output_type": "stream",
          "name": "stdout",
          "text": [
            "       Valor1  Valor2  Valor3\n",
            "Chave                        \n",
            "A        10.0     0.0     0.0\n",
            "B        12.0     9.0     0.0\n",
            "C         6.0     0.0    10.0\n",
            "D         4.0     6.0     7.0\n",
            "E         0.0    11.0    14.0\n",
            "F         0.0     8.0     0.0\n",
            "G         0.0     0.0    15.0\n"
          ]
        }
      ],
      "source": [
        "## SEU CÓDIGO COMEÇA AQUI ##\n",
        "# Combinar df1, df2 e df3\n",
        "df_combinado = pd.merge(pd.merge(df1, df2, on='Chave', how='outer'), df3, on='Chave', how='outer').set_index('Chave')\n",
        "\n",
        "# Substituir os valores NaN por 0\n",
        "df_combinado.fillna(0, inplace=True)\n",
        "\n",
        "# Exibir o DataFrame combinado\n",
        "print(df_combinado)"
      ]
    },
    {
      "cell_type": "markdown",
      "id": "80f1d2c2",
      "metadata": {
        "id": "80f1d2c2"
      },
      "source": [
        "c) Adicione uma nova coluna ao dataframe, contendo a soma do valor 1, 2 e 3 para cada chave."
      ]
    },
    {
      "cell_type": "code",
      "execution_count": 14,
      "id": "cf3f1dcb",
      "metadata": {
        "colab": {
          "base_uri": "https://localhost:8080/"
        },
        "id": "cf3f1dcb",
        "outputId": "cbc0d30c-972a-42b8-d4ba-cfdc18fb75ce"
      },
      "outputs": [
        {
          "output_type": "stream",
          "name": "stdout",
          "text": [
            "       Valor1  Valor2  Valor3  SomaTotal\n",
            "Chave                                   \n",
            "A        10.0     0.0     0.0       10.0\n",
            "B        12.0     9.0     0.0       21.0\n",
            "C         6.0     0.0    10.0       16.0\n",
            "D         4.0     6.0     7.0       17.0\n",
            "E         0.0    11.0    14.0       25.0\n",
            "F         0.0     8.0     0.0        8.0\n",
            "G         0.0     0.0    15.0       15.0\n"
          ]
        }
      ],
      "source": [
        "## SEU CÓDIGO COMEÇA AQUI ##\n",
        "# Adicionar a coluna 'SomaTotal' com a soma de 'Valor1', 'Valor2' e 'Valor3'\n",
        "df_combinado['SomaTotal'] = df_combinado['Valor1'] + df_combinado['Valor2'] + df_combinado['Valor3']\n",
        "\n",
        "# Exibir o DataFrame atualizado\n",
        "print(df_combinado)"
      ]
    },
    {
      "cell_type": "markdown",
      "id": "48397b8b",
      "metadata": {
        "id": "48397b8b"
      },
      "source": [
        "## Exercício 5\n",
        "Vamos importar dados de ações utilizando a biblioteca Yahoo Finance, e você trabalhará em cima deste dataframe."
      ]
    },
    {
      "cell_type": "code",
      "execution_count": 15,
      "id": "0046d8f8",
      "metadata": {
        "colab": {
          "base_uri": "https://localhost:8080/"
        },
        "id": "0046d8f8",
        "outputId": "4901a3de-952a-4b88-a814-ca5441563dd1"
      },
      "outputs": [
        {
          "output_type": "stream",
          "name": "stdout",
          "text": [
            "Requirement already satisfied: yfinance in /usr/local/lib/python3.10/dist-packages (0.2.32)\n",
            "Requirement already satisfied: pandas>=1.3.0 in /usr/local/lib/python3.10/dist-packages (from yfinance) (1.5.3)\n",
            "Requirement already satisfied: numpy>=1.16.5 in /usr/local/lib/python3.10/dist-packages (from yfinance) (1.23.5)\n",
            "Requirement already satisfied: requests>=2.31 in /usr/local/lib/python3.10/dist-packages (from yfinance) (2.31.0)\n",
            "Requirement already satisfied: multitasking>=0.0.7 in /usr/local/lib/python3.10/dist-packages (from yfinance) (0.0.11)\n",
            "Requirement already satisfied: lxml>=4.9.1 in /usr/local/lib/python3.10/dist-packages (from yfinance) (4.9.3)\n",
            "Requirement already satisfied: appdirs>=1.4.4 in /usr/local/lib/python3.10/dist-packages (from yfinance) (1.4.4)\n",
            "Requirement already satisfied: pytz>=2022.5 in /usr/local/lib/python3.10/dist-packages (from yfinance) (2023.3.post1)\n",
            "Requirement already satisfied: frozendict>=2.3.4 in /usr/local/lib/python3.10/dist-packages (from yfinance) (2.3.10)\n",
            "Requirement already satisfied: peewee>=3.16.2 in /usr/local/lib/python3.10/dist-packages (from yfinance) (3.17.0)\n",
            "Requirement already satisfied: beautifulsoup4>=4.11.1 in /usr/local/lib/python3.10/dist-packages (from yfinance) (4.11.2)\n",
            "Requirement already satisfied: html5lib>=1.1 in /usr/local/lib/python3.10/dist-packages (from yfinance) (1.1)\n",
            "Requirement already satisfied: soupsieve>1.2 in /usr/local/lib/python3.10/dist-packages (from beautifulsoup4>=4.11.1->yfinance) (2.5)\n",
            "Requirement already satisfied: six>=1.9 in /usr/local/lib/python3.10/dist-packages (from html5lib>=1.1->yfinance) (1.16.0)\n",
            "Requirement already satisfied: webencodings in /usr/local/lib/python3.10/dist-packages (from html5lib>=1.1->yfinance) (0.5.1)\n",
            "Requirement already satisfied: python-dateutil>=2.8.1 in /usr/local/lib/python3.10/dist-packages (from pandas>=1.3.0->yfinance) (2.8.2)\n",
            "Requirement already satisfied: charset-normalizer<4,>=2 in /usr/local/lib/python3.10/dist-packages (from requests>=2.31->yfinance) (3.3.2)\n",
            "Requirement already satisfied: idna<4,>=2.5 in /usr/local/lib/python3.10/dist-packages (from requests>=2.31->yfinance) (3.6)\n",
            "Requirement already satisfied: urllib3<3,>=1.21.1 in /usr/local/lib/python3.10/dist-packages (from requests>=2.31->yfinance) (2.0.7)\n",
            "Requirement already satisfied: certifi>=2017.4.17 in /usr/local/lib/python3.10/dist-packages (from requests>=2.31->yfinance) (2023.11.17)\n"
          ]
        }
      ],
      "source": [
        "# Caso não tenha essa biblioteca instalada, rode o código a seguir:\n",
        "!pip install yfinance"
      ]
    },
    {
      "cell_type": "code",
      "source": [
        "# importando a biblioteca:\n",
        "import yfinance as yf\n",
        "\n",
        "\n",
        "ticker_symbol = [\"BBAS3.SA\"]\n",
        "start_date = \"2020-06-01\"\n",
        "end_date = \"2023-06-01\"\n",
        "#dataframe:\n",
        "data = yf.download(ticker_symbol, start=start_date, end=end_date)\n"
      ],
      "metadata": {
        "colab": {
          "base_uri": "https://localhost:8080/"
        },
        "id": "1hPhX_13nZ95",
        "outputId": "69f4cb30-8f48-4d7e-c876-3fd37066205f"
      },
      "id": "1hPhX_13nZ95",
      "execution_count": 16,
      "outputs": [
        {
          "output_type": "stream",
          "name": "stdout",
          "text": [
            "\r[*********************100%%**********************]  1 of 1 completed\n"
          ]
        }
      ]
    },
    {
      "cell_type": "markdown",
      "id": "4678a8cb",
      "metadata": {
        "id": "4678a8cb"
      },
      "source": [
        "a) Faça um novo dataframe, contendo as colunas de preço de fechamento ajustado ('Adj Close') e de volume de negociações ('Volume')."
      ]
    },
    {
      "cell_type": "code",
      "execution_count": 17,
      "id": "229d17b2",
      "metadata": {
        "colab": {
          "base_uri": "https://localhost:8080/"
        },
        "id": "229d17b2",
        "outputId": "0d2e5704-03ef-4227-9753-28baef25fd46"
      },
      "outputs": [
        {
          "output_type": "stream",
          "name": "stdout",
          "text": [
            "\r[*********************100%%**********************]  1 of 1 completed\n",
            "            Adj Close    Volume\n",
            "Date                           \n",
            "2020-06-01  24.960712  22043600\n",
            "2020-06-02  25.761341  15772200\n",
            "2020-06-03  27.276241  29497200\n",
            "2020-06-04  27.425388  23947100\n",
            "2020-06-05  27.629473  35546100\n"
          ]
        }
      ],
      "source": [
        "## SEU CÓDIGO COMEÇA AQUI ##\n",
        "# Definir o símbolo do ticker, as datas de início e término\n",
        "ticker_symbol = \"BBAS3.SA\"  # Você pode substituir pela ação de sua escolha\n",
        "start_date = \"2020-06-01\"\n",
        "end_date = \"2023-06-01\"\n",
        "\n",
        "# Baixar os dados do ticker\n",
        "data = yf.download(ticker_symbol, start=start_date, end=end_date)\n",
        "\n",
        "# Criar um novo DataFrame com 'Adj Close' e 'Volume'\n",
        "novo_dataframe = data[['Adj Close', 'Volume']]\n",
        "\n",
        "# Exibir as primeiras linhas do novo DataFrame\n",
        "print(novo_dataframe.head())"
      ]
    },
    {
      "cell_type": "markdown",
      "id": "5d34717d",
      "metadata": {
        "id": "5d34717d"
      },
      "source": [
        "b) Em qual dia a ação atingiu sua maior cotação?"
      ]
    },
    {
      "cell_type": "code",
      "execution_count": 18,
      "id": "e21e9455",
      "metadata": {
        "colab": {
          "base_uri": "https://localhost:8080/"
        },
        "id": "e21e9455",
        "outputId": "96a5fa73-e7db-4a21-d201-4b6b86d7051f"
      },
      "outputs": [
        {
          "output_type": "stream",
          "name": "stdout",
          "text": [
            "Maior cotação de fechamento ajustado: 42.7408332824707 na data 2023-05-30 00:00:00\n"
          ]
        }
      ],
      "source": [
        "## SEU CÓDIGO COMEÇA AQUI ##\n",
        "# Encontrar a data com a maior cotação de fechamento ajustado\n",
        "data_maxima = novo_dataframe['Adj Close'].idxmax()\n",
        "\n",
        "# Encontrar o valor da maior cotação de fechamento ajustado\n",
        "valor_maximo = novo_dataframe['Adj Close'].max()\n",
        "\n",
        "# Exibir a data e o valor da maior cotação\n",
        "print(f\"Maior cotação de fechamento ajustado: {valor_maximo} na data {data_maxima}\")"
      ]
    },
    {
      "cell_type": "markdown",
      "id": "80a3a777",
      "metadata": {
        "id": "80a3a777"
      },
      "source": [
        "c) Em qual dia a ação foi mais negociada?"
      ]
    },
    {
      "cell_type": "code",
      "execution_count": 19,
      "id": "a29e99a3",
      "metadata": {
        "colab": {
          "base_uri": "https://localhost:8080/"
        },
        "id": "a29e99a3",
        "outputId": "0057ec74-1587-472b-f220-4be43c06f589"
      },
      "outputs": [
        {
          "output_type": "stream",
          "name": "stdout",
          "text": [
            "Maior volume de negociações: 102036100 na data 2021-02-22 00:00:00\n"
          ]
        }
      ],
      "source": [
        "## SEU CÓDIGO COMEÇA AQUI ##\n",
        "# Encontrar a data com o maior volume de negociações\n",
        "data_volume_maximo = novo_dataframe['Volume'].idxmax()\n",
        "\n",
        "# Encontrar o valor do maior volume de negociações\n",
        "volume_maximo = novo_dataframe['Volume'].max()\n",
        "\n",
        "# Exibir a data e o valor do maior volume de negociações\n",
        "print(f\"Maior volume de negociações: {volume_maximo} na data {data_volume_maximo}\")"
      ]
    },
    {
      "cell_type": "markdown",
      "id": "91fb89f7",
      "metadata": {
        "id": "91fb89f7"
      },
      "source": [
        "d) Adicione uma coluna no dataframe, contendo a variação percentual da cotação da ação"
      ]
    },
    {
      "cell_type": "code",
      "execution_count": 20,
      "id": "8d224fa4",
      "metadata": {
        "colab": {
          "base_uri": "https://localhost:8080/"
        },
        "id": "8d224fa4",
        "outputId": "b92471c7-6b53-46d0-c037-79ae83ac3edf"
      },
      "outputs": [
        {
          "output_type": "stream",
          "name": "stdout",
          "text": [
            "            Adj Close    Volume  Variação Percentual\n",
            "Date                                                \n",
            "2020-06-01  24.960712  22043600                  NaN\n",
            "2020-06-02  25.761341  15772200             3.207555\n",
            "2020-06-03  27.276241  29497200             5.880518\n",
            "2020-06-04  27.425388  23947100             0.546802\n",
            "2020-06-05  27.629473  35546100             0.744144\n"
          ]
        }
      ],
      "source": [
        "## SEU CÓDIGO COMEÇA AQUI ##\n",
        "# Se 'novo_dataframe' foi criado como uma fatia de 'data', você pode usar o método copy() para evitar o aviso\n",
        "novo_dataframe = data[['Adj Close', 'Volume']].copy()\n",
        "\n",
        "# Adicionar a coluna de variação percentual\n",
        "novo_dataframe['Variação Percentual'] = novo_dataframe['Adj Close'].pct_change() * 100\n",
        "\n",
        "# Exibir as primeiras linhas do DataFrame atualizado\n",
        "print(novo_dataframe.head())"
      ]
    },
    {
      "cell_type": "markdown",
      "id": "3fdc7f7d",
      "metadata": {
        "id": "3fdc7f7d"
      },
      "source": [
        "e) Calcule o retorno anualizado médio da ação. Considere que um ano possui 252 dias úteis em média."
      ]
    },
    {
      "cell_type": "code",
      "execution_count": 21,
      "id": "a4ae9197",
      "metadata": {
        "colab": {
          "base_uri": "https://localhost:8080/"
        },
        "id": "a4ae9197",
        "outputId": "e7e3a180-145e-47ac-bcaf-8495b015fbd1"
      },
      "outputs": [
        {
          "output_type": "stream",
          "name": "stdout",
          "text": [
            "Retorno anualizado médio da ação: 26.28%\n"
          ]
        }
      ],
      "source": [
        "## SEU CÓDIGO COMEÇA AQUI #\n",
        "#Calcular o Retorno Diário: Utilize a variação percentual diária da ação, já calculada como a coluna 'Variação Percentual' no seu DataFrame.\n",
        "#Converter o Retorno Diário para Retorno Anualizado: O retorno anualizado pode ser calculado a partir do retorno diário assumindo 252 dias úteis em um ano.\n",
        "#A fórmula para isso é [(1+retorno diário médio)**252]-1\n",
        "#Calculemos:\n",
        "# Calcular o retorno diário médio\n",
        "retorno_diario_medio = novo_dataframe['Variação Percentual'].mean() / 100\n",
        "\n",
        "# Calcular o retorno anualizado\n",
        "retorno_anualizado = (1 + retorno_diario_medio) ** 252 - 1\n",
        "\n",
        "# Converter para porcentagem\n",
        "retorno_anualizado_percentual = retorno_anualizado * 100\n",
        "\n",
        "# Exibir o retorno anualizado\n",
        "print(f\"Retorno anualizado médio da ação: {retorno_anualizado_percentual:.2f}%\")"
      ]
    },
    {
      "cell_type": "markdown",
      "id": "42372a8b",
      "metadata": {
        "id": "42372a8b"
      },
      "source": [
        "## QUESTÃO 6"
      ]
    },
    {
      "cell_type": "markdown",
      "id": "2cf99913",
      "metadata": {
        "id": "2cf99913"
      },
      "source": [
        "Você tem um DataFrame com informações sobre produtos em um estoque, incluindo nomes de produtos, preços e quantidades em estoque. Resolva as seguintes tarefas:"
      ]
    },
    {
      "cell_type": "markdown",
      "id": "792ffe33",
      "metadata": {
        "id": "792ffe33"
      },
      "source": [
        "a) Agrupe os produtos por categoria e calcule a média e a mediana dos preços por categoria."
      ]
    },
    {
      "cell_type": "code",
      "execution_count": 22,
      "id": "e9b0cd0a",
      "metadata": {
        "colab": {
          "base_uri": "https://localhost:8080/"
        },
        "id": "e9b0cd0a",
        "outputId": "6da5a843-9374-4445-ea4e-3b0d93604e4c"
      },
      "outputs": [
        {
          "output_type": "stream",
          "name": "stdout",
          "text": [
            "Média dos preços por categoria:\n",
            "Categoria\n",
            "Eletrônicos    1000.0\n",
            "Roupas           40.0\n",
            "Name: Preço, dtype: float64\n",
            "\n",
            "Mediana dos preços por categoria:\n",
            "Categoria\n",
            "Eletrônicos    1000.0\n",
            "Roupas           40.0\n",
            "Name: Preço, dtype: float64\n"
          ]
        }
      ],
      "source": [
        "data = {'Produto': ['A', 'B', 'C', 'D', 'E'],\n",
        "        'Categoria': ['Eletrônicos', 'Roupas', 'Eletrônicos', 'Roupas', 'Eletrônicos'],\n",
        "        'Preço': [1000, 50, 800, 30, 1200],\n",
        "        'Quantidade_Estoque': [10, 15, 5, 8, 12]}\n",
        "\n",
        "##seu código começa aqui###\n",
        "# Criar o DataFrame\n",
        "data = {\n",
        "    'Produto': ['A', 'B', 'C', 'D', 'E'],\n",
        "    'Categoria': ['Eletrônicos', 'Roupas', 'Eletrônicos', 'Roupas', 'Eletrônicos'],\n",
        "    'Preço': [1000, 50, 800, 30, 1200],\n",
        "    'Quantidade_Estoque': [10, 15, 5, 8, 12]\n",
        "}\n",
        "df = pd.DataFrame(data)\n",
        "\n",
        "# Agrupar por 'Categoria' e calcular a média e a mediana dos preços\n",
        "media_preco = df.groupby('Categoria')['Preço'].mean()\n",
        "mediana_preco = df.groupby('Categoria')['Preço'].median()\n",
        "\n",
        "# Exibir os resultados\n",
        "print(\"Média dos preços por categoria:\")\n",
        "print(media_preco)\n",
        "print(\"\\nMediana dos preços por categoria:\")\n",
        "print(mediana_preco)"
      ]
    },
    {
      "cell_type": "markdown",
      "id": "f7e3f7f2",
      "metadata": {
        "id": "f7e3f7f2"
      },
      "source": [
        "b) Encontre o produto mais caro em estoque."
      ]
    },
    {
      "cell_type": "code",
      "execution_count": 23,
      "id": "06415adc",
      "metadata": {
        "colab": {
          "base_uri": "https://localhost:8080/"
        },
        "id": "06415adc",
        "outputId": "ed24ad8a-eb62-4829-ae1a-3418b14381ee"
      },
      "outputs": [
        {
          "output_type": "stream",
          "name": "stdout",
          "text": [
            "Produto mais caro em estoque:\n",
            "Produto                         E\n",
            "Categoria             Eletrônicos\n",
            "Preço                        1200\n",
            "Quantidade_Estoque             12\n",
            "Name: 4, dtype: object\n"
          ]
        }
      ],
      "source": [
        "data = {'Produto': ['A', 'B', 'C', 'D', 'E'],\n",
        "        'Categoria': ['Eletrônicos', 'Roupas', 'Eletrônicos', 'Roupas', 'Eletrônicos'],\n",
        "        'Preço': [1000, 50, 800, 30, 1200],\n",
        "        'Quantidade_Estoque': [10, 15, 5, 8, 12]}\n",
        "df = pd.DataFrame(data)\n",
        "\n",
        "##seu código começa aqui###\n",
        "# Encontrar o índice do produto mais caro\n",
        "indice_mais_caro = df['Preço'].idxmax()\n",
        "\n",
        "# Encontrar o produto mais caro\n",
        "produto_mais_caro = df.loc[indice_mais_caro]\n",
        "\n",
        "# Exibir o produto mais caro\n",
        "print(\"Produto mais caro em estoque:\")\n",
        "print(produto_mais_caro)"
      ]
    },
    {
      "cell_type": "markdown",
      "id": "13dd0008",
      "metadata": {
        "id": "13dd0008"
      },
      "source": [
        "## QUESTÃO 7"
      ]
    },
    {
      "cell_type": "markdown",
      "id": "e678e155",
      "metadata": {
        "id": "e678e155"
      },
      "source": [
        "Suponha que você tenha um DataFrame com informações sobre jogos de video game, incluindo o nome do jogo, a plataforma em que ele foi lançado e sua classificação. Realize as seguintes tarefas:"
      ]
    },
    {
      "cell_type": "markdown",
      "id": "045abb7a",
      "metadata": {
        "id": "045abb7a"
      },
      "source": [
        "a) Crie um DataFrame a partir dos seguintes dados:"
      ]
    },
    {
      "cell_type": "code",
      "execution_count": 24,
      "id": "7adc94a6",
      "metadata": {
        "id": "7adc94a6"
      },
      "outputs": [],
      "source": [
        "data = {'Nome_Jogo': ['Super Mario Odyssey', 'The Legend of Zelda', 'FIFA 22', 'Call of Duty: Warzone'],\n",
        "        'Plataforma': ['Nintendo Switch', 'Nintendo Switch', 'PlayStation 5', 'Xbox Series X'],\n",
        "        'Classificacao': ['E', 'E', 'E', 'M']}\n"
      ]
    },
    {
      "cell_type": "code",
      "execution_count": 25,
      "id": "7e3c6849",
      "metadata": {
        "colab": {
          "base_uri": "https://localhost:8080/"
        },
        "id": "7e3c6849",
        "outputId": "d1067710-af4d-4275-aad3-5057c480a814"
      },
      "outputs": [
        {
          "output_type": "stream",
          "name": "stdout",
          "text": [
            "               Nome_Jogo       Plataforma Classificacao\n",
            "0    Super Mario Odyssey  Nintendo Switch             E\n",
            "1    The Legend of Zelda  Nintendo Switch             E\n",
            "2                FIFA 22    PlayStation 5             E\n",
            "3  Call of Duty: Warzone    Xbox Series X             M\n"
          ]
        }
      ],
      "source": [
        "### seu código começa aqui###\n",
        "# Criar o DataFrame\n",
        "df_jogos = pd.DataFrame(data)\n",
        "\n",
        "# Exibir o DataFrame\n",
        "print(df_jogos)"
      ]
    },
    {
      "cell_type": "markdown",
      "id": "26621f0e",
      "metadata": {
        "id": "26621f0e"
      },
      "source": [
        "b) Agrupe os jogos por plataforma e conte quantos jogos estão disponíveis em cada plataforma."
      ]
    },
    {
      "cell_type": "code",
      "execution_count": 26,
      "id": "494ee809",
      "metadata": {
        "colab": {
          "base_uri": "https://localhost:8080/"
        },
        "id": "494ee809",
        "outputId": "f61b886b-db55-4d1f-9abf-bf043d938673"
      },
      "outputs": [
        {
          "output_type": "stream",
          "name": "stdout",
          "text": [
            "Plataforma\n",
            "Nintendo Switch    2\n",
            "PlayStation 5      1\n",
            "Xbox Series X      1\n",
            "Name: Nome_Jogo, dtype: int64\n"
          ]
        }
      ],
      "source": [
        "### seu código começa aqui###\n",
        "# Agrupar por 'Plataforma' e contar os jogos em cada plataforma\n",
        "contagem_jogos_por_plataforma = df_jogos.groupby('Plataforma')['Nome_Jogo'].count()\n",
        "\n",
        "# Exibir a contagem de jogos por plataforma\n",
        "print(contagem_jogos_por_plataforma)"
      ]
    },
    {
      "cell_type": "markdown",
      "id": "caa13e92",
      "metadata": {
        "id": "caa13e92"
      },
      "source": [
        "c) Encontre a plataforma com a maior quantidade de jogos."
      ]
    },
    {
      "cell_type": "code",
      "execution_count": 27,
      "id": "e8d0964a",
      "metadata": {
        "colab": {
          "base_uri": "https://localhost:8080/"
        },
        "id": "e8d0964a",
        "outputId": "0e0480c8-c2bb-488d-f0bb-fdef88327962"
      },
      "outputs": [
        {
          "output_type": "stream",
          "name": "stdout",
          "text": [
            "A plataforma com a maior quantidade de jogos é Nintendo Switch com 2 jogos.\n"
          ]
        }
      ],
      "source": [
        "### seu código começa aqui###\n",
        "# Encontrar a plataforma com a maior quantidade de jogos\n",
        "plataforma_mais_jogos = contagem_jogos_por_plataforma.idxmax()\n",
        "max_jogos = contagem_jogos_por_plataforma.max()\n",
        "\n",
        "# Exibir a plataforma com a maior quantidade de jogos\n",
        "print(f\"A plataforma com a maior quantidade de jogos é {plataforma_mais_jogos} com {max_jogos} jogos.\")"
      ]
    },
    {
      "cell_type": "markdown",
      "id": "17e3a615",
      "metadata": {
        "id": "17e3a615"
      },
      "source": [
        "## QUESTÃO 8"
      ]
    },
    {
      "cell_type": "markdown",
      "id": "bbbf17c3",
      "metadata": {
        "id": "bbbf17c3"
      },
      "source": [
        "Você possui um DataFrame com informações sobre espécies de árvores encontradas em diferentes estados do Brasil. O DataFrame possui as colunas 'Estado', 'Espécie', 'Quantidade', e 'Altura Média'. Crie uma análise de dados para responder às seguintes perguntas e aprenda algumas curiosidades interessantes sobre as árvores do Brasil:"
      ]
    },
    {
      "cell_type": "code",
      "execution_count": 36,
      "id": "cb5544c1",
      "metadata": {
        "id": "cb5544c1"
      },
      "outputs": [],
      "source": [
        "import pandas as pd\n",
        "\n",
        "data = {'Estado': ['São Paulo', 'São Paulo', 'Rio de Janeiro', 'Rio de Janeiro', 'Minas Gerais'],\n",
        "        'Espécie': ['Ipê Amarelo', 'Ipê Roxo', 'Ipê Amarelo', 'Ipê Roxo', 'Quaresmeira'],\n",
        "        'Quantidade': [100, 50, 80, 40, 70],\n",
        "        'Altura Média': [8, 7, 7, 6, 10]}\n",
        "\n",
        "df = pd.DataFrame(data)\n"
      ]
    },
    {
      "cell_type": "markdown",
      "id": "892d8c4a",
      "metadata": {
        "id": "892d8c4a"
      },
      "source": [
        "a) Qual é a espécie de árvore mais comum em cada estado? Mostre uma lista com o nome do estado e a espécie mais comum."
      ]
    },
    {
      "cell_type": "code",
      "execution_count": 37,
      "id": "aaf950a1",
      "metadata": {
        "colab": {
          "base_uri": "https://localhost:8080/"
        },
        "id": "aaf950a1",
        "outputId": "6d4ec7db-a972-44cd-cd15-0ab2b299e9dc"
      },
      "outputs": [
        {
          "output_type": "stream",
          "name": "stdout",
          "text": [
            "Estado\n",
            "Minas Gerais      Quaresmeira\n",
            "Rio de Janeiro    Ipê Amarelo\n",
            "São Paulo         Ipê Amarelo\n",
            "Name: Quantidade, dtype: object\n"
          ]
        }
      ],
      "source": [
        "### seu código começa aqui###\n",
        "#Para encontrar a espécie de árvore mais comum em cada estado, podemos agrupar o DataFrame por 'Estado' e, em seguida, encontrar a espécie com a maior 'Quantidade' em cada grupo.\n",
        "# Agrupando por 'Estado' e encontrando a espécie com a maior 'Quantidade' em cada grupo\n",
        "especie_mais_comum_por_estado = df.groupby('Estado')['Quantidade'].idxmax().apply(lambda x: df.loc[x, 'Espécie'])\n",
        "\n",
        "# Exibir o resultado\n",
        "print(especie_mais_comum_por_estado)\n"
      ]
    },
    {
      "cell_type": "markdown",
      "id": "ef8c52bf",
      "metadata": {
        "id": "ef8c52bf"
      },
      "source": [
        "b) Qual é a altura média das árvores por espécie? Apresente uma tabela que lista as espécies e suas alturas médias."
      ]
    },
    {
      "cell_type": "code",
      "execution_count": 38,
      "id": "af1cea04",
      "metadata": {
        "colab": {
          "base_uri": "https://localhost:8080/"
        },
        "id": "af1cea04",
        "outputId": "e0714416-e3e8-4936-b54d-93e2aec613a6"
      },
      "outputs": [
        {
          "output_type": "stream",
          "name": "stdout",
          "text": [
            "       Espécie  Altura Média\n",
            "0  Ipê Amarelo           7.5\n",
            "1     Ipê Roxo           6.5\n",
            "2  Quaresmeira          10.0\n"
          ]
        }
      ],
      "source": [
        "### seu código começa aqui###\n",
        "# Agrupando por 'Espécie' e calculando a altura média\n",
        "altura_media_por_especie = df.groupby('Espécie')['Altura Média'].mean()\n",
        "\n",
        "# Convertendo para DataFrame para melhor visualização\n",
        "altura_media_por_especie_df = altura_media_por_especie.reset_index()\n",
        "\n",
        "# Exibir a tabela\n",
        "print(altura_media_por_especie_df)"
      ]
    },
    {
      "cell_type": "markdown",
      "id": "7aee5ad5",
      "metadata": {
        "id": "7aee5ad5"
      },
      "source": [
        "c) Qual é o estado com a maior altura média de árvores? Mostre o nome do estado e sua altura média."
      ]
    },
    {
      "cell_type": "code",
      "execution_count": 39,
      "id": "e222b1be",
      "metadata": {
        "colab": {
          "base_uri": "https://localhost:8080/"
        },
        "id": "e222b1be",
        "outputId": "05cb45bf-e8cd-46d1-906e-36166b2fd781"
      },
      "outputs": [
        {
          "output_type": "stream",
          "name": "stdout",
          "text": [
            "O estado com a maior altura média de árvores é Minas Gerais com uma altura média de 10.0 metros.\n"
          ]
        }
      ],
      "source": [
        "### seu código começa aqui###\n",
        "# Agrupando por 'Estado' e calculando a altura média\n",
        "altura_media_por_estado = df.groupby('Estado')['Altura Média'].mean()\n",
        "\n",
        "# Encontrando o estado com a maior altura média\n",
        "estado_maior_altura_media = altura_media_por_estado.idxmax()\n",
        "maior_altura_media = altura_media_por_estado.max()\n",
        "\n",
        "# Exibir o resultado\n",
        "print(f\"O estado com a maior altura média de árvores é {estado_maior_altura_media} com uma altura média de {maior_altura_media} metros.\")"
      ]
    },
    {
      "cell_type": "markdown",
      "id": "3ec9d7d6",
      "metadata": {
        "id": "3ec9d7d6"
      },
      "source": [
        "d) Qual é o estado com a maior quantidade total de árvores? Mostre o nome do estado e a quantidade total de árvores."
      ]
    },
    {
      "cell_type": "code",
      "execution_count": 40,
      "id": "1d8892c8",
      "metadata": {
        "colab": {
          "base_uri": "https://localhost:8080/"
        },
        "id": "1d8892c8",
        "outputId": "a8f3e366-a935-4a4c-b637-94bbe50cb700"
      },
      "outputs": [
        {
          "output_type": "stream",
          "name": "stdout",
          "text": [
            "O estado com a maior quantidade total de árvores é São Paulo com 150 árvores.\n"
          ]
        }
      ],
      "source": [
        "### seu código começa aqui###\n",
        "#Para encontrar o estado com a maior quantidade total de árvores, precisamos somar as quantidades de árvores por estado e depois identificar qual estado tem o total mais alto.\n",
        "# Agrupando por 'Estado' e somando as quantidades\n",
        "quantidade_total_por_estado = df.groupby('Estado')['Quantidade'].sum()\n",
        "\n",
        "# Encontrando o estado com a maior quantidade total de árvores\n",
        "estado_maior_quantidade = quantidade_total_por_estado.idxmax()\n",
        "maior_quantidade = quantidade_total_por_estado.max()\n",
        "\n",
        "# Exibir o resultado\n",
        "print(f\"O estado com a maior quantidade total de árvores é {estado_maior_quantidade} com {maior_quantidade} árvores.\")"
      ]
    },
    {
      "cell_type": "markdown",
      "id": "ed252638",
      "metadata": {
        "id": "ed252638"
      },
      "source": [
        "e) Qual é a espécie de árvore com a menor altura média? Mostre o nome da espécie e sua altura média."
      ]
    },
    {
      "cell_type": "code",
      "execution_count": 41,
      "id": "1862cd91",
      "metadata": {
        "colab": {
          "base_uri": "https://localhost:8080/"
        },
        "id": "1862cd91",
        "outputId": "5319343b-5e78-423d-ecb9-437b261a0a80"
      },
      "outputs": [
        {
          "output_type": "stream",
          "name": "stdout",
          "text": [
            "A espécie de árvore com a menor altura média é Ipê Roxo com uma altura média de 6.5 metros.\n"
          ]
        }
      ],
      "source": [
        "### seu código começa aqui###\n",
        "#Para encontrar a espécie de árvore com a menor altura média, precisamos agrupar o DataFrame por 'Espécie' e calcular a média da 'Altura Média' para cada espécie. Em seguida, identificaremos qual espécie tem a menor altura média. Aqui está o código para isso:\n",
        "# Agrupando por 'Espécie' e calculando a altura média\n",
        "altura_media_por_especie = df.groupby('Espécie')['Altura Média'].mean()\n",
        "\n",
        "# Encontrando a espécie com a menor altura média\n",
        "especie_menor_altura_media = altura_media_por_especie.idxmin()\n",
        "menor_altura_media = altura_media_por_especie.min()\n",
        "\n",
        "# Exibir o resultado\n",
        "print(f\"A espécie de árvore com a menor altura média é {especie_menor_altura_media} com uma altura média de {menor_altura_media} metros.\")"
      ]
    },
    {
      "cell_type": "markdown",
      "id": "2139d3d7",
      "metadata": {
        "id": "2139d3d7"
      },
      "source": [
        "# DESAFIO"
      ]
    },
    {
      "cell_type": "markdown",
      "id": "42f6f15b",
      "metadata": {
        "id": "42f6f15b"
      },
      "source": [
        "Você possui um DataFrame com informações sobre uma temporada da Fórmula 1. O DataFrame contém as colunas 'Piloto', 'Equipe', 'Pontuação' e 'Vitórias'. Sua tarefa é encontrar o melhor piloto da temporada com base em sua pontuação e número de vitórias."
      ]
    },
    {
      "cell_type": "code",
      "execution_count": 42,
      "id": "c0457b9c",
      "metadata": {
        "id": "c0457b9c"
      },
      "outputs": [],
      "source": [
        "import pandas as pd\n",
        "\n",
        "data = {'Piloto': ['Lewis Hamilton', 'Max Verstappen', 'Charles Leclerc', 'Lando Norris', 'Valtteri Bottas'],\n",
        "        'Equipe': ['Mercedes', 'Red Bull Racing', 'Ferrari', 'McLaren', 'Mercedes'],\n",
        "        'Pontuação': [385, 391, 334, 256, 221],\n",
        "        'Vitórias': [10, 9, 6, 3, 2]}\n",
        "\n",
        "df = pd.DataFrame(data)\n"
      ]
    },
    {
      "cell_type": "markdown",
      "id": "9f7440d7",
      "metadata": {
        "id": "9f7440d7"
      },
      "source": [
        "Encontre o melhor piloto da temporada de acordo com a pontuação e número de vitórias. O melhor piloto é aquele que tem a maior pontuação e, em caso de empate na pontuação, o maior número de vitórias."
      ]
    },
    {
      "cell_type": "code",
      "execution_count": 43,
      "id": "4884f933",
      "metadata": {
        "colab": {
          "base_uri": "https://localhost:8080/"
        },
        "id": "4884f933",
        "outputId": "5c751368-36ee-4d5d-8538-a5d5755071c3"
      },
      "outputs": [
        {
          "output_type": "stream",
          "name": "stdout",
          "text": [
            "O melhor piloto da temporada é Max Verstappen da equipe Red Bull Racing, com 391 pontos e 9 vitórias.\n"
          ]
        }
      ],
      "source": [
        "### seu código começa aqui###\n",
        "# Ordenando o DataFrame pela 'Pontuação' e 'Vitórias', ambos de forma decrescente\n",
        "df_ordenado = df.sort_values(by=['Pontuação', 'Vitórias'], ascending=[False, False])\n",
        "\n",
        "# Selecionando o melhor piloto\n",
        "melhor_piloto = df_ordenado.iloc[0]\n",
        "\n",
        "# Exibir o melhor piloto\n",
        "print(f\"O melhor piloto da temporada é {melhor_piloto['Piloto']} da equipe {melhor_piloto['Equipe']}, com {melhor_piloto['Pontuação']} pontos e {melhor_piloto['Vitórias']} vitórias.\")\n"
      ]
    },
    {
      "cell_type": "code",
      "source": [],
      "metadata": {
        "id": "IT_RJFSqhXO5"
      },
      "id": "IT_RJFSqhXO5",
      "execution_count": null,
      "outputs": []
    }
  ],
  "metadata": {
    "kernelspec": {
      "display_name": "Python 3 (ipykernel)",
      "language": "python",
      "name": "python3"
    },
    "language_info": {
      "codemirror_mode": {
        "name": "ipython",
        "version": 3
      },
      "file_extension": ".py",
      "mimetype": "text/x-python",
      "name": "python",
      "nbconvert_exporter": "python",
      "pygments_lexer": "ipython3",
      "version": "3.11.4"
    },
    "colab": {
      "provenance": [],
      "include_colab_link": true
    }
  },
  "nbformat": 4,
  "nbformat_minor": 5
}