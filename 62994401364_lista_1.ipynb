{
  "cells": [
    {
      "cell_type": "markdown",
      "metadata": {
        "id": "HCd0aPQTn45G"
      },
      "source": [
        "![WhatsApp%20Image%202023-09-10%20at%2011.20.28.jpeg](attachment:WhatsApp%20Image%202023-09-10%20at%2011.20.28.jpeg)\n"
      ]
    },
    {
      "cell_type": "markdown",
      "metadata": {
        "id": "EJPdCewnn45I"
      },
      "source": [
        "### Fala devs, blz??\n",
        "\n",
        "Esta será nossa primeira lista de exercícios para você testar seu conhecimento acerca do conteúdo do MÓDULO 2:\n",
        "\n",
        "-Meu Primeiro Programa em Python\n",
        "\n",
        "\n",
        "-Estrutura de Dados"
      ]
    },
    {
      "cell_type": "markdown",
      "metadata": {
        "id": "eyKdPhlNn45J"
      },
      "source": [
        "## INSTRUÇÕES:\n",
        "\n",
        "A lista deve ser realizada pelo Jupyter Notebook.\n",
        "\n",
        "Nâo é necessário entregar a lista para afins de certificado dentro da plataforma, entretanto para alunos da USP que queiram participar do processo seletivo ou conseguir créditos AAC (apenas FEANOS) é necessária a entrega de TODAS as listas.\n",
        "\n",
        "A entrega das listas ou pelo menos sua excecução é recomendada a fim de exercitar todo o conhecimento adquirido do curso.\n",
        "\n",
        "O DESAFIO é para realmente te desafiar, por isso não desista de tentar e de continuar com o curso, ao longo das listas você verá que cada vez mais você terá ferramentas para completá-lo.\n",
        "\n",
        "Caso haja alguma dúvida acerca da lista participe das monitorias que serão oferecidas as quintas e sábados das 17h as 18h pelo DISCORD. Caso seu problema não seje resolvido envie uma mensagem para contato.feadev@gmail.com\n",
        "\n",
        "O gabarito será disponibilizado na plataforma após o término de periodo de envio\n",
        "\n"
      ]
    },
    {
      "cell_type": "code",
      "execution_count": null,
      "metadata": {
        "id": "88jJ6dMgn45J"
      },
      "outputs": [],
      "source": [
        "## vamos começar??"
      ]
    },
    {
      "cell_type": "markdown",
      "metadata": {
        "id": "vS5WM1KGn45K"
      },
      "source": [
        "## QUESTÃO 0"
      ]
    },
    {
      "cell_type": "markdown",
      "metadata": {
        "id": "DcIxCMt8n45K"
      },
      "source": [
        "Todo programador deve saber apenas uma coisa: Pedir para o Python escrever \"Hello, Word\"\n",
        "Vamos testar se você já pode ser nomeado como um programador???"
      ]
    },
    {
      "cell_type": "code",
      "execution_count": null,
      "metadata": {
        "colab": {
          "base_uri": "https://localhost:8080/"
        },
        "id": "_RitwSpGn45K",
        "outputId": "5ca3522f-dc58-46bc-d5a8-8bc109ff8dba"
      },
      "outputs": [
        {
          "output_type": "stream",
          "name": "stdout",
          "text": [
            "Hello, World!\n"
          ]
        }
      ],
      "source": [
        "print(\"Hello, World!\")"
      ]
    },
    {
      "cell_type": "markdown",
      "metadata": {
        "id": "I4r2yZgBn45L"
      },
      "source": [
        "E se eu te pedir para criar um código que tenha como OUTPUT  (termo comumente usado na programação e na computação em geral para se referir à saída de um programa ou processo) o seu número favorito? Como seria?"
      ]
    },
    {
      "cell_type": "code",
      "execution_count": null,
      "metadata": {
        "colab": {
          "base_uri": "https://localhost:8080/"
        },
        "id": "ahPT5O3un45L",
        "outputId": "a089d895-115b-4bc4-e30a-c136fb381005"
      },
      "outputs": [
        {
          "output_type": "stream",
          "name": "stdout",
          "text": [
            "Meu número favorito é: 13\n"
          ]
        }
      ],
      "source": [
        "print(\"Meu número favorito é:\", 13)"
      ]
    },
    {
      "cell_type": "markdown",
      "metadata": {
        "id": "R4m7cfHmn45L"
      },
      "source": [
        "## QUESTÃO 1\n"
      ]
    },
    {
      "cell_type": "markdown",
      "metadata": {
        "id": "lpERQgPYn45L"
      },
      "source": [
        "Você está fazendo um pedido no Starbucks e na hora da compra pedem o seu nome completo para te chamarem quando seu pedido estiver pronto. Entretanto a moça do caixa anota somente o seu primeiro nome. Só depois de ter visto que haviam muitas pessoas na fila com o mesmo nome que o seu, ela te pergunta somente o seu sobrenome.\n",
        "\n",
        "Na hora de entrega do seu pedido, como o atendente chamará por você??\n",
        "\n",
        "Agora, sua tarefa é criar um código em Python no Jupyter Notebook para combinar o seu primeiro nome e seu sobrenome e exibir o nome completo que o atendente usará para chamar você quando seu pedido estiver pronto.\n",
        "\n",
        "Seu código deve fazer o seguinte:\n",
        "\n",
        "Declare duas variáveis: primeiro_nome e sobrenome.\n",
        "Atribua um valor ao primeiro_nome representando o primeiro nome que a atendente anotou.\n",
        "Atribua um valor ao sobrenome representando o sobrenome que a atendente solicitou posteriormente.\n",
        "Use sua habilidade em Python para combinar essas duas partes e criar o nome completo.\n",
        "Exiba o nome completo no Jupyter Notebook.\n",
        "\n",
        "Desafio aceito? Agora, você está pronto para criar o código que garantirá que o atendente do Starbucks chame você corretamente quando seu pedido estiver pronto! ☕🪄"
      ]
    },
    {
      "cell_type": "markdown",
      "metadata": {
        "id": "-umVt7Zdn45M"
      },
      "source": [
        "![Captura%20de%20tela%202023-09-24%20140330.png](attachment:Captura%20de%20tela%202023-09-24%20140330.png)"
      ]
    },
    {
      "cell_type": "code",
      "execution_count": null,
      "metadata": {
        "colab": {
          "base_uri": "https://localhost:8080/"
        },
        "id": "T1Y0UfgQn45M",
        "outputId": "0895e0c1-21ec-4058-e1ff-2881b4173a15"
      },
      "outputs": [
        {
          "output_type": "stream",
          "name": "stdout",
          "text": [
            "Nome completo para chamar no Starbucks: Jefferson Melo\n"
          ]
        }
      ],
      "source": [
        "primeiro_nome = \"Jefferson\"\n",
        "sobrenome = \"Melo\"\n",
        "nome_completo = primeiro_nome + \" \" + sobrenome\n",
        "print(\"Nome completo para chamar no Starbucks:\", nome_completo)"
      ]
    },
    {
      "cell_type": "markdown",
      "metadata": {
        "id": "CXQpsGk8n45M"
      },
      "source": [
        "## QUESTÃO 2\n",
        "\n"
      ]
    },
    {
      "cell_type": "markdown",
      "metadata": {
        "id": "iN2gsG9Kn45M"
      },
      "source": [
        "Imagine que você é um professor de Matemática para crianças do ensino fundamental e um aluno curioso te pergunta:\n",
        "\n",
        "\"Professor, quanto é 13 + 15 + 16 + 6?\"\n",
        "\n",
        "Você, é claro, não quer parecer contar nos dedos por baixo da mesa para uma pergunta tão simples. Então, você decide mostrar toda a sua sabedoria tecnológica e recorre ao Python para dar a resposta instantaneamente.\n",
        "\n",
        "Como deve ser o código para chegar ao resultado?"
      ]
    },
    {
      "cell_type": "markdown",
      "metadata": {
        "id": "6RpTkF11n45M"
      },
      "source": [
        "![Captura%20de%20tela%202023-09-24%20140141.png](attachment:Captura%20de%20tela%202023-09-24%20140141.png)"
      ]
    },
    {
      "cell_type": "code",
      "execution_count": null,
      "metadata": {
        "colab": {
          "base_uri": "https://localhost:8080/"
        },
        "id": "dLJamlZYn45M",
        "outputId": "b16d9f50-46d1-4efb-9cf3-3514615814d5"
      },
      "outputs": [
        {
          "output_type": "stream",
          "name": "stdout",
          "text": [
            "A soma é: 50\n"
          ]
        }
      ],
      "source": [
        "# Declare as variáveis com os números a serem somados:\n",
        "numero1 = 13\n",
        "numero2 = 15\n",
        "numero3 = 16\n",
        "numero4 = 6\n",
        "\n",
        "# Realize a soma dos números:\n",
        "soma = numero1 + numero2 + numero3 + numero4\n",
        "\n",
        "# Exiba o resultado:\n",
        "print(\"A soma é:\", soma)"
      ]
    },
    {
      "cell_type": "markdown",
      "metadata": {
        "id": "iljDo_-Qn45M"
      },
      "source": [
        "## QUESTÃO 3"
      ]
    },
    {
      "cell_type": "markdown",
      "metadata": {
        "id": "TJx43H5_n45M"
      },
      "source": [
        "Você é um detetive de palavras, conhecido por desvendar enigmas usando manipulação de texto. Hoje, você enfrenta um novo mistério envolvendo uma mensagem secreta. Sua missão é decifrar essa mensagem usando operações com texto em Python.\n",
        "\n",
        "Mistério da Mensagem Secreta:\n",
        "\n",
        "Você recebeu a seguinte mensagem secreta:"
      ]
    },
    {
      "cell_type": "code",
      "execution_count": null,
      "metadata": {
        "id": "QPjx1ufpn45M"
      },
      "outputs": [],
      "source": [
        "\n",
        "#Mistério: @s4b@d0 3n0c0nd3 3st@ m3n$@g3m. P0d3r14$ d3c1fr@-l@?\n"
      ]
    },
    {
      "cell_type": "markdown",
      "metadata": {
        "id": "0nHwjdOsn45N"
      },
      "source": [
        "A mensagem parece confusa, mas você sabe que ela contém informações importantes. Aqui estão as etapas que você deve seguir para decifrar a mensagem:\n",
        "\n",
        "Crie uma variável chamada mensagem e atribua a ela a mensagem secreta fornecida acima.\n",
        "Use operações de texto em Python para limpar a mensagem, removendo todos os caracteres especiais, números e espaços em branco.\n",
        "\n",
        "Converta a mensagem resultante para letras minúsculas.\n",
        "\n",
        "Agora que a mensagem está limpa, você pode decifrá-la? A mensagem secreta pode conter uma pista importante!\n",
        "\n",
        "Crie um código em Python no Jupyter Notebook para realizar essas etapas e revelar o que está por trás desse mistério! 🕵️‍♂️🔍"
      ]
    },
    {
      "cell_type": "code",
      "execution_count": null,
      "metadata": {
        "colab": {
          "base_uri": "https://localhost:8080/"
        },
        "id": "agV3Suovn45N",
        "outputId": "b7296a99-6771-43e6-dd38-92908a6e1497"
      },
      "outputs": [
        {
          "output_type": "stream",
          "name": "stdout",
          "text": [
            "Mensagem limpa: mistério:sbdncndstmngm.pdr1dc1frl?\n"
          ]
        }
      ],
      "source": [
        "# Mensagem secreta fornecida\n",
        "mensagem = \"#Mistério: @s4b@d0 3n0c0nd3 3st@ m3n$@g3m. P0d3r14$ d3c1fr@-l@?\"\n",
        "\n",
        "# Remover caracteres especiais, números e espaços em branco usando replace() várias vezes\n",
        "mensagem_limpa = mensagem.replace(\"#\", \"\").replace(\"@\", \"\").replace(\"4\", \"\").replace(\"0\", \"\").replace(\"3\", \"\").replace(\"$\", \"\").replace(\"-\", \"\").replace(\" \", \"\")\n",
        "\n",
        "# Converter para letras minúsculas\n",
        "mensagem_limpa = mensagem_limpa.lower()\n",
        "\n",
        "# Exibir a mensagem limpa\n",
        "print(\"Mensagem limpa:\", mensagem_limpa)"
      ]
    },
    {
      "cell_type": "markdown",
      "metadata": {
        "id": "iJTTib6vn45N"
      },
      "source": [
        "## QUESTÃO 4"
      ]
    },
    {
      "cell_type": "markdown",
      "metadata": {
        "id": "OyWb30rzn45N"
      },
      "source": [
        "\n",
        "Você acaba de ingressar no curso de Python do FEA.dev e decide iniciar sua própria consultoria. Parabéns!!! Você logo recebe seu primeiro cliente, a pizzaria do bairro. Ela tem um grande objetivo em mente: desbancar a grande indústria de pizza Baralho's e Pizza Wut. Para isso, vai recorrer à tecnologia em seus processos.\n",
        "\n",
        "Sua primeira função é criar um sistema que recebe o valor de cada venda de pizza e bebida e imprima o valor final."
      ]
    },
    {
      "cell_type": "code",
      "execution_count": null,
      "metadata": {
        "colab": {
          "base_uri": "https://localhost:8080/"
        },
        "id": "gaI5zmqIn45N",
        "outputId": "fa4deb22-3258-4bcd-ff19-91101ec6c377"
      },
      "outputs": [
        {
          "output_type": "stream",
          "name": "stdout",
          "text": [
            "Quantidade de pizzas vendidas: 1\n",
            "Quantidade de bebidas vendidas: 1\n",
            "Valor total da venda: R$ 13\n"
          ]
        }
      ],
      "source": [
        "# Função para calcular o valor total da venda\n",
        "def calcular_valor_venda(pizza, bebida):\n",
        "    # Preço das pizzas e bebidas\n",
        "    preco_pizza = 10  # Preço de cada pizza\n",
        "    preco_bebida = 3  # Preço de cada bebida\n",
        "\n",
        "    # Calcular o valor total da venda\n",
        "    total_venda = (pizza * preco_pizza) + (bebida * preco_bebida)\n",
        "\n",
        "    return total_venda\n",
        "\n",
        "# Solicitar a quantidade de pizzas e bebidas vendidas\n",
        "quantidade_pizzas = int(input(\"Quantidade de pizzas vendidas: \"))\n",
        "quantidade_bebidas = int(input(\"Quantidade de bebidas vendidas: \"))\n",
        "\n",
        "# Calcular o valor total da venda\n",
        "valor_total = calcular_valor_venda(quantidade_pizzas, quantidade_bebidas)\n",
        "\n",
        "# Exibir o valor total da venda\n",
        "print(\"Valor total da venda: R$\", valor_total)"
      ]
    },
    {
      "cell_type": "markdown",
      "metadata": {
        "id": "GHjCCnO4n45N"
      },
      "source": [
        "![pizza_batepapo.webp](attachment:pizza_batepapo.webp)"
      ]
    },
    {
      "cell_type": "markdown",
      "metadata": {
        "id": "2u5KteL9n45N"
      },
      "source": [
        "## QUESTÃO 5"
      ]
    },
    {
      "cell_type": "markdown",
      "metadata": {
        "id": "g8XCUkWCn45N"
      },
      "source": [
        "\n",
        "Excelente! A clientela adorou o programa de fidelidade.\n",
        "Feito isto, chegou a hora de olhar para os processos internos. A ideia é automatizar a lista de compra da semana, antes feita no papel."
      ]
    },
    {
      "cell_type": "markdown",
      "metadata": {
        "id": "O8ux1HtPn45N"
      },
      "source": [
        "a) O chef de cozinha resolveu aprender uma receita que utiliza a fermentação natural, de forma que a pizza fique mais próxima da tradicional italiana. Feito isso, não há mais necessidade de utilizar leite, ovos e fermento biológico para a receita. Retire-os da lista de compras e em seguida, adicione Levain e Açúcar, ingredientes da fermentação natural. Imprima a nova lista."
      ]
    },
    {
      "cell_type": "code",
      "execution_count": null,
      "metadata": {
        "colab": {
          "base_uri": "https://localhost:8080/"
        },
        "id": "PnIKrmdtn45N",
        "outputId": "db4ab8fc-ec1d-486b-ca0f-ec4d502d0bf8"
      },
      "outputs": [
        {
          "output_type": "stream",
          "name": "stdout",
          "text": [
            "Nova lista de compras: ['Farinha de Trigo', 'Calabresa', 'Milho', 'Champignon', 'Molho de Tomate', 'Frango', 'Requeijão', 'Lombo', 'Levain', 'Açúcar']\n"
          ]
        }
      ],
      "source": [
        "compras = ['Farinha de Trigo', 'Ovos', 'Fermento Biológico', 'Leite', 'Calabresa', 'Milho',\n",
        "           'Champignon', 'Molho de Tomate', 'Frango', 'Requeijão', 'Lombo']\n",
        "\n",
        "# Lista de compras original\n",
        "compras = ['Farinha de Trigo', 'Ovos', 'Fermento Biológico', 'Leite', 'Calabresa', 'Milho', 'Champignon', 'Molho de Tomate', 'Frango', 'Requeijão', 'Lombo']\n",
        "\n",
        "# Ingredientes a serem removidos\n",
        "ingredientes_remover = ['Ovos', 'Fermento Biológico', 'Leite']\n",
        "\n",
        "# Ingredientes a serem adicionados\n",
        "ingredientes_adicionar = ['Levain', 'Açúcar']\n",
        "\n",
        "# Remover ingredientes da lista de compras\n",
        "for ingrediente in ingredientes_remover:\n",
        "    if ingrediente in compras:\n",
        "        compras.remove(ingrediente)\n",
        "\n",
        "# Adicionar ingredientes à lista de compras\n",
        "compras.extend(ingredientes_adicionar)\n",
        "\n",
        "# Imprimir a nova lista de compras\n",
        "print(\"Nova lista de compras:\", compras)\n"
      ]
    },
    {
      "cell_type": "markdown",
      "metadata": {
        "id": "Wqn-nDwAn45N"
      },
      "source": [
        "b) Enquanto você estava com o computador ligado, um hacker da pizzaria rival do bairro resolveu atacar sua lista de compras invertendo alguns dos itens, como se vê abaixo:"
      ]
    },
    {
      "cell_type": "markdown",
      "metadata": {
        "id": "dr1_UBfCn45N"
      },
      "source": [
        "![Captura%20de%20tela%202023-09-24%20135736.png](attachment:Captura%20de%20tela%202023-09-24%20135736.png)"
      ]
    },
    {
      "cell_type": "markdown",
      "metadata": {
        "id": "iYDSU-CSn45O"
      },
      "source": [
        "Conserte os valores que foram adulterados e imprima a lista corrigida."
      ]
    },
    {
      "cell_type": "code",
      "execution_count": null,
      "metadata": {
        "colab": {
          "base_uri": "https://localhost:8080/"
        },
        "id": "VcPRPi4_n45O",
        "outputId": "7f20fd27-f20a-4859-fdde-7adbd44ba755"
      },
      "outputs": [
        {
          "output_type": "stream",
          "name": "stdout",
          "text": [
            "Lista de compras restaurada: ['Açúcar', 'niaveL', 'Lombo', 'Requeijão', 'Frango', 'etamoT ed ohloM', 'Champignon', 'Milho', 'Calabresa', 'ogirT ed ahniraF']\n"
          ]
        }
      ],
      "source": [
        "# Lista invertida pelo hacker\n",
        "sarpmoc = ['ogirT ed ahniraF', 'Calabresa', 'Milho', 'Champignon', 'etamoT ed ohloM', 'Frango',\n",
        "           'Requeijão', 'Lombo', 'niaveL', 'Açúcar']\n",
        "\n",
        "# Inverter a lista para restaurar a ordem original\n",
        "sarpmoc.reverse()\n",
        "\n",
        "# Imprimir a lista restaurada\n",
        "print(\"Lista de compras restaurada:\", sarpmoc)"
      ]
    },
    {
      "cell_type": "markdown",
      "metadata": {
        "id": "rsqgCMOan45O"
      },
      "source": [
        "c) Após esse duro golpe, você percebe que é necessário guardar as informações importantes em uma estrutura de dados que seja mais segura (isto é, que não seja mutável). Converta a lista de compras para uma estrutura com estas características e imprima o tipo da variável. &nbsp; Dica: Utilize a função type() para obter o tipo da variável"
      ]
    },
    {
      "cell_type": "code",
      "execution_count": null,
      "metadata": {
        "colab": {
          "base_uri": "https://localhost:8080/"
        },
        "id": "FTgPuP7Bn45O",
        "outputId": "6ce60fd7-d932-4e88-8d01-6f1abef66aa9"
      },
      "outputs": [
        {
          "output_type": "stream",
          "name": "stdout",
          "text": [
            "Tipo da variável compras_tupla: <class 'tuple'>\n"
          ]
        }
      ],
      "source": [
        "# Lista de compras original\n",
        "compras = ['Farinha de Trigo', 'Calabresa', 'Milho', 'Champignon', 'Molho de Tomate', 'Frango', 'Requeijão', 'Lombo', 'Levain', 'Açúcar']\n",
        "\n",
        "# Converter a lista de compras em uma tupla\n",
        "compras_tupla = tuple(compras)\n",
        "\n",
        "# Imprimir o tipo da variável\n",
        "print(\"Tipo da variável compras_tupla:\", type(compras_tupla))"
      ]
    },
    {
      "cell_type": "markdown",
      "metadata": {
        "id": "F70NAWfAn45O"
      },
      "source": [
        "![af5addc01d02cc4bc54fd86a456e3dce90d2e4276b59c876cea22cc84e9a4f07_1.jpg](attachment:af5addc01d02cc4bc54fd86a456e3dce90d2e4276b59c876cea22cc84e9a4f07_1.jpg)"
      ]
    },
    {
      "cell_type": "markdown",
      "metadata": {
        "id": "OKDsiBGUn45O"
      },
      "source": [
        "## QUESTÃO 6"
      ]
    },
    {
      "cell_type": "markdown",
      "metadata": {
        "id": "8dkFi2pRn45O"
      },
      "source": [
        "\n",
        "\n",
        "Empresas modernas se importam com ESG (Environmental, Social and Governance). A pizzaria do bairro não seria diferente, e sua missão é auxiliar a empresa a reduzir as emissões de lixo em sua operação. &nbsp;\n"
      ]
    },
    {
      "cell_type": "markdown",
      "metadata": {
        "id": "eRlBQE2bn45U"
      },
      "source": [
        "![ac137a44f5f8cd3c6126fc8ff8c24fff.jpg](attachment:ac137a44f5f8cd3c6126fc8ff8c24fff.jpg)"
      ]
    },
    {
      "cell_type": "markdown",
      "metadata": {
        "id": "xxKaPWiIn45U"
      },
      "source": [
        " O primeiro passo será tornar o panfleto digital, de forma que seja enviado pelas redes sociais e não precise ser impresso e consequentemente descartável. Para demonstrar essa funcionalidade ao dono, você deve criar um exemplo de panfleto que contenha os sabores de pizza salgadas e doces (separados), tipos de bebida e adicionais, conforme os valores a seguir:\n",
        "-  Pizzas salgadas: Calabresa, Portuguesa, Mussarela e Pepperoni;\n",
        "-  Pizzas doces: Prestígio, Chocolate e Doce de Leite;\n",
        "-  Bebidas: Guaraná, Cola, Suco de Laranja e Suco de Uva;\n",
        "-  Adicionais: Bacon, Requeijão, Milho e Azeitona\n",
        "\n",
        "Imprima o panfleto final."
      ]
    },
    {
      "cell_type": "code",
      "execution_count": null,
      "metadata": {
        "colab": {
          "base_uri": "https://localhost:8080/"
        },
        "id": "ArL0dixbn45V",
        "outputId": "1342a683-78c9-40bf-a219-f992bd559616"
      },
      "outputs": [
        {
          "output_type": "stream",
          "name": "stdout",
          "text": [
            "Panfleto Digital - Pizzaria do Bairro\n",
            "\n",
            "Sabores de Pizza Salgadas:\n",
            "- Calabresa\n",
            "- Portuguesa\n",
            "- Mussarela\n",
            "- Pepperoni\n",
            "\n",
            "Sabores de Pizza Doces:\n",
            "- Prestígio\n",
            "- Chocolate\n",
            "- Doce de Leite\n",
            "\n",
            "Tipos de Bebida:\n",
            "- Guaraná\n",
            "- Cola\n",
            "- Suco de Laranja\n",
            "- Suco de Uva\n",
            "\n",
            "Adicionais:\n",
            "- Bacon\n",
            "- Requeijão\n",
            "- Milho\n",
            "- Azeitona\n"
          ]
        }
      ],
      "source": [
        "# Pizzas salgadas\n",
        "pizzas_salgadas = [\"Calabresa\", \"Portuguesa\", \"Mussarela\", \"Pepperoni\"]\n",
        "\n",
        "# Pizzas doces\n",
        "pizzas_doces = [\"Prestígio\", \"Chocolate\", \"Doce de Leite\"]\n",
        "\n",
        "# Bebidas\n",
        "bebidas = [\"Guaraná\", \"Cola\", \"Suco de Laranja\", \"Suco de Uva\"]\n",
        "\n",
        "# Adicionais\n",
        "adicionais = [\"Bacon\", \"Requeijão\", \"Milho\", \"Azeitona\"]\n",
        "\n",
        "# Imprimir o panfleto\n",
        "print(\"Panfleto Digital - Pizzaria do Bairro\\n\")\n",
        "\n",
        "print(\"Sabores de Pizza Salgadas:\")\n",
        "for sabor in pizzas_salgadas:\n",
        "    print(f\"- {sabor}\")\n",
        "\n",
        "print(\"\\nSabores de Pizza Doces:\")\n",
        "for sabor in pizzas_doces:\n",
        "    print(f\"- {sabor}\")\n",
        "\n",
        "print(\"\\nTipos de Bebida:\")\n",
        "for bebida in bebidas:\n",
        "    print(f\"- {bebida}\")\n",
        "\n",
        "print(\"\\nAdicionais:\")\n",
        "for adicional in adicionais:\n",
        "    print(f\"- {adicional}\")"
      ]
    },
    {
      "cell_type": "markdown",
      "metadata": {
        "id": "k4lrLCpvn45V"
      },
      "source": [
        "### DESAFIO"
      ]
    },
    {
      "cell_type": "markdown",
      "metadata": {
        "id": "0IL_Oi-on45V"
      },
      "source": [
        "Sucesso! A pizzaria do bairro tornou-se uma multinacional que engoliu todas as concorrentes. Querendo crescer ainda mais, o dono sugere um novo recurso: criar sua própria pizza. Para isso, temos um dicionário com todos os ingredientes e seus respectivos preços. A pizzaria recebeu os seguintes pedidos:\n",
        "-  1: Massa sem glúten, molho barbecue, frango, pimentão e tomate\n",
        "-  2: Massa tradicional, molho de tomate, atum, mussarela, azeitona, cebola, pimentão, tomate e borda com queijo\n",
        "-  3: Massa integral, molho bechamel, cebola, pimentão, tomate, frango e borda com requeijão\n",
        "\n",
        "Imprima uma lista com todos os itens do pedido e seu preço final que será retornado ao cliente. Armazene o valor das vendas de forma que não seja possível alterar seus valores e imprima."
      ]
    },
    {
      "cell_type": "markdown",
      "metadata": {
        "id": "PyBhl-PAn45V"
      },
      "source": [
        "![8y2cc1flxem91.jpg](attachment:8y2cc1flxem91.jpg)"
      ]
    },
    {
      "cell_type": "code",
      "execution_count": null,
      "metadata": {
        "colab": {
          "base_uri": "https://localhost:8080/"
        },
        "id": "nXQcUTign45V",
        "outputId": "4e05bc40-5a0b-4d80-d31e-321fac9b738e"
      },
      "outputs": [
        {
          "output_type": "stream",
          "name": "stdout",
          "text": [
            "Pedido 1:\n",
            "- Massa sem glúten: R$ 5.00\n",
            "- Molho barbecue: R$ 2.00\n",
            "- Frango: R$ 3.00\n",
            "- Pimentão: R$ 1.00\n",
            "- Tomate: R$ 1.00\n",
            "Preço total: R$ 12.00\n",
            "\n",
            "Pedido 2:\n",
            "- Massa tradicional: R$ 4.00\n",
            "- Molho de tomate: R$ 1.50\n",
            "- Atum: R$ 3.00\n",
            "- Mussarela: R$ 2.50\n",
            "- Azeitona: R$ 1.00\n",
            "- Cebola: R$ 1.00\n",
            "- Pimentão: R$ 1.00\n",
            "- Tomate: R$ 1.00\n",
            "- Borda com queijo: R$ 2.00\n",
            "Preço total: R$ 17.00\n",
            "\n",
            "Pedido 3:\n",
            "- Massa integral: R$ 4.50\n",
            "- Molho bechamel: R$ 2.00\n",
            "- Cebola: R$ 1.00\n",
            "- Pimentão: R$ 1.00\n",
            "- Tomate: R$ 1.00\n",
            "- Frango: R$ 3.00\n",
            "- Borda com requeijão: R$ 2.50\n",
            "Preço total: R$ 15.00\n",
            "\n",
            "Valor total das vendas: R$ 44.00\n"
          ]
        }
      ],
      "source": [
        "# Dicionário de preços dos ingredientes\n",
        "precos_ingredientes = {\n",
        "    \"Massa sem glúten\": 5.0,\n",
        "    \"Massa tradicional\": 4.0,\n",
        "    \"Massa integral\": 4.5,\n",
        "    \"Molho barbecue\": 2.0,\n",
        "    \"Molho de tomate\": 1.5,\n",
        "    \"Atum\": 3.0,\n",
        "    \"Mussarela\": 2.5,\n",
        "    \"Azeitona\": 1.0,\n",
        "    \"Cebola\": 1.0,\n",
        "    \"Pimentão\": 1.0,\n",
        "    \"Tomate\": 1.0,\n",
        "    \"Borda com queijo\": 2.0,\n",
        "    \"Borda com requeijão\": 2.5,\n",
        "    \"Frango\": 3.0,\n",
        "    \"Molho bechamel\": 2.0\n",
        "}\n",
        "\n",
        "# Pedidos e seus ingredientes\n",
        "pedidos = {\n",
        "    1: [\"Massa sem glúten\", \"Molho barbecue\", \"Frango\", \"Pimentão\", \"Tomate\"],\n",
        "    2: [\"Massa tradicional\", \"Molho de tomate\", \"Atum\", \"Mussarela\", \"Azeitona\", \"Cebola\", \"Pimentão\", \"Tomate\", \"Borda com queijo\"],\n",
        "    3: [\"Massa integral\", \"Molho bechamel\", \"Cebola\", \"Pimentão\", \"Tomate\", \"Frango\", \"Borda com requeijão\"]\n",
        "}\n",
        "\n",
        "# Calcular o preço total de cada pedido\n",
        "preco_vendas = {}\n",
        "\n",
        "for pedido, ingredientes in pedidos.items():\n",
        "    preco_total = sum([precos_ingredientes[ingrediente] for ingrediente in ingredientes])\n",
        "    preco_vendas[pedido] = preco_total\n",
        "\n",
        "# Imprimir os itens do pedido e seus preços finais\n",
        "for pedido, ingredientes in pedidos.items():\n",
        "    print(f\"Pedido {pedido}:\")\n",
        "    for ingrediente in ingredientes:\n",
        "        print(f\"- {ingrediente}: R$ {precos_ingredientes[ingrediente]:.2f}\")\n",
        "    print(f\"Preço total: R$ {preco_vendas[pedido]:.2f}\")\n",
        "    print()\n",
        "\n",
        "# Imprimir o valor total das vendas\n",
        "valor_total_vendas = sum(preco_vendas.values())\n",
        "print(f\"Valor total das vendas: R$ {valor_total_vendas:.2f}\")"
      ]
    }
  ],
  "metadata": {
    "kernelspec": {
      "display_name": "Python 3 (ipykernel)",
      "language": "python",
      "name": "python3"
    },
    "language_info": {
      "codemirror_mode": {
        "name": "ipython",
        "version": 3
      },
      "file_extension": ".py",
      "mimetype": "text/x-python",
      "name": "python",
      "nbconvert_exporter": "python",
      "pygments_lexer": "ipython3",
      "version": "3.11.4"
    },
    "colab": {
      "provenance": []
    }
  },
  "nbformat": 4,
  "nbformat_minor": 0
}