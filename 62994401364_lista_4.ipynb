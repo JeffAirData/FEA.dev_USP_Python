{
  "cells": [
    {
      "cell_type": "markdown",
      "metadata": {
        "id": "KSCe0C-WLLJs"
      },
      "source": [
        "![WhatsApp%20Image%202023-09-10%20at%2011.20.28.jpeg](attachment:WhatsApp%20Image%202023-09-10%20at%2011.20.28.jpeg)\n"
      ]
    },
    {
      "cell_type": "markdown",
      "metadata": {
        "id": "J_IhSmYSLLJv"
      },
      "source": [
        "### Fala devs, blz??\n",
        "\n",
        "Esta será nossa quarta lista de exercícios para você testar seu conhecimento acerca do conteúdo do MÓDULO 2:\n",
        "\n",
        "-Introdução a bibliotecas\n",
        "\n",
        "-Numpy\n"
      ]
    },
    {
      "cell_type": "markdown",
      "metadata": {
        "id": "hYgevBr7LLJw"
      },
      "source": [
        "## INSTRUÇÕES:\n",
        "\n",
        "A lista deve ser realizada pelo Jupyter Notebook.\n",
        "\n",
        "Nâo é necessário entregar a lista para afins de certificado dentro da plataforma, entretanto para alunos da USP que queiram participar do processo seletivo ou conseguir créditos AAC (apenas FEANOS) é necessária a entrega de TODAS as listas.\n",
        "\n",
        "A entrega das listas ou pelo menos sua excecução é recomendada a fim de exercitar todo o conhecimento adquirido do curso.\n",
        "\n",
        "O DESAFIO é para realmente te desafiar, por isso não desista de tentar e de continuar com o curso, ao longo das listas você verá que cada vez mais você terá ferramentas para completá-lo.\n",
        "\n",
        "Caso haja alguma dúvida acerca da lista participe das monitorias que serão oferecidas as quintas e sábados das 17h as 18h pelo DISCORD. Caso seu problema não seje resolvido envie uma mensagem para contato.feadev@gmail.com\n",
        "\n",
        "O gabarito será disponibilizado na plataforma após o término de periodo de envio\n",
        "\n"
      ]
    },
    {
      "cell_type": "code",
      "execution_count": null,
      "metadata": {
        "id": "J-EiBiVDLLJw"
      },
      "outputs": [],
      "source": [
        "## vamos começar??\n",
        "#O.K.!!!#\n"
      ]
    },
    {
      "cell_type": "markdown",
      "metadata": {
        "id": "0B_sdnP0LLJx"
      },
      "source": [
        "## QUESTÃO 0"
      ]
    },
    {
      "cell_type": "markdown",
      "metadata": {
        "id": "nUeQg9abLLJy"
      },
      "source": [
        "**Simulação de um Cassino**\n",
        "\n",
        "Você está desenvolvendo um programa de simulação de cassino em Python. Importe a biblioteca random para criar uma função que simule um jogo de roleta. A função deve retornar o número onde a bola da roleta parou."
      ]
    },
    {
      "cell_type": "markdown",
      "metadata": {
        "id": "l0kcuIotLLJy"
      },
      "source": [
        "![Captura%20de%20tela%202023-10-25%20202734.png](attachment:Captura%20de%20tela%202023-10-25%20202734.png)"
      ]
    },
    {
      "cell_type": "code",
      "execution_count": null,
      "metadata": {
        "colab": {
          "base_uri": "https://localhost:8080/"
        },
        "id": "xxChkSGJLLJy",
        "outputId": "1b9c5588-08ac-4b68-df0d-ec38bac865e6"
      },
      "outputs": [
        {
          "output_type": "stream",
          "name": "stdout",
          "text": [
            "A bola da roleta parou no número: 35\n"
          ]
        }
      ],
      "source": [
        "import random\n",
        "\n",
        "def simular_roleta():\n",
        "    # Números da roleta (de 0 a 36)\n",
        "    numeros_roleta = list(range(37))\n",
        "\n",
        "    # Gire a roleta e escolha um número aleatório\n",
        "    numero_vencedor = random.choice(numeros_roleta)\n",
        "\n",
        "    return numero_vencedor\n",
        "\n",
        "# Exemplo de uso:\n",
        "resultado = simular_roleta()\n",
        "print(f\"A bola da roleta parou no número: {resultado}\")"
      ]
    },
    {
      "cell_type": "markdown",
      "metadata": {
        "id": "ebuPCNBkLLJy"
      },
      "source": [
        "Além disso, adicione um jogo de cartas ao seu cassino. Crie uma função chamada simular_jogo_de_cartas() que simule um jogo de cartas, como blackjack. A função deve retornar um valor aleatório representando a pontuação do jogador no jogo de cartas, que pode ser de 1 a 21."
      ]
    },
    {
      "cell_type": "code",
      "execution_count": null,
      "metadata": {
        "colab": {
          "base_uri": "https://localhost:8080/"
        },
        "id": "m8ZeuyFfLLJy",
        "outputId": "8628de0b-6d2e-4b31-e59b-67ee53187645"
      },
      "outputs": [
        {
          "output_type": "stream",
          "name": "stdout",
          "text": [
            "A pontuação do jogador no jogo de cartas é: 18\n"
          ]
        }
      ],
      "source": [
        "import random\n",
        "\n",
        "def simular_jogo_de_cartas():\n",
        "    # Baralho com valores das cartas\n",
        "    baralho = [2, 3, 4, 5, 6, 7, 8, 9, 10, 10, 10, 10, 11]  # Assume-se que o Ás (11) pode valer 1 ou 11\n",
        "\n",
        "    # Inicializa a pontuação do jogador\n",
        "    pontuacao = 0\n",
        "\n",
        "    # Distribui duas cartas iniciais\n",
        "    for _ in range(2):\n",
        "        carta = random.choice(baralho)\n",
        "        pontuacao += carta\n",
        "\n",
        "    return pontuacao\n",
        "\n",
        "# Exemplo de uso:\n",
        "pontuacao_jogador = simular_jogo_de_cartas()\n",
        "print(f\"A pontuação do jogador no jogo de cartas é: {pontuacao_jogador}\")"
      ]
    },
    {
      "cell_type": "markdown",
      "metadata": {
        "id": "LOs5lFJ8LLJz"
      },
      "source": [
        "## QUESTÃO 1\n"
      ]
    },
    {
      "cell_type": "markdown",
      "metadata": {
        "id": "Oy4B5d-6LLJz"
      },
      "source": [
        "O verão está chegando e você já quer colocar uma caixa d´água na sua casa para usar como piscina. Na loja de materiais de construção, o atendente informa que as caixas são vendidas em relação a área que a comporta, Sabendo que você tem um espaço para uma piscina de 5 metros de raio, calcule a área do círculo, e descubra qual caixa comprar.\n",
        "\n",
        "Lembre-se de que a fórmula para calcular a área de um círculo é A = π * r^2."
      ]
    },
    {
      "cell_type": "markdown",
      "metadata": {
        "id": "tv3blgKkLLJ0"
      },
      "source": [
        "![Captura%20de%20tela%202023-10-25%20204500.png](attachment:Captura%20de%20tela%202023-10-25%20204500.png)"
      ]
    },
    {
      "cell_type": "code",
      "execution_count": null,
      "metadata": {
        "colab": {
          "base_uri": "https://localhost:8080/"
        },
        "id": "htulCG7ALLJ0",
        "outputId": "5df1f7fa-35f8-4ae3-d887-43c90997c931"
      },
      "outputs": [
        {
          "output_type": "stream",
          "name": "stdout",
          "text": [
            "A área da piscina é aproximadamente 78.54 metros quadrados\n",
            "Você deve comprar uma caixa d'água com pelo menos 78.54 metros quadrados de capacidade.\n"
          ]
        }
      ],
      "source": [
        "import math\n",
        "\n",
        "# Raio da piscina\n",
        "raio_da_piscina = 5  # em metros\n",
        "\n",
        "# Calcula a área da piscina\n",
        "area_da_piscina = math.pi * (raio_da_piscina ** 2)\n",
        "\n",
        "print(f\"A área da piscina é aproximadamente {area_da_piscina:.2f} metros quadrados\")\n",
        "\n",
        "# Suponha que as caixas d'água sejam vendidas em metros quadrados (área que comportam)\n",
        "# Vamos escolher uma caixa que comporte a área da piscina\n",
        "tamanho_da_caixa_dagua = area_da_piscina  # A área da caixa deve ser pelo menos igual à área da piscina\n",
        "\n",
        "print(f\"Você deve comprar uma caixa d'água com pelo menos {tamanho_da_caixa_dagua:.2f} metros quadrados de capacidade.\")\n"
      ]
    },
    {
      "cell_type": "markdown",
      "metadata": {
        "id": "eg-790JuLLJ0"
      },
      "source": [
        "## QUESTÃO 2\n",
        "\n"
      ]
    },
    {
      "cell_type": "markdown",
      "metadata": {
        "id": "gOtmEMHDLLJ0"
      },
      "source": [
        "Duvido você fazer um código que tenha como OUTPUT a data exata que você está fazendo essa questão. Vamos descobrir se você é do tipo de pessoa que aproveita o dia para fazer as tarefas ou madruga para completa-las"
      ]
    },
    {
      "cell_type": "code",
      "execution_count": null,
      "metadata": {
        "colab": {
          "base_uri": "https://localhost:8080/"
        },
        "id": "6GsZojo7LLJ0",
        "outputId": "016be19d-d53a-4b4f-beeb-eea339744d19"
      },
      "outputs": [
        {
          "output_type": "stream",
          "name": "stdout",
          "text": [
            "A data e hora atual são: 2023-11-03 18:38:09\n"
          ]
        }
      ],
      "source": [
        "import datetime\n",
        "\n",
        "# Obtenha a data e hora atuais\n",
        "data_hora_atual = datetime.datetime.now()\n",
        "\n",
        "# Formate a data e hora no formato legível\n",
        "data_hora_formatada = data_hora_atual.strftime(\"%Y-%m-%d %H:%M:%S\")\n",
        "\n",
        "print(\"A data e hora atual são:\", data_hora_formatada)"
      ]
    },
    {
      "cell_type": "markdown",
      "metadata": {
        "id": "CC1lYTN0LLJ0"
      },
      "source": [
        "## QUESTÃO 3"
      ]
    },
    {
      "cell_type": "markdown",
      "metadata": {
        "id": "8Jh_WDRhLLJ1"
      },
      "source": [
        "Você está fazendo uma rifa beneficiente para ajudar uma instituição de caridade do bairro. Está na hora de sortear quem é o grande vencedor de uma ALEXA 3º geração.\n",
        "\n",
        "Instruções:\n",
        "\n",
        "lista de nomes: nomes = [\"Alice\", \"Bob\", \"Carlos\", \"Diana\", \"Eva\",\"Henrique\", \"Isadora\", \"Leandro\", \"Patricia\",\"Julia\", \"Alex\"].\n",
        "\n",
        "Importe a biblioteca random.\n",
        "\n",
        "Use random.choice() para escolher aleatoriamente um nome da lista.\n",
        "\n",
        "Exiba o nome escolhido na tela."
      ]
    },
    {
      "cell_type": "markdown",
      "metadata": {
        "id": "-jDoff4NLLJ1"
      },
      "source": [
        "![Captura%20de%20tela%202023-10-25%20210513.png](attachment:Captura%20de%20tela%202023-10-25%20210513.png)"
      ]
    },
    {
      "cell_type": "code",
      "execution_count": null,
      "metadata": {
        "colab": {
          "base_uri": "https://localhost:8080/"
        },
        "id": "ue3A5oS9LLJ1",
        "outputId": "ceefbfa1-6a5b-4116-aff9-169288b2c7cf"
      },
      "outputs": [
        {
          "output_type": "stream",
          "name": "stdout",
          "text": [
            "O grande vencedor da ALEXA 3ª geração é: Leandro\n"
          ]
        }
      ],
      "source": [
        "import random\n",
        "\n",
        "nomes = [\"Alice\", \"Bob\", \"Carlos\", \"Diana\", \"Eva\", \"Henrique\", \"Isadora\", \"Leandro\", \"Patricia\", \"Julia\", \"Alex\"]\n",
        "\n",
        "vencedor = random.choice(nomes)\n",
        "\n",
        "print(\"O grande vencedor da ALEXA 3ª geração é:\", vencedor)"
      ]
    },
    {
      "cell_type": "markdown",
      "metadata": {
        "id": "PDgLPIJ-LLJ1"
      },
      "source": [
        "## QUESTÃO 4"
      ]
    },
    {
      "cell_type": "markdown",
      "metadata": {
        "id": "mqxdKq4QLLJ1"
      },
      "source": [
        "Os Módulos 6 e 7 abordarão Pandas, entretanto vamos aquecer!!!\n",
        "Use o Pandas para ler os dados do arquivo CSV que está anexado à lista e criar um DataFrame.\n",
        "Além disso, vizualize somente as 5 primeiras linhas."
      ]
    },
    {
      "cell_type": "code",
      "source": [
        "from google.colab import files"
      ],
      "metadata": {
        "id": "ZYJRbiNGhI9J"
      },
      "execution_count": null,
      "outputs": []
    },
    {
      "cell_type": "code",
      "source": [
        "uploaded = files.upload()"
      ],
      "metadata": {
        "colab": {
          "base_uri": "https://localhost:8080/",
          "height": 73
        },
        "id": "djWXLW27hPhm",
        "outputId": "c0833315-18e4-43b6-bbe2-dc585ef38287"
      },
      "execution_count": null,
      "outputs": [
        {
          "output_type": "display_data",
          "data": {
            "text/plain": [
              "<IPython.core.display.HTML object>"
            ],
            "text/html": [
              "\n",
              "     <input type=\"file\" id=\"files-3275df4e-2aa6-413a-b3dd-4637051eac56\" name=\"files[]\" multiple disabled\n",
              "        style=\"border:none\" />\n",
              "     <output id=\"result-3275df4e-2aa6-413a-b3dd-4637051eac56\">\n",
              "      Upload widget is only available when the cell has been executed in the\n",
              "      current browser session. Please rerun this cell to enable.\n",
              "      </output>\n",
              "      <script>// Copyright 2017 Google LLC\n",
              "//\n",
              "// Licensed under the Apache License, Version 2.0 (the \"License\");\n",
              "// you may not use this file except in compliance with the License.\n",
              "// You may obtain a copy of the License at\n",
              "//\n",
              "//      http://www.apache.org/licenses/LICENSE-2.0\n",
              "//\n",
              "// Unless required by applicable law or agreed to in writing, software\n",
              "// distributed under the License is distributed on an \"AS IS\" BASIS,\n",
              "// WITHOUT WARRANTIES OR CONDITIONS OF ANY KIND, either express or implied.\n",
              "// See the License for the specific language governing permissions and\n",
              "// limitations under the License.\n",
              "\n",
              "/**\n",
              " * @fileoverview Helpers for google.colab Python module.\n",
              " */\n",
              "(function(scope) {\n",
              "function span(text, styleAttributes = {}) {\n",
              "  const element = document.createElement('span');\n",
              "  element.textContent = text;\n",
              "  for (const key of Object.keys(styleAttributes)) {\n",
              "    element.style[key] = styleAttributes[key];\n",
              "  }\n",
              "  return element;\n",
              "}\n",
              "\n",
              "// Max number of bytes which will be uploaded at a time.\n",
              "const MAX_PAYLOAD_SIZE = 100 * 1024;\n",
              "\n",
              "function _uploadFiles(inputId, outputId) {\n",
              "  const steps = uploadFilesStep(inputId, outputId);\n",
              "  const outputElement = document.getElementById(outputId);\n",
              "  // Cache steps on the outputElement to make it available for the next call\n",
              "  // to uploadFilesContinue from Python.\n",
              "  outputElement.steps = steps;\n",
              "\n",
              "  return _uploadFilesContinue(outputId);\n",
              "}\n",
              "\n",
              "// This is roughly an async generator (not supported in the browser yet),\n",
              "// where there are multiple asynchronous steps and the Python side is going\n",
              "// to poll for completion of each step.\n",
              "// This uses a Promise to block the python side on completion of each step,\n",
              "// then passes the result of the previous step as the input to the next step.\n",
              "function _uploadFilesContinue(outputId) {\n",
              "  const outputElement = document.getElementById(outputId);\n",
              "  const steps = outputElement.steps;\n",
              "\n",
              "  const next = steps.next(outputElement.lastPromiseValue);\n",
              "  return Promise.resolve(next.value.promise).then((value) => {\n",
              "    // Cache the last promise value to make it available to the next\n",
              "    // step of the generator.\n",
              "    outputElement.lastPromiseValue = value;\n",
              "    return next.value.response;\n",
              "  });\n",
              "}\n",
              "\n",
              "/**\n",
              " * Generator function which is called between each async step of the upload\n",
              " * process.\n",
              " * @param {string} inputId Element ID of the input file picker element.\n",
              " * @param {string} outputId Element ID of the output display.\n",
              " * @return {!Iterable<!Object>} Iterable of next steps.\n",
              " */\n",
              "function* uploadFilesStep(inputId, outputId) {\n",
              "  const inputElement = document.getElementById(inputId);\n",
              "  inputElement.disabled = false;\n",
              "\n",
              "  const outputElement = document.getElementById(outputId);\n",
              "  outputElement.innerHTML = '';\n",
              "\n",
              "  const pickedPromise = new Promise((resolve) => {\n",
              "    inputElement.addEventListener('change', (e) => {\n",
              "      resolve(e.target.files);\n",
              "    });\n",
              "  });\n",
              "\n",
              "  const cancel = document.createElement('button');\n",
              "  inputElement.parentElement.appendChild(cancel);\n",
              "  cancel.textContent = 'Cancel upload';\n",
              "  const cancelPromise = new Promise((resolve) => {\n",
              "    cancel.onclick = () => {\n",
              "      resolve(null);\n",
              "    };\n",
              "  });\n",
              "\n",
              "  // Wait for the user to pick the files.\n",
              "  const files = yield {\n",
              "    promise: Promise.race([pickedPromise, cancelPromise]),\n",
              "    response: {\n",
              "      action: 'starting',\n",
              "    }\n",
              "  };\n",
              "\n",
              "  cancel.remove();\n",
              "\n",
              "  // Disable the input element since further picks are not allowed.\n",
              "  inputElement.disabled = true;\n",
              "\n",
              "  if (!files) {\n",
              "    return {\n",
              "      response: {\n",
              "        action: 'complete',\n",
              "      }\n",
              "    };\n",
              "  }\n",
              "\n",
              "  for (const file of files) {\n",
              "    const li = document.createElement('li');\n",
              "    li.append(span(file.name, {fontWeight: 'bold'}));\n",
              "    li.append(span(\n",
              "        `(${file.type || 'n/a'}) - ${file.size} bytes, ` +\n",
              "        `last modified: ${\n",
              "            file.lastModifiedDate ? file.lastModifiedDate.toLocaleDateString() :\n",
              "                                    'n/a'} - `));\n",
              "    const percent = span('0% done');\n",
              "    li.appendChild(percent);\n",
              "\n",
              "    outputElement.appendChild(li);\n",
              "\n",
              "    const fileDataPromise = new Promise((resolve) => {\n",
              "      const reader = new FileReader();\n",
              "      reader.onload = (e) => {\n",
              "        resolve(e.target.result);\n",
              "      };\n",
              "      reader.readAsArrayBuffer(file);\n",
              "    });\n",
              "    // Wait for the data to be ready.\n",
              "    let fileData = yield {\n",
              "      promise: fileDataPromise,\n",
              "      response: {\n",
              "        action: 'continue',\n",
              "      }\n",
              "    };\n",
              "\n",
              "    // Use a chunked sending to avoid message size limits. See b/62115660.\n",
              "    let position = 0;\n",
              "    do {\n",
              "      const length = Math.min(fileData.byteLength - position, MAX_PAYLOAD_SIZE);\n",
              "      const chunk = new Uint8Array(fileData, position, length);\n",
              "      position += length;\n",
              "\n",
              "      const base64 = btoa(String.fromCharCode.apply(null, chunk));\n",
              "      yield {\n",
              "        response: {\n",
              "          action: 'append',\n",
              "          file: file.name,\n",
              "          data: base64,\n",
              "        },\n",
              "      };\n",
              "\n",
              "      let percentDone = fileData.byteLength === 0 ?\n",
              "          100 :\n",
              "          Math.round((position / fileData.byteLength) * 100);\n",
              "      percent.textContent = `${percentDone}% done`;\n",
              "\n",
              "    } while (position < fileData.byteLength);\n",
              "  }\n",
              "\n",
              "  // All done.\n",
              "  yield {\n",
              "    response: {\n",
              "      action: 'complete',\n",
              "    }\n",
              "  };\n",
              "}\n",
              "\n",
              "scope.google = scope.google || {};\n",
              "scope.google.colab = scope.google.colab || {};\n",
              "scope.google.colab._files = {\n",
              "  _uploadFiles,\n",
              "  _uploadFilesContinue,\n",
              "};\n",
              "})(self);\n",
              "</script> "
            ]
          },
          "metadata": {}
        },
        {
          "output_type": "stream",
          "name": "stdout",
          "text": [
            "Saving expandas.csv to expandas (2).csv\n"
          ]
        }
      ]
    },
    {
      "cell_type": "code",
      "execution_count": null,
      "metadata": {
        "colab": {
          "base_uri": "https://localhost:8080/"
        },
        "id": "0tnLnOllLLJ1",
        "outputId": "ecbfe78f-1d43-4975-8fe0-c8548dc19767"
      },
      "outputs": [
        {
          "output_type": "stream",
          "name": "stdout",
          "text": [
            "    Nome;Sexo;P1;P2;Frequência\n",
            "0   Aluno1;Masculino;1,6;-;50%\n",
            "1  Aluno2;Feminino;7,5;6,5;80%\n",
            "2     Aluno3;Masculino;9;8;90%\n",
            "3   Aluno4;Masculino;5,5;8;70%\n",
            "4    Aluno5;Masculino;7;8;100%\n"
          ]
        }
      ],
      "source": [
        "import pandas as pd\n",
        "\n",
        "# Lê o arquivo CSV e cria um DataFrame\n",
        "data = pd.read_csv('expandas.csv', sep='\\t')\n",
        "\n",
        "# Exibe as 5 primeiras linhas do DataFrame\n",
        "print(data.head())"
      ]
    },
    {
      "cell_type": "markdown",
      "metadata": {
        "id": "exrz3oFlLLJ1"
      },
      "source": [
        "## QUESTÃO 5"
      ]
    },
    {
      "cell_type": "markdown",
      "metadata": {
        "id": "jo1DIGGILLJ2"
      },
      "source": [
        "**Numpy**"
      ]
    },
    {
      "cell_type": "markdown",
      "metadata": {
        "id": "CZVftFxCLLJ2"
      },
      "source": [
        "a) Crie um array NumPy que contenha os números inteiros de 1 a 10."
      ]
    },
    {
      "cell_type": "code",
      "execution_count": null,
      "metadata": {
        "colab": {
          "base_uri": "https://localhost:8080/"
        },
        "id": "bpgTC3sgLLJ2",
        "outputId": "0d5ac65e-f424-49b3-c475-b59f35492145"
      },
      "outputs": [
        {
          "output_type": "stream",
          "name": "stdout",
          "text": [
            "[ 1  2  3  4  5  6  7  8  9 10]\n"
          ]
        }
      ],
      "source": [
        "import numpy as np\n",
        "\n",
        "array_numpy = np.arange(1, 11)\n",
        "print(array_numpy)"
      ]
    },
    {
      "cell_type": "markdown",
      "metadata": {
        "id": "J82EbFH1LLJ2"
      },
      "source": [
        "b)Realize operações matemáticas simples com dois arrays NumPy (1 a 5) (6 a 10) como adição, subtração, multiplicação e divisão."
      ]
    },
    {
      "cell_type": "code",
      "execution_count": null,
      "metadata": {
        "colab": {
          "base_uri": "https://localhost:8080/"
        },
        "id": "4wrYnsELLLJ2",
        "outputId": "b7f37794-4f0f-441d-86a2-cec8baf499bb"
      },
      "outputs": [
        {
          "output_type": "stream",
          "name": "stdout",
          "text": [
            "Soma: [ 7  9 11 13 15]\n",
            "Subtração: [-5 -5 -5 -5 -5]\n",
            "Multiplicação: [ 6 14 24 36 50]\n",
            "Divisão: [0.16666667 0.28571429 0.375      0.44444444 0.5       ]\n"
          ]
        }
      ],
      "source": [
        "import numpy as np\n",
        "\n",
        "# Crie os dois arrays NumPy\n",
        "array1 = np.arange(1, 6)\n",
        "array2 = np.arange(6, 11)\n",
        "\n",
        "# Realize operações matemáticas simples\n",
        "soma = array1 + array2\n",
        "subtracao = array1 - array2\n",
        "multiplicacao = array1 * array2\n",
        "divisao = array1 / array2\n",
        "\n",
        "# Exiba os resultados\n",
        "print(\"Soma:\", soma)\n",
        "print(\"Subtração:\", subtracao)\n",
        "print(\"Multiplicação:\", multiplicacao)\n",
        "print(\"Divisão:\", divisao)"
      ]
    },
    {
      "cell_type": "markdown",
      "metadata": {
        "id": "MyGnbNoILLJ2"
      },
      "source": [
        "## QUESTÃO 6"
      ]
    },
    {
      "cell_type": "markdown",
      "metadata": {
        "id": "1edAzArcLLJ2"
      },
      "source": [
        "Você é um professor e deseja avaliar o desempenho dos alunos nas provas de matemática e ciências naturais da semana. Crie duas matrizes NumPy, uma representando as notas dos alunos em Matemática e outra em Ciências, e calcule a média de cada disciplina."
      ]
    },
    {
      "cell_type": "markdown",
      "metadata": {
        "id": "1rHL-HyGLLJ3"
      },
      "source": [
        "![Captura%20de%20tela%202023-10-25%20212239.png](attachment:Captura%20de%20tela%202023-10-25%20212239.png)"
      ]
    },
    {
      "cell_type": "code",
      "execution_count": null,
      "metadata": {
        "colab": {
          "base_uri": "https://localhost:8080/"
        },
        "id": "OGDJ8Gx8LLJ3",
        "outputId": "ea01a772-79c4-4ab5-a62a-0e5ed649089f"
      },
      "outputs": [
        {
          "output_type": "stream",
          "name": "stdout",
          "text": [
            "Média em Matemática: 7.8\n",
            "Média em Ciências Naturais: 8.8\n"
          ]
        }
      ],
      "source": [
        "import numpy as np\n",
        "\n",
        "# Notas dos alunos em Matemática\n",
        "notas_matematica = np.array([8.5, 7.2, 9.0, 6.8, 7.5])\n",
        "\n",
        "# Notas dos alunos em Ciências Naturais\n",
        "notas_ciencias = np.array([9.2, 8.9, 7.8, 8.6, 9.5])\n",
        "\n",
        "# Calcule a média de Matemática e Ciências\n",
        "media_matematica = np.mean(notas_matematica)\n",
        "media_ciencias = np.mean(notas_ciencias)\n",
        "\n",
        "# Exiba as médias\n",
        "print(\"Média em Matemática:\", media_matematica)\n",
        "print(\"Média em Ciências Naturais:\", media_ciencias)"
      ]
    },
    {
      "cell_type": "markdown",
      "metadata": {
        "id": "qVGXh8HxLLJ3"
      },
      "source": [
        "### DESAFIO"
      ]
    },
    {
      "cell_type": "markdown",
      "metadata": {
        "id": "u0qreP-fLLJ3"
      },
      "source": [
        "Você está organizando um evento e deseja criar um gráfico visual para mostrar a quantidade de ingressos vendidos para cada categoria. Use o Matplotlib para criar um gráfico de barras simples.\n",
        "\n",
        "Instruções:\n",
        "\n",
        "Importe a biblioteca Matplotlib.\n",
        "\n",
        "Crie duas listas: uma representando as categorias de ingressos e outra representando a quantidade de ingressos vendidos em cada categoria."
      ]
    },
    {
      "cell_type": "markdown",
      "metadata": {
        "id": "3Uz_LeJULLJ3"
      },
      "source": [
        "![Captura%20de%20tela%202023-10-25%20213144.png](attachment:Captura%20de%20tela%202023-10-25%20213144.png)"
      ]
    },
    {
      "cell_type": "code",
      "execution_count": null,
      "metadata": {
        "colab": {
          "base_uri": "https://localhost:8080/",
          "height": 472
        },
        "id": "XLn28OJnLLJ3",
        "outputId": "85993d71-193a-4094-8412-f6aa101d5d6d"
      },
      "outputs": [
        {
          "output_type": "display_data",
          "data": {
            "text/plain": [
              "<Figure size 640x480 with 1 Axes>"
            ],
            "image/png": "[encoded data removed]"
          },
          "metadata": {}
        }
      ],
      "source": [
        "# categorias: VIP, Pista, Camarote, Mezanino\n",
        "# ingressos vendidos por categoria respectivamente: 120, 250, 80, 40\n",
        "\n",
        "import matplotlib.pyplot as plt\n",
        "\n",
        "categorias = [\"VIP\", \"Pista\", \"Camarote\", \"Mezanino\"]\n",
        "ingressos_vendidos = [120, 250, 80, 40]\n",
        "\n",
        "plt.bar(categorias, ingressos_vendidos)\n",
        "\n",
        "plt.xlabel(\"Categorias de Ingressos\")\n",
        "plt.ylabel(\"Quantidade de Ingressos Vendidos\")\n",
        "plt.title(\"Quantidade de Ingressos Vendidos por Categoria\")\n",
        "\n",
        "plt.show()"
      ]
    },
    {
      "cell_type": "markdown",
      "metadata": {
        "id": "p5qAJRwYLLJ3"
      },
      "source": [
        "Agora\n",
        "\n",
        "Crie um gráfico de barras usando a função bar() do Matplotlib para exibir as categorias no eixo x e a quantidade de ingressos vendidos no eixo y.\n",
        "\n",
        "Adicione rótulos ao eixo x e y usando xlabel() e ylabel().\n",
        "\n",
        "Defina um título para o gráfico usando title().\n",
        "\n",
        "Exiba o gráfico usando show()"
      ]
    },
    {
      "cell_type": "code",
      "execution_count": null,
      "metadata": {
        "colab": {
          "base_uri": "https://localhost:8080/",
          "height": 472
        },
        "id": "W_EvorheLLKB",
        "outputId": "0cc18531-998e-4abe-b9ac-28fbcd2571e9"
      },
      "outputs": [
        {
          "output_type": "display_data",
          "data": {
            "text/plain": [
              "<Figure size 640x480 with 1 Axes>"
            ],
            "image/png": "[encoded data removed]"
          },
          "metadata": {}
        }
      ],
      "source": [
        "import matplotlib.pyplot as plt\n",
        "\n",
        "# Categorias de ingressos\n",
        "categorias = [\"VIP\", \"Pista\", \"Camarote\", \"Mezanino\"]\n",
        "\n",
        "# Quantidade de ingressos vendidos por categoria\n",
        "ingressos_vendidos = [120, 250, 80, 40]\n",
        "\n",
        "# Criar o gráfico de barras\n",
        "plt.bar(categorias, ingressos_vendidos)\n",
        "\n",
        "# Adicionar rótulos personalizados aos eixos x e y\n",
        "plt.xlabel(\"Categorias de Ingressos Vendidos\")\n",
        "plt.ylabel(\"Quantidade de Ingressos\")\n",
        "\n",
        "# Definir um título de gráfico personalizado\n",
        "plt.title(\"Quantidade de Ingressos Vendidos por Categoria no Evento\")\n",
        "\n",
        "# Exibir o gráfico\n",
        "plt.show()"
      ]
    },
    {
      "cell_type": "code",
      "source": [],
      "metadata": {
        "id": "DfCAP6Sw95CK"
      },
      "execution_count": null,
      "outputs": []
    },
    {
      "cell_type": "code",
      "source": [],
      "metadata": {
        "id": "ZcTr6DTtFLHf"
      },
      "execution_count": null,
      "outputs": []
    }
  ],
  "metadata": {
    "kernelspec": {
      "display_name": "Python 3 (ipykernel)",
      "language": "python",
      "name": "python3"
    },
    "language_info": {
      "codemirror_mode": {
        "name": "ipython",
        "version": 3
      },
      "file_extension": ".py",
      "mimetype": "text/x-python",
      "name": "python",
      "nbconvert_exporter": "python",
      "pygments_lexer": "ipython3",
      "version": "3.11.4"
    },
    "colab": {
      "provenance": []
    }
  },
  "nbformat": 4,
  "nbformat_minor": 0
}