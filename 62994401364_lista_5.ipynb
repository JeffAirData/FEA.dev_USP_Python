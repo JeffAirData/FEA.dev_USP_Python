{
  "cells": [
    {
      "cell_type": "markdown",
      "metadata": {
        "id": "2cVc4Nh8fiLi"
      },
      "source": [
        "![WhatsApp%20Image%202023-09-10%20at%2011.20.28.jpeg](attachment:WhatsApp%20Image%202023-09-10%20at%2011.20.28.jpeg)\n"
      ]
    },
    {
      "cell_type": "markdown",
      "metadata": {
        "id": "polo5UumfiLk"
      },
      "source": [
        "# Fala devs, blz??\n",
        "\n",
        "Esta será nossa quinta lista de exercícios para você testar seu conhecimento acerca do conteúdo do MÓDULO 3:\n",
        "\n",
        "-Pandas I"
      ]
    },
    {
      "cell_type": "markdown",
      "metadata": {
        "id": "wcJ8MLe6fiLk"
      },
      "source": [
        "## INSTRUÇÕES:\n",
        "\n",
        "A lista deve ser realizada pelo Jupyter Notebook.\n",
        "\n",
        "Nâo é necessário entregar a lista para afins de certificado dentro da plataforma, entretanto para alunos da USP que queiram participar do processo seletivo ou conseguir créditos AAC (apenas FEANOS) é necessária a entrega de TODAS as listas.\n",
        "\n",
        "A entrega das listas ou pelo menos sua excecução é recomendada a fim de exercitar todo o conhecimento adquirido do curso.\n",
        "\n",
        "O DESAFIO é para realmente te desafiar, por isso não desista de tentar e de continuar com o curso, ao longo das listas você verá que cada vez mais você terá ferramentas para completá-lo.\n",
        "\n",
        "Caso haja alguma dúvida acerca da lista participe das monitorias que serão oferecidas as quintas e sábados das 17h as 18h pelo DISCORD. Caso seu problema não seje resolvido envie uma mensagem para contato.feadev@gmail.com\n",
        "\n",
        "O gabarito será disponibilizado na plataforma após o término de periodo de envio\n",
        "\n"
      ]
    },
    {
      "cell_type": "code",
      "execution_count": null,
      "metadata": {
        "id": "o6lYCZ-QfiLk"
      },
      "outputs": [],
      "source": [
        "## vamos começar??"
      ]
    },
    {
      "cell_type": "markdown",
      "metadata": {
        "id": "0YQhd4jLfiLl"
      },
      "source": [
        "Toda nossa lista 5 abordará uma temática única de acordo com a base de dados escolhida para a realização da mesma.\n",
        "\n",
        "**PAÍSES MENOS CORRUPTOS SÃO MAIS FELIZES?**\n",
        "\n",
        "Será que a felicidade e a corrupção têm alguma relação? A resposta a essa pergunta não é tão clara quanto gostaríamos que fosse. A felicidade é o que todos desejam, enquanto a corrupção é frequentemente vista como algo que a sociedade deve combater. No entanto, a conexão direta entre esses dois conceitos é desafiadora de estabelecer.\n",
        "\n",
        "A corrupção é prejudicial, pois mina a confiança nas instituições públicas e distorce a alocação de recursos. Isso certamente não soa como um ingrediente para a felicidade. No entanto, em muitos lugares, a corrupção é endêmica, mas as pessoas ainda relatam altos níveis de felicidade. Isso nos faz questionar se a percepção de felicidade pode ser independente da corrupção.\n",
        "\n",
        "Talvez as pessoas se adaptem à corrupção, ou talvez outros fatores, como economia e segurança, desempenhem um papel mais significativo em sua felicidade. Em última análise, a relação entre felicidade e corrupção é complexa, e as respostas podem variar dependendo do contexto.\n",
        "\n",
        "Portanto, a questão persiste: **será que a corrupção realmente impede a felicidade? Ou será que a felicidade pode ser encontrada em meio à corrupção?**"
      ]
    },
    {
      "cell_type": "markdown",
      "metadata": {
        "id": "L74h9a9GfiLl"
      },
      "source": [
        "vamos utilizar da base de dados Happiness and Corruption 2015-2020\n",
        "\n",
        "https://www.kaggle.com/datasets/eliasturk/world-happiness-based-on-cpi-20152020\n",
        "\n",
        "para chegar em alguma conclusão sobre o tema"
      ]
    },
    {
      "cell_type": "markdown",
      "metadata": {
        "id": "M6-CLRcJfiLm"
      },
      "source": [
        "## QUESTÃO 0"
      ]
    },
    {
      "cell_type": "markdown",
      "metadata": {
        "id": "Fc5LhEHcfiLm"
      },
      "source": [
        "Carregue os dados do arquivo \"happiness_corruption.csv\" em um DataFrame e mostre as primeiras 5 linhas do DataFrame\n",
        "\n",
        "baixe a base pelo link abaixo: https://www.kaggle.com/datasets/eliasturk/world-happiness-based-on-cpi-20152020"
      ]
    },
    {
      "cell_type": "markdown",
      "metadata": {
        "id": "mc1X-ATkfiLm"
      },
      "source": [
        "![Captura%20de%20tela%202023-11-06%20173850.png](attachment:Captura%20de%20tela%202023-11-06%20173850.png)"
      ]
    },
    {
      "cell_type": "code",
      "execution_count": null,
      "metadata": {
        "colab": {
          "base_uri": "https://localhost:8080/",
          "height": 73
        },
        "id": "_Gr4XqNXfiLm",
        "outputId": "1cba6e6e-9a63-468d-dbc9-f04252226fbb"
      },
      "outputs": [
        {
          "output_type": "display_data",
          "data": {
            "text/plain": [
              "<IPython.core.display.HTML object>"
            ],
            "text/html": [
              "\n",
              "     <input type=\"file\" id=\"files-5542c26d-19ee-4af6-92da-52ac5328ae28\" name=\"files[]\" multiple disabled\n",
              "        style=\"border:none\" />\n",
              "     <output id=\"result-5542c26d-19ee-4af6-92da-52ac5328ae28\">\n",
              "      Upload widget is only available when the cell has been executed in the\n",
              "      current browser session. Please rerun this cell to enable.\n",
              "      </output>\n",
              "      <script>// Copyright 2017 Google LLC\n",
              "//\n",
              "// Licensed under the Apache License, Version 2.0 (the \"License\");\n",
              "// you may not use this file except in compliance with the License.\n",
              "// You may obtain a copy of the License at\n",
              "//\n",
              "//      http://www.apache.org/licenses/LICENSE-2.0\n",
              "//\n",
              "// Unless required by applicable law or agreed to in writing, software\n",
              "// distributed under the License is distributed on an \"AS IS\" BASIS,\n",
              "// WITHOUT WARRANTIES OR CONDITIONS OF ANY KIND, either express or implied.\n",
              "// See the License for the specific language governing permissions and\n",
              "// limitations under the License.\n",
              "\n",
              "/**\n",
              " * @fileoverview Helpers for google.colab Python module.\n",
              " */\n",
              "(function(scope) {\n",
              "function span(text, styleAttributes = {}) {\n",
              "  const element = document.createElement('span');\n",
              "  element.textContent = text;\n",
              "  for (const key of Object.keys(styleAttributes)) {\n",
              "    element.style[key] = styleAttributes[key];\n",
              "  }\n",
              "  return element;\n",
              "}\n",
              "\n",
              "// Max number of bytes which will be uploaded at a time.\n",
              "const MAX_PAYLOAD_SIZE = 100 * 1024;\n",
              "\n",
              "function _uploadFiles(inputId, outputId) {\n",
              "  const steps = uploadFilesStep(inputId, outputId);\n",
              "  const outputElement = document.getElementById(outputId);\n",
              "  // Cache steps on the outputElement to make it available for the next call\n",
              "  // to uploadFilesContinue from Python.\n",
              "  outputElement.steps = steps;\n",
              "\n",
              "  return _uploadFilesContinue(outputId);\n",
              "}\n",
              "\n",
              "// This is roughly an async generator (not supported in the browser yet),\n",
              "// where there are multiple asynchronous steps and the Python side is going\n",
              "// to poll for completion of each step.\n",
              "// This uses a Promise to block the python side on completion of each step,\n",
              "// then passes the result of the previous step as the input to the next step.\n",
              "function _uploadFilesContinue(outputId) {\n",
              "  const outputElement = document.getElementById(outputId);\n",
              "  const steps = outputElement.steps;\n",
              "\n",
              "  const next = steps.next(outputElement.lastPromiseValue);\n",
              "  return Promise.resolve(next.value.promise).then((value) => {\n",
              "    // Cache the last promise value to make it available to the next\n",
              "    // step of the generator.\n",
              "    outputElement.lastPromiseValue = value;\n",
              "    return next.value.response;\n",
              "  });\n",
              "}\n",
              "\n",
              "/**\n",
              " * Generator function which is called between each async step of the upload\n",
              " * process.\n",
              " * @param {string} inputId Element ID of the input file picker element.\n",
              " * @param {string} outputId Element ID of the output display.\n",
              " * @return {!Iterable<!Object>} Iterable of next steps.\n",
              " */\n",
              "function* uploadFilesStep(inputId, outputId) {\n",
              "  const inputElement = document.getElementById(inputId);\n",
              "  inputElement.disabled = false;\n",
              "\n",
              "  const outputElement = document.getElementById(outputId);\n",
              "  outputElement.innerHTML = '';\n",
              "\n",
              "  const pickedPromise = new Promise((resolve) => {\n",
              "    inputElement.addEventListener('change', (e) => {\n",
              "      resolve(e.target.files);\n",
              "    });\n",
              "  });\n",
              "\n",
              "  const cancel = document.createElement('button');\n",
              "  inputElement.parentElement.appendChild(cancel);\n",
              "  cancel.textContent = 'Cancel upload';\n",
              "  const cancelPromise = new Promise((resolve) => {\n",
              "    cancel.onclick = () => {\n",
              "      resolve(null);\n",
              "    };\n",
              "  });\n",
              "\n",
              "  // Wait for the user to pick the files.\n",
              "  const files = yield {\n",
              "    promise: Promise.race([pickedPromise, cancelPromise]),\n",
              "    response: {\n",
              "      action: 'starting',\n",
              "    }\n",
              "  };\n",
              "\n",
              "  cancel.remove();\n",
              "\n",
              "  // Disable the input element since further picks are not allowed.\n",
              "  inputElement.disabled = true;\n",
              "\n",
              "  if (!files) {\n",
              "    return {\n",
              "      response: {\n",
              "        action: 'complete',\n",
              "      }\n",
              "    };\n",
              "  }\n",
              "\n",
              "  for (const file of files) {\n",
              "    const li = document.createElement('li');\n",
              "    li.append(span(file.name, {fontWeight: 'bold'}));\n",
              "    li.append(span(\n",
              "        `(${file.type || 'n/a'}) - ${file.size} bytes, ` +\n",
              "        `last modified: ${\n",
              "            file.lastModifiedDate ? file.lastModifiedDate.toLocaleDateString() :\n",
              "                                    'n/a'} - `));\n",
              "    const percent = span('0% done');\n",
              "    li.appendChild(percent);\n",
              "\n",
              "    outputElement.appendChild(li);\n",
              "\n",
              "    const fileDataPromise = new Promise((resolve) => {\n",
              "      const reader = new FileReader();\n",
              "      reader.onload = (e) => {\n",
              "        resolve(e.target.result);\n",
              "      };\n",
              "      reader.readAsArrayBuffer(file);\n",
              "    });\n",
              "    // Wait for the data to be ready.\n",
              "    let fileData = yield {\n",
              "      promise: fileDataPromise,\n",
              "      response: {\n",
              "        action: 'continue',\n",
              "      }\n",
              "    };\n",
              "\n",
              "    // Use a chunked sending to avoid message size limits. See b/62115660.\n",
              "    let position = 0;\n",
              "    do {\n",
              "      const length = Math.min(fileData.byteLength - position, MAX_PAYLOAD_SIZE);\n",
              "      const chunk = new Uint8Array(fileData, position, length);\n",
              "      position += length;\n",
              "\n",
              "      const base64 = btoa(String.fromCharCode.apply(null, chunk));\n",
              "      yield {\n",
              "        response: {\n",
              "          action: 'append',\n",
              "          file: file.name,\n",
              "          data: base64,\n",
              "        },\n",
              "      };\n",
              "\n",
              "      let percentDone = fileData.byteLength === 0 ?\n",
              "          100 :\n",
              "          Math.round((position / fileData.byteLength) * 100);\n",
              "      percent.textContent = `${percentDone}% done`;\n",
              "\n",
              "    } while (position < fileData.byteLength);\n",
              "  }\n",
              "\n",
              "  // All done.\n",
              "  yield {\n",
              "    response: {\n",
              "      action: 'complete',\n",
              "    }\n",
              "  };\n",
              "}\n",
              "\n",
              "scope.google = scope.google || {};\n",
              "scope.google.colab = scope.google.colab || {};\n",
              "scope.google.colab._files = {\n",
              "  _uploadFiles,\n",
              "  _uploadFilesContinue,\n",
              "};\n",
              "})(self);\n",
              "</script> "
            ]
          },
          "metadata": {}
        },
        {
          "output_type": "stream",
          "name": "stdout",
          "text": [
            "Saving WorldHappiness_Corruption_2015_2020.csv to WorldHappiness_Corruption_2015_2020 (4).csv\n"
          ]
        }
      ],
      "source": [
        "from google.colab import files\n",
        "\n",
        "uploaded = files.upload()"
      ]
    },
    {
      "cell_type": "code",
      "source": [
        "import pandas as pd\n",
        "import io\n",
        "\n",
        "nome_do_arquivo = 'WorldHappiness_Corruption_2015_2020 (4).csv'\n",
        "df = pd.read_csv(io.BytesIO(uploaded[nome_do_arquivo]))\n",
        "\n",
        "df.head()"
      ],
      "metadata": {
        "colab": {
          "base_uri": "https://localhost:8080/",
          "height": 226
        },
        "id": "v7oiButjRbev",
        "outputId": "4338db67-c1d5-497d-9956-26ce5c1c8b76"
      },
      "execution_count": null,
      "outputs": [
        {
          "output_type": "execute_result",
          "data": {
            "text/plain": [
              "       Country  happiness_score  gdp_per_capita    family    health   freedom  \\\n",
              "0       Norway            7.537        1.616463  1.533524  0.796667  0.635423   \n",
              "1      Denmark            7.522        1.482383  1.551122  0.792566  0.626007   \n",
              "2      Iceland            7.504        1.480633  1.610574  0.833552  0.627163   \n",
              "3  Switzerland            7.494        1.564980  1.516912  0.858131  0.620071   \n",
              "4      Finland            7.469        1.443572  1.540247  0.809158  0.617951   \n",
              "\n",
              "   generosity  government_trust  dystopia_residual continent  Year  \\\n",
              "0    0.362012          0.315964           2.277027    Europe  2015   \n",
              "1    0.355280          0.400770           2.313707    Europe  2015   \n",
              "2    0.475540          0.153527           2.322715    Europe  2015   \n",
              "3    0.290549          0.367007           2.276716    Europe  2015   \n",
              "4    0.245483          0.382612           2.430182    Europe  2015   \n",
              "\n",
              "   social_support  cpi_score  \n",
              "0             0.0         88  \n",
              "1             0.0         91  \n",
              "2             0.0         79  \n",
              "3             0.0         86  \n",
              "4             0.0         90  "
            ],
            "text/html": [
              "\n",
              "  <div id=\"df-371c16f8-124b-4588-bb8c-f5a0483ac470\" class=\"colab-df-container\">\n",
              "    <div>\n",
              "<style scoped>\n",
              "    .dataframe tbody tr th:only-of-type {\n",
              "        vertical-align: middle;\n",
              "    }\n",
              "\n",
              "    .dataframe tbody tr th {\n",
              "        vertical-align: top;\n",
              "    }\n",
              "\n",
              "    .dataframe thead th {\n",
              "        text-align: right;\n",
              "    }\n",
              "</style>\n",
              "<table border=\"1\" class=\"dataframe\">\n",
              "  <thead>\n",
              "    <tr style=\"text-align: right;\">\n",
              "      <th></th>\n",
              "      <th>Country</th>\n",
              "      <th>happiness_score</th>\n",
              "      <th>gdp_per_capita</th>\n",
              "      <th>family</th>\n",
              "      <th>health</th>\n",
              "      <th>freedom</th>\n",
              "      <th>generosity</th>\n",
              "      <th>government_trust</th>\n",
              "      <th>dystopia_residual</th>\n",
              "      <th>continent</th>\n",
              "      <th>Year</th>\n",
              "      <th>social_support</th>\n",
              "      <th>cpi_score</th>\n",
              "    </tr>\n",
              "  </thead>\n",
              "  <tbody>\n",
              "    <tr>\n",
              "      <th>0</th>\n",
              "      <td>Norway</td>\n",
              "      <td>7.537</td>\n",
              "      <td>1.616463</td>\n",
              "      <td>1.533524</td>\n",
              "      <td>0.796667</td>\n",
              "      <td>0.635423</td>\n",
              "      <td>0.362012</td>\n",
              "      <td>0.315964</td>\n",
              "      <td>2.277027</td>\n",
              "      <td>Europe</td>\n",
              "      <td>2015</td>\n",
              "      <td>0.0</td>\n",
              "      <td>88</td>\n",
              "    </tr>\n",
              "    <tr>\n",
              "      <th>1</th>\n",
              "      <td>Denmark</td>\n",
              "      <td>7.522</td>\n",
              "      <td>1.482383</td>\n",
              "      <td>1.551122</td>\n",
              "      <td>0.792566</td>\n",
              "      <td>0.626007</td>\n",
              "      <td>0.355280</td>\n",
              "      <td>0.400770</td>\n",
              "      <td>2.313707</td>\n",
              "      <td>Europe</td>\n",
              "      <td>2015</td>\n",
              "      <td>0.0</td>\n",
              "      <td>91</td>\n",
              "    </tr>\n",
              "    <tr>\n",
              "      <th>2</th>\n",
              "      <td>Iceland</td>\n",
              "      <td>7.504</td>\n",
              "      <td>1.480633</td>\n",
              "      <td>1.610574</td>\n",
              "      <td>0.833552</td>\n",
              "      <td>0.627163</td>\n",
              "      <td>0.475540</td>\n",
              "      <td>0.153527</td>\n",
              "      <td>2.322715</td>\n",
              "      <td>Europe</td>\n",
              "      <td>2015</td>\n",
              "      <td>0.0</td>\n",
              "      <td>79</td>\n",
              "    </tr>\n",
              "    <tr>\n",
              "      <th>3</th>\n",
              "      <td>Switzerland</td>\n",
              "      <td>7.494</td>\n",
              "      <td>1.564980</td>\n",
              "      <td>1.516912</td>\n",
              "      <td>0.858131</td>\n",
              "      <td>0.620071</td>\n",
              "      <td>0.290549</td>\n",
              "      <td>0.367007</td>\n",
              "      <td>2.276716</td>\n",
              "      <td>Europe</td>\n",
              "      <td>2015</td>\n",
              "      <td>0.0</td>\n",
              "      <td>86</td>\n",
              "    </tr>\n",
              "    <tr>\n",
              "      <th>4</th>\n",
              "      <td>Finland</td>\n",
              "      <td>7.469</td>\n",
              "      <td>1.443572</td>\n",
              "      <td>1.540247</td>\n",
              "      <td>0.809158</td>\n",
              "      <td>0.617951</td>\n",
              "      <td>0.245483</td>\n",
              "      <td>0.382612</td>\n",
              "      <td>2.430182</td>\n",
              "      <td>Europe</td>\n",
              "      <td>2015</td>\n",
              "      <td>0.0</td>\n",
              "      <td>90</td>\n",
              "    </tr>\n",
              "  </tbody>\n",
              "</table>\n",
              "</div>\n",
              "    <div class=\"colab-df-buttons\">\n",
              "\n",
              "  <div class=\"colab-df-container\">\n",
              "    <button class=\"colab-df-convert\" onclick=\"convertToInteractive('df-371c16f8-124b-4588-bb8c-f5a0483ac470')\"\n",
              "            title=\"Convert this dataframe to an interactive table.\"\n",
              "            style=\"display:none;\">\n",
              "\n",
              "  <svg xmlns=\"http://www.w3.org/2000/svg\" height=\"24px\" viewBox=\"0 -960 960 960\">\n",
              "    <path d=\"M120-120v-720h720v720H120Zm60-500h600v-160H180v160Zm220 220h160v-160H400v160Zm0 220h160v-160H400v160ZM180-400h160v-160H180v160Zm440 0h160v-160H620v160ZM180-180h160v-160H180v160Zm440 0h160v-160H620v160Z\"/>\n",
              "  </svg>\n",
              "    </button>\n",
              "\n",
              "  <style>\n",
              "    .colab-df-container {\n",
              "      display:flex;\n",
              "      gap: 12px;\n",
              "    }\n",
              "\n",
              "    .colab-df-convert {\n",
              "      background-color: #E8F0FE;\n",
              "      border: none;\n",
              "      border-radius: 50%;\n",
              "      cursor: pointer;\n",
              "      display: none;\n",
              "      fill: #1967D2;\n",
              "      height: 32px;\n",
              "      padding: 0 0 0 0;\n",
              "      width: 32px;\n",
              "    }\n",
              "\n",
              "    .colab-df-convert:hover {\n",
              "      background-color: #E2EBFA;\n",
              "      box-shadow: 0px 1px 2px rgba(60, 64, 67, 0.3), 0px 1px 3px 1px rgba(60, 64, 67, 0.15);\n",
              "      fill: #174EA6;\n",
              "    }\n",
              "\n",
              "    .colab-df-buttons div {\n",
              "      margin-bottom: 4px;\n",
              "    }\n",
              "\n",
              "    [theme=dark] .colab-df-convert {\n",
              "      background-color: #3B4455;\n",
              "      fill: #D2E3FC;\n",
              "    }\n",
              "\n",
              "    [theme=dark] .colab-df-convert:hover {\n",
              "      background-color: #434B5C;\n",
              "      box-shadow: 0px 1px 3px 1px rgba(0, 0, 0, 0.15);\n",
              "      filter: drop-shadow(0px 1px 2px rgba(0, 0, 0, 0.3));\n",
              "      fill: #FFFFFF;\n",
              "    }\n",
              "  </style>\n",
              "\n",
              "    <script>\n",
              "      const buttonEl =\n",
              "        document.querySelector('#df-371c16f8-124b-4588-bb8c-f5a0483ac470 button.colab-df-convert');\n",
              "      buttonEl.style.display =\n",
              "        google.colab.kernel.accessAllowed ? 'block' : 'none';\n",
              "\n",
              "      async function convertToInteractive(key) {\n",
              "        const element = document.querySelector('#df-371c16f8-124b-4588-bb8c-f5a0483ac470');\n",
              "        const dataTable =\n",
              "          await google.colab.kernel.invokeFunction('convertToInteractive',\n",
              "                                                    [key], {});\n",
              "        if (!dataTable) return;\n",
              "\n",
              "        const docLinkHtml = 'Like what you see? Visit the ' +\n",
              "          '<a target=\"_blank\" href=https://colab.research.google.com/notebooks/data_table.ipynb>data table notebook</a>'\n",
              "          + ' to learn more about interactive tables.';\n",
              "        element.innerHTML = '';\n",
              "        dataTable['output_type'] = 'display_data';\n",
              "        await google.colab.output.renderOutput(dataTable, element);\n",
              "        const docLink = document.createElement('div');\n",
              "        docLink.innerHTML = docLinkHtml;\n",
              "        element.appendChild(docLink);\n",
              "      }\n",
              "    </script>\n",
              "  </div>\n",
              "\n",
              "\n",
              "<div id=\"df-96112fdf-69ac-468d-bb4f-b3bb0d9fa0c4\">\n",
              "  <button class=\"colab-df-quickchart\" onclick=\"quickchart('df-96112fdf-69ac-468d-bb4f-b3bb0d9fa0c4')\"\n",
              "            title=\"Suggest charts\"\n",
              "            style=\"display:none;\">\n",
              "\n",
              "<svg xmlns=\"http://www.w3.org/2000/svg\" height=\"24px\"viewBox=\"0 0 24 24\"\n",
              "     width=\"24px\">\n",
              "    <g>\n",
              "        <path d=\"M19 3H5c-1.1 0-2 .9-2 2v14c0 1.1.9 2 2 2h14c1.1 0 2-.9 2-2V5c0-1.1-.9-2-2-2zM9 17H7v-7h2v7zm4 0h-2V7h2v10zm4 0h-2v-4h2v4z\"/>\n",
              "    </g>\n",
              "</svg>\n",
              "  </button>\n",
              "\n",
              "<style>\n",
              "  .colab-df-quickchart {\n",
              "      --bg-color: #E8F0FE;\n",
              "      --fill-color: #1967D2;\n",
              "      --hover-bg-color: #E2EBFA;\n",
              "      --hover-fill-color: #174EA6;\n",
              "      --disabled-fill-color: #AAA;\n",
              "      --disabled-bg-color: #DDD;\n",
              "  }\n",
              "\n",
              "  [theme=dark] .colab-df-quickchart {\n",
              "      --bg-color: #3B4455;\n",
              "      --fill-color: #D2E3FC;\n",
              "      --hover-bg-color: #434B5C;\n",
              "      --hover-fill-color: #FFFFFF;\n",
              "      --disabled-bg-color: #3B4455;\n",
              "      --disabled-fill-color: #666;\n",
              "  }\n",
              "\n",
              "  .colab-df-quickchart {\n",
              "    background-color: var(--bg-color);\n",
              "    border: none;\n",
              "    border-radius: 50%;\n",
              "    cursor: pointer;\n",
              "    display: none;\n",
              "    fill: var(--fill-color);\n",
              "    height: 32px;\n",
              "    padding: 0;\n",
              "    width: 32px;\n",
              "  }\n",
              "\n",
              "  .colab-df-quickchart:hover {\n",
              "    background-color: var(--hover-bg-color);\n",
              "    box-shadow: 0 1px 2px rgba(60, 64, 67, 0.3), 0 1px 3px 1px rgba(60, 64, 67, 0.15);\n",
              "    fill: var(--button-hover-fill-color);\n",
              "  }\n",
              "\n",
              "  .colab-df-quickchart-complete:disabled,\n",
              "  .colab-df-quickchart-complete:disabled:hover {\n",
              "    background-color: var(--disabled-bg-color);\n",
              "    fill: var(--disabled-fill-color);\n",
              "    box-shadow: none;\n",
              "  }\n",
              "\n",
              "  .colab-df-spinner {\n",
              "    border: 2px solid var(--fill-color);\n",
              "    border-color: transparent;\n",
              "    border-bottom-color: var(--fill-color);\n",
              "    animation:\n",
              "      spin 1s steps(1) infinite;\n",
              "  }\n",
              "\n",
              "  @keyframes spin {\n",
              "    0% {\n",
              "      border-color: transparent;\n",
              "      border-bottom-color: var(--fill-color);\n",
              "      border-left-color: var(--fill-color);\n",
              "    }\n",
              "    20% {\n",
              "      border-color: transparent;\n",
              "      border-left-color: var(--fill-color);\n",
              "      border-top-color: var(--fill-color);\n",
              "    }\n",
              "    30% {\n",
              "      border-color: transparent;\n",
              "      border-left-color: var(--fill-color);\n",
              "      border-top-color: var(--fill-color);\n",
              "      border-right-color: var(--fill-color);\n",
              "    }\n",
              "    40% {\n",
              "      border-color: transparent;\n",
              "      border-right-color: var(--fill-color);\n",
              "      border-top-color: var(--fill-color);\n",
              "    }\n",
              "    60% {\n",
              "      border-color: transparent;\n",
              "      border-right-color: var(--fill-color);\n",
              "    }\n",
              "    80% {\n",
              "      border-color: transparent;\n",
              "      border-right-color: var(--fill-color);\n",
              "      border-bottom-color: var(--fill-color);\n",
              "    }\n",
              "    90% {\n",
              "      border-color: transparent;\n",
              "      border-bottom-color: var(--fill-color);\n",
              "    }\n",
              "  }\n",
              "</style>\n",
              "\n",
              "  <script>\n",
              "    async function quickchart(key) {\n",
              "      const quickchartButtonEl =\n",
              "        document.querySelector('#' + key + ' button');\n",
              "      quickchartButtonEl.disabled = true;  // To prevent multiple clicks.\n",
              "      quickchartButtonEl.classList.add('colab-df-spinner');\n",
              "      try {\n",
              "        const charts = await google.colab.kernel.invokeFunction(\n",
              "            'suggestCharts', [key], {});\n",
              "      } catch (error) {\n",
              "        console.error('Error during call to suggestCharts:', error);\n",
              "      }\n",
              "      quickchartButtonEl.classList.remove('colab-df-spinner');\n",
              "      quickchartButtonEl.classList.add('colab-df-quickchart-complete');\n",
              "    }\n",
              "    (() => {\n",
              "      let quickchartButtonEl =\n",
              "        document.querySelector('#df-96112fdf-69ac-468d-bb4f-b3bb0d9fa0c4 button');\n",
              "      quickchartButtonEl.style.display =\n",
              "        google.colab.kernel.accessAllowed ? 'block' : 'none';\n",
              "    })();\n",
              "  </script>\n",
              "</div>\n",
              "    </div>\n",
              "  </div>\n"
            ]
          },
          "metadata": {},
          "execution_count": 33
        }
      ]
    },
    {
      "cell_type": "markdown",
      "metadata": {
        "id": "EokWXrykfiLn"
      },
      "source": [
        "## QUESTÃO 1\n"
      ]
    },
    {
      "cell_type": "markdown",
      "metadata": {
        "id": "hQNLV_EzfiLn"
      },
      "source": [
        "**Exploração Inicial dos Dados**\n",
        "\n",
        "a) Verifique o número de linhas e colunas no DataFrame. **lembre-se do método .shape**\n"
      ]
    },
    {
      "cell_type": "code",
      "execution_count": null,
      "metadata": {
        "colab": {
          "base_uri": "https://localhost:8080/"
        },
        "id": "y6xeFVRDfiLn",
        "outputId": "ebc76512-8ab3-4725-a5bf-e81bf744da0a"
      },
      "outputs": [
        {
          "output_type": "stream",
          "name": "stdout",
          "text": [
            "O DataFrame possui 792 linhas e 13 colunas.\n"
          ]
        }
      ],
      "source": [
        "num_linhas, num_colunas = df.shape\n",
        "\n",
        "print(f'O DataFrame possui {num_linhas} linhas e {num_colunas} colunas.')"
      ]
    },
    {
      "cell_type": "markdown",
      "metadata": {
        "id": "cbv8Ec1hfiLn"
      },
      "source": [
        "b) Liste as colunas presentes no DataFrame. **lembre-se do método .columns**\n"
      ]
    },
    {
      "cell_type": "code",
      "execution_count": null,
      "metadata": {
        "colab": {
          "base_uri": "https://localhost:8080/"
        },
        "id": "dorWVvRefiLn",
        "outputId": "d1bb08d7-5cd4-4f39-c006-4d7c90c161e0"
      },
      "outputs": [
        {
          "output_type": "stream",
          "name": "stdout",
          "text": [
            "Colunas no DataFrame:\n",
            "Country\n",
            "happiness_score\n",
            "gdp_per_capita\n",
            "family\n",
            "health\n",
            "freedom\n",
            "generosity\n",
            "government_trust\n",
            "dystopia_residual\n",
            "continent\n",
            "Year\n",
            "social_support\n",
            "cpi_score\n"
          ]
        }
      ],
      "source": [
        "colunas = df.columns\n",
        "\n",
        "print(\"Colunas no DataFrame:\")\n",
        "for coluna in colunas:\n",
        "    print(coluna)\n",
        "\n"
      ]
    },
    {
      "cell_type": "markdown",
      "metadata": {
        "id": "TxKdp66VfiLn"
      },
      "source": [
        "c) Verifique se há valores nulos em cada coluna."
      ]
    },
    {
      "cell_type": "code",
      "execution_count": null,
      "metadata": {
        "colab": {
          "base_uri": "https://localhost:8080/"
        },
        "id": "P3NBQHKRfiLn",
        "outputId": "667e4173-8ac7-478f-fac1-f2e68760b0cc"
      },
      "outputs": [
        {
          "output_type": "stream",
          "name": "stdout",
          "text": [
            "Valores nulos em cada coluna:\n",
            "Country              0\n",
            "happiness_score      0\n",
            "gdp_per_capita       0\n",
            "family               0\n",
            "health               0\n",
            "freedom              0\n",
            "generosity           0\n",
            "government_trust     0\n",
            "dystopia_residual    0\n",
            "continent            0\n",
            "Year                 0\n",
            "social_support       0\n",
            "cpi_score            0\n",
            "dtype: int64\n"
          ]
        }
      ],
      "source": [
        "valores_nulos = df.isnull().sum()\n",
        "\n",
        "print(\"Valores nulos em cada coluna:\")\n",
        "print(valores_nulos)\n",
        "\n"
      ]
    },
    {
      "cell_type": "markdown",
      "metadata": {
        "id": "ZRJBO3ywfiLn"
      },
      "source": [
        "## QUESTÃO 2"
      ]
    },
    {
      "cell_type": "markdown",
      "metadata": {
        "id": "wtjimuIVfiLn"
      },
      "source": [
        "a) Remova as colunas não relevantes que não serão usadas na análise, como \"generosity\" (generosidade), \"family\"(familia),\n",
        "\"health\"( saúde), \"freedom\" (liberdade), \"dystopia_residual\"(distopia residual), \"social_support\" (suporte social) e \"cpi_score\""
      ]
    },
    {
      "cell_type": "code",
      "execution_count": null,
      "metadata": {
        "colab": {
          "base_uri": "https://localhost:8080/"
        },
        "id": "uzVx6fUdfiLo",
        "outputId": "af7f793e-3c15-4119-af73-ba7c038ccd1a"
      },
      "outputs": [
        {
          "output_type": "stream",
          "name": "stdout",
          "text": [
            "Colunas removidas:\n",
            "['generosity', 'family', 'health', 'freedom', 'dystopia_residual', 'social_support', 'cpi_score']\n",
            "DataFrame após a remoção das colunas não relevantes:\n",
            "       Country  happiness_score  gdp_per_capita  government_trust continent  \\\n",
            "0       Norway            7.537        1.616463          0.315964    Europe   \n",
            "1      Denmark            7.522        1.482383          0.400770    Europe   \n",
            "2      Iceland            7.504        1.480633          0.153527    Europe   \n",
            "3  Switzerland            7.494        1.564980          0.367007    Europe   \n",
            "4      Finland            7.469        1.443572          0.382612    Europe   \n",
            "\n",
            "   Year  \n",
            "0  2015  \n",
            "1  2015  \n",
            "2  2015  \n",
            "3  2015  \n",
            "4  2015  \n"
          ]
        }
      ],
      "source": [
        "nome_do_arquivo = 'WorldHappiness_Corruption_2015_2020 (4).csv'\n",
        "df = pd.read_csv(io.BytesIO(uploaded[nome_do_arquivo]))\n",
        "\n",
        "# Colunas a serem removidas\n",
        "colunas_para_remover = [\"generosity\", \"family\", \"health\", \"freedom\", \"dystopia_residual\", \"social_support\", \"cpi_score\"]\n",
        "\n",
        "# Remover as colunas especificadas\n",
        "df_reduzido = df.drop(columns=colunas_para_remover)\n",
        "\n",
        "# Exibindo as colunas removidas e as primeiras linhas do DataFrame após a remoção\n",
        "print(\"Colunas removidas:\")\n",
        "print(colunas_para_remover)\n",
        "\n",
        "print(\"DataFrame após a remoção das colunas não relevantes:\")\n",
        "print(df_reduzido.head())"
      ]
    },
    {
      "cell_type": "markdown",
      "metadata": {
        "id": "keSiVEl6fiLo"
      },
      "source": [
        "b)\n",
        "Renomeie as colunas para torná-las mais descritivas. Por exemplo, renomeie \"Score\" para \"Pontuacao_Felicidade\", \"Country\" para \"Países\", \"GDP per capita\" para \"PIB_Per_Capita\", \"continent\" para \"Continentes\", \"Year\" para \"ano\" e government_trust para \"confian_gov\"."
      ]
    },
    {
      "cell_type": "code",
      "execution_count": null,
      "metadata": {
        "colab": {
          "base_uri": "https://localhost:8080/"
        },
        "id": "L-nJUaAafiLo",
        "outputId": "b0ae9636-a0b1-407c-d0f8-786735c0f916"
      },
      "outputs": [
        {
          "output_type": "stream",
          "name": "stdout",
          "text": [
            "        Países  Pontuacao_Felicidade  PIB_Per_Capita  confian_gov Continentes  \\\n",
            "0       Norway                 7.537        1.616463     0.315964      Europe   \n",
            "1      Denmark                 7.522        1.482383     0.400770      Europe   \n",
            "2      Iceland                 7.504        1.480633     0.153527      Europe   \n",
            "3  Switzerland                 7.494        1.564980     0.367007      Europe   \n",
            "4      Finland                 7.469        1.443572     0.382612      Europe   \n",
            "\n",
            "    Ano  \n",
            "0  2015  \n",
            "1  2015  \n",
            "2  2015  \n",
            "3  2015  \n",
            "4  2015  \n"
          ]
        }
      ],
      "source": [
        "# Renomeando as colunas\n",
        "df_renomeado = df_reduzido.rename(columns={\n",
        "    \"Country\": \"Países\",\n",
        "    \"happiness_score\": \"Pontuacao_Felicidade\",\n",
        "    \"gdp_per_capita\": \"PIB_Per_Capita\",\n",
        "    \"continent\": \"Continentes\",\n",
        "    \"Year\": \"Ano\",\n",
        "    \"government_trust\": \"confian_gov\"\n",
        "})\n",
        "\n",
        "# Exibindo as primeiras linhas do DataFrame com colunas renomeadas\n",
        "print(df_renomeado.head())"
      ]
    },
    {
      "cell_type": "markdown",
      "metadata": {
        "id": "CH7E8HF3fiLo"
      },
      "source": [
        "## QUESTÃO 3\n",
        "\n"
      ]
    },
    {
      "cell_type": "markdown",
      "metadata": {
        "id": "jhMWKBtFfiLo"
      },
      "source": [
        "**Estatísticas Descritivas**\n",
        "\n",
        "Calcule estatísticas descritivas para as colunas relevantes: \"Score\" (pontuação de felicidade), \"GDP per capita\" (PIB per capita) e \"Corruption Perception\" (percepção de corrupção) e . Mostre a média, mediana, desvio padrão, mínimo e máximo para cada uma dessas colunas."
      ]
    },
    {
      "cell_type": "code",
      "execution_count": null,
      "metadata": {
        "colab": {
          "base_uri": "https://localhost:8080/"
        },
        "id": "oatQWKlzfiLo",
        "outputId": "15af15d9-08ec-4c73-d490-2c15e81c2391"
      },
      "outputs": [
        {
          "output_type": "stream",
          "name": "stdout",
          "text": [
            "        happiness_score  gdp_per_capita  government_trust\n",
            "count        792.000000      792.000000        792.000000\n",
            "mean           5.473310        0.929217          0.125720\n",
            "std            1.124726        0.385774          0.109032\n",
            "min            2.566900        0.000000          0.000000\n",
            "25%            4.590750        0.644242          0.052862\n",
            "median         5.485500        0.994544          0.089000\n",
            "75%            6.300500        1.228677          0.154250\n",
            "max            7.808700        2.096000          0.551910\n",
            "median         5.485500        0.994544          0.089000\n"
          ]
        }
      ],
      "source": [
        "# Carregue seu arquivo CSV\n",
        "df = pd.read_csv('WorldHappiness_Corruption_2015_2020 (4).csv')\n",
        "\n",
        "# Supondo que as colunas de interesse sejam 'happiness_score' (Score), 'gdp_per_capita' (GDP per capita)\n",
        "# e 'government_trust' (assumindo como percepção de corrupção)\n",
        "colunas_estatisticas = ['happiness_score', 'gdp_per_capita', 'government_trust']\n",
        "\n",
        "# Calculando as estatísticas descritivas\n",
        "estatisticas_descritivas = df[colunas_estatisticas].describe()\n",
        "\n",
        "# Adicionando a mediana, que não é incluída por padrão no método describe()\n",
        "mediana = df[colunas_estatisticas].median()\n",
        "estatisticas_descritivas.loc['median'] = mediana\n",
        "\n",
        "# Renomeando o índice para incluir a mediana corretamente\n",
        "estatisticas_descritivas = estatisticas_descritivas.rename(index={'50%': 'median'})\n",
        "\n",
        "# Exibindo as estatísticas descritivas\n",
        "print(estatisticas_descritivas)"
      ]
    },
    {
      "cell_type": "markdown",
      "metadata": {
        "id": "8osp7DtAfiLo"
      },
      "source": [
        "## QUESTÃO 4"
      ]
    },
    {
      "cell_type": "markdown",
      "metadata": {
        "id": "GBgubbjpfiLo"
      },
      "source": [
        "Vamos usar somente o ano de 2019 para facilitar a análise."
      ]
    },
    {
      "cell_type": "markdown",
      "metadata": {
        "id": "wBSObVQ3fiLo"
      },
      "source": [
        "a) Incluir no dataframe apenas as linhas do ano de 2019"
      ]
    },
    {
      "cell_type": "code",
      "execution_count": null,
      "metadata": {
        "id": "4Dr5TtWEfiLo",
        "colab": {
          "base_uri": "https://localhost:8080/"
        },
        "outputId": "b118fa7b-4dba-4830-9390-4354cc59aa61"
      },
      "outputs": [
        {
          "output_type": "stream",
          "name": "stdout",
          "text": [
            "         Country  happiness_score  gdp_per_capita   family   health  freedom  \\\n",
            "528      Denmark            7.526         1.44178  1.16374  0.79504  0.57941   \n",
            "529  Switzerland            7.509         1.52733  1.14524  0.86303  0.58557   \n",
            "530      Iceland            7.501         1.42666  1.18326  0.86733  0.56624   \n",
            "531       Norway            7.498         1.57744  1.12690  0.79579  0.59609   \n",
            "532      Finland            7.413         1.40598  1.13464  0.81091  0.57104   \n",
            "\n",
            "     generosity  government_trust  dystopia_residual continent  Year  \\\n",
            "528     0.36171           0.44453            2.73939    Europe  2019   \n",
            "529     0.28083           0.41203            2.69463    Europe  2019   \n",
            "530     0.47678           0.14975            2.83137    Europe  2019   \n",
            "531     0.37895           0.35776            2.66465    Europe  2019   \n",
            "532     0.25492           0.41004            2.82596    Europe  2019   \n",
            "\n",
            "     social_support  cpi_score  \n",
            "528             0.0         87  \n",
            "529             0.0         85  \n",
            "530             0.0         78  \n",
            "531             0.0         84  \n",
            "532             0.0         86  \n"
          ]
        }
      ],
      "source": [
        "# Filtrando o DataFrame para incluir apenas as linhas do ano de 2019\n",
        "df_2019 = df[df['Year'] == 2019]\n",
        "\n",
        "# Exibindo as primeiras linhas do DataFrame filtrado para verificar\n",
        "print(df_2019.head())"
      ]
    },
    {
      "cell_type": "markdown",
      "metadata": {
        "id": "aNOEViryfiLo"
      },
      "source": [
        "b) Criar um novo DataFrame com países que têm pontuação de felicidade acima da média global ( do exercicio anterior)"
      ]
    },
    {
      "cell_type": "code",
      "execution_count": null,
      "metadata": {
        "id": "q5njaocjfiLo",
        "colab": {
          "base_uri": "https://localhost:8080/"
        },
        "outputId": "cf3f0ddc-09e9-4d4c-cd1f-156ad1f5bf86"
      },
      "outputs": [
        {
          "output_type": "stream",
          "name": "stdout",
          "text": [
            "         Country  happiness_score  gdp_per_capita   family   health  freedom  \\\n",
            "528      Denmark            7.526         1.44178  1.16374  0.79504  0.57941   \n",
            "529  Switzerland            7.509         1.52733  1.14524  0.86303  0.58557   \n",
            "530      Iceland            7.501         1.42666  1.18326  0.86733  0.56624   \n",
            "531       Norway            7.498         1.57744  1.12690  0.79579  0.59609   \n",
            "532      Finland            7.413         1.40598  1.13464  0.81091  0.57104   \n",
            "\n",
            "     generosity  government_trust  dystopia_residual continent  Year  \\\n",
            "528     0.36171           0.44453            2.73939    Europe  2019   \n",
            "529     0.28083           0.41203            2.69463    Europe  2019   \n",
            "530     0.47678           0.14975            2.83137    Europe  2019   \n",
            "531     0.37895           0.35776            2.66465    Europe  2019   \n",
            "532     0.25492           0.41004            2.82596    Europe  2019   \n",
            "\n",
            "     social_support  cpi_score  \n",
            "528             0.0         87  \n",
            "529             0.0         85  \n",
            "530             0.0         78  \n",
            "531             0.0         84  \n",
            "532             0.0         86  \n"
          ]
        }
      ],
      "source": [
        "# Calculando a média global da pontuação de felicidade para 2019\n",
        "media_felicidade_2019 = df_2019['happiness_score'].mean()\n",
        "\n",
        "# Filtrando o DataFrame para incluir apenas países com pontuação acima da média\n",
        "df_acima_media = df_2019[df_2019['happiness_score'] > media_felicidade_2019]\n",
        "\n",
        "# Exibindo as primeiras linhas do novo DataFrame para verificar\n",
        "print(df_acima_media.head())\n"
      ]
    },
    {
      "cell_type": "markdown",
      "metadata": {
        "id": "ySqChHXsfiLp"
      },
      "source": [
        "# QUESTÃO 5"
      ]
    },
    {
      "cell_type": "markdown",
      "metadata": {
        "id": "v171gn1-fiLp"
      },
      "source": [
        "**Classificação**\n",
        "\n",
        "Classifique o DataFrame resultante do Exercício 4 pela coluna \"Score\" em ordem decrescente. Mostre os 10 países com as maiores pontuações de felicidade. Isso é útil para responder a perguntas como:\n",
        "\n",
        "Quais países têm os maiores níveis de felicidade? A classificação em ordem decrescente fornece uma lista dos países com as maiores pontuações de felicidade, destacando aqueles que estão no topo da lista.\n",
        "\n",
        "Houve alguma mudança significativa na classificação da felicidade ao longo do tempo? Comparando a classificação em diferentes anos, é possível identificar se houve mudanças significativas na pontuação de felicidade de países específicos.\n",
        "\n",
        "Quais países são modelos de sucesso em termos de felicidade? A classificação ajuda a identificar países que são frequentemente citados como exemplos de sucesso em termos de bem-estar e qualidade de vida."
      ]
    },
    {
      "cell_type": "code",
      "execution_count": null,
      "metadata": {
        "id": "54RyES99fiLp",
        "colab": {
          "base_uri": "https://localhost:8080/"
        },
        "outputId": "ebe18fa8-bb1d-4b96-b9c9-cbeea34c39a8"
      },
      "outputs": [
        {
          "output_type": "stream",
          "name": "stdout",
          "text": [
            "         Country  happiness_score  gdp_per_capita   family   health  freedom  \\\n",
            "528      Denmark            7.526         1.44178  1.16374  0.79504  0.57941   \n",
            "529  Switzerland            7.509         1.52733  1.14524  0.86303  0.58557   \n",
            "530      Iceland            7.501         1.42666  1.18326  0.86733  0.56624   \n",
            "531       Norway            7.498         1.57744  1.12690  0.79579  0.59609   \n",
            "532      Finland            7.413         1.40598  1.13464  0.81091  0.57104   \n",
            "533       Canada            7.404         1.44015  1.09610  0.82760  0.57370   \n",
            "534  Netherlands            7.339         1.46468  1.02912  0.81231  0.55211   \n",
            "535  New Zealand            7.334         1.36066  1.17278  0.83096  0.58147   \n",
            "536    Australia            7.313         1.44443  1.10476  0.85120  0.56837   \n",
            "537       Sweden            7.291         1.45181  1.08764  0.83121  0.58218   \n",
            "\n",
            "     generosity  government_trust  dystopia_residual      continent  Year  \\\n",
            "528     0.36171           0.44453            2.73939         Europe  2019   \n",
            "529     0.28083           0.41203            2.69463         Europe  2019   \n",
            "530     0.47678           0.14975            2.83137         Europe  2019   \n",
            "531     0.37895           0.35776            2.66465         Europe  2019   \n",
            "532     0.25492           0.41004            2.82596         Europe  2019   \n",
            "533     0.44834           0.31329            2.70485  North America  2019   \n",
            "534     0.47416           0.29927            2.70749         Europe  2019   \n",
            "535     0.49401           0.41904            2.47553      Australia  2019   \n",
            "536     0.47407           0.32331            2.54650      Australia  2019   \n",
            "537     0.38254           0.40867            2.54734         Europe  2019   \n",
            "\n",
            "     social_support  cpi_score  \n",
            "528             0.0         87  \n",
            "529             0.0         85  \n",
            "530             0.0         78  \n",
            "531             0.0         84  \n",
            "532             0.0         86  \n",
            "533             0.0         77  \n",
            "534             0.0         82  \n",
            "535             0.0         87  \n",
            "536             0.0         77  \n",
            "537             0.0         85  \n"
          ]
        }
      ],
      "source": [
        "# Classificando o DataFrame pela coluna \"happiness_score\" em ordem decrescente\n",
        "df_classificado = df_acima_media.sort_values(by='happiness_score', ascending=False)\n",
        "\n",
        "# Exibindo os 10 primeiros países com as maiores pontuações de felicidade\n",
        "top_10_paises_felizes = df_classificado.head(10)\n",
        "print(top_10_paises_felizes)\n"
      ]
    },
    {
      "cell_type": "markdown",
      "metadata": {
        "id": "XdtTW-uOfiLp"
      },
      "source": [
        "## QUESTÃO 6"
      ]
    },
    {
      "cell_type": "markdown",
      "metadata": {
        "id": "3aAtdQonfiLp"
      },
      "source": [
        "**Agrupando Dados por Região**\n",
        "\n",
        "Agrupe os dados por região (coluna \"Region\") e calcule a média das pontuações de felicidade para cada região. Ordene as regiões pela média de pontuação de felicidade em ordem decrescente."
      ]
    },
    {
      "cell_type": "code",
      "execution_count": null,
      "metadata": {
        "id": "yp4-u2xZfiLp",
        "colab": {
          "base_uri": "https://localhost:8080/"
        },
        "outputId": "79abe471-dda7-4caa-d8cc-ca5abc8c086b"
      },
      "outputs": [
        {
          "output_type": "stream",
          "name": "stdout",
          "text": [
            "continent\n",
            "Australia        7.289033\n",
            "North America    7.000539\n",
            "Europe           6.193717\n",
            "South America    5.865516\n",
            "Asia             5.267553\n",
            "Africa           4.353944\n",
            "Name: happiness_score, dtype: float64\n"
          ]
        }
      ],
      "source": [
        "# Agrupando os dados por região/continente\n",
        "media_por_regiao = df.groupby('continent')['happiness_score'].mean()\n",
        "\n",
        "# Ordenando as médias em ordem decrescente\n",
        "media_por_regiao_ordenada = media_por_regiao.sort_values(ascending=False)\n",
        "\n",
        "# Exibindo o resultado\n",
        "print(media_por_regiao_ordenada)"
      ]
    },
    {
      "cell_type": "markdown",
      "metadata": {
        "id": "YrTM35gjfiLp"
      },
      "source": [
        "## QUESTÃO 7"
      ]
    },
    {
      "cell_type": "markdown",
      "metadata": {
        "id": "xzOo-RVHfiLp"
      },
      "source": [
        "**Lidando com Dados Ausentes**\n",
        "\n",
        "Verifique se há dados ausentes no DataFrame e, se houver, retire a linha inteira em questão. Certifique-se de que o DataFrame não possui mais dados ausentes após o preenchimento."
      ]
    },
    {
      "cell_type": "code",
      "execution_count": null,
      "metadata": {
        "id": "nDeEhBq_fiLw",
        "colab": {
          "base_uri": "https://localhost:8080/"
        },
        "outputId": "9fb42878-d18c-4298-8fcc-cc3b8a81fb1a"
      },
      "outputs": [
        {
          "output_type": "stream",
          "name": "stdout",
          "text": [
            "Dados ausentes antes da remoção:\n",
            "Country              0\n",
            "happiness_score      0\n",
            "gdp_per_capita       0\n",
            "family               0\n",
            "health               0\n",
            "freedom              0\n",
            "generosity           0\n",
            "government_trust     0\n",
            "dystopia_residual    0\n",
            "continent            0\n",
            "Year                 0\n",
            "social_support       0\n",
            "cpi_score            0\n",
            "dtype: int64\n",
            "\n",
            "Dados ausentes após a remoção:\n",
            "Country              0\n",
            "happiness_score      0\n",
            "gdp_per_capita       0\n",
            "family               0\n",
            "health               0\n",
            "freedom              0\n",
            "generosity           0\n",
            "government_trust     0\n",
            "dystopia_residual    0\n",
            "continent            0\n",
            "Year                 0\n",
            "social_support       0\n",
            "cpi_score            0\n",
            "dtype: int64\n"
          ]
        }
      ],
      "source": [
        "# Carregue seu arquivo CSV\n",
        "df = pd.read_csv('WorldHappiness_Corruption_2015_2020 (4).csv')\n",
        "\n",
        "# Verificando dados ausentes\n",
        "print(\"Dados ausentes antes da remoção:\")\n",
        "print(df.isna().sum())\n",
        "\n",
        "# Removendo linhas com dados ausentes\n",
        "df_limpo = df.dropna()\n",
        "\n",
        "# Verificando se ainda existem dados ausentes\n",
        "print(\"\\nDados ausentes após a remoção:\")\n",
        "print(df_limpo.isna().sum())\n"
      ]
    },
    {
      "cell_type": "markdown",
      "metadata": {
        "id": "DmCpsNg_fiLw"
      },
      "source": [
        "# Questão 8"
      ]
    },
    {
      "cell_type": "markdown",
      "metadata": {
        "id": "ebMJZVBLfiLw"
      },
      "source": [
        "Agora você tem uma base de dados limpa e com informações relevantes para responder algumas questões.\n",
        "\n",
        "- Países mais ricos são mais felizes?\n",
        "- Países com maior confiança no governo (menos experiencias com corrupção) são mais felizes?\n",
        "- Aonde se localizam os países mais felizes? Europa? Ásia?....\n"
      ]
    },
    {
      "cell_type": "markdown",
      "metadata": {
        "id": "XiGcxNPDfiLw"
      },
      "source": [
        "**Países com maior confiança no governo são mais felizes?**\n",
        "\n",
        "a) Calcule a média da coluna \"Confianca_Gov\" para obter um valor médio que será usado como ponto de corte."
      ]
    },
    {
      "cell_type": "code",
      "execution_count": null,
      "metadata": {
        "id": "3DgDFP_xfiLw",
        "colab": {
          "base_uri": "https://localhost:8080/"
        },
        "outputId": "897c7c16-b12d-47df-e6e2-08aed29ba3bb"
      },
      "outputs": [
        {
          "output_type": "stream",
          "name": "stdout",
          "text": [
            "Média de Confiança no Governo (government_trust): 0.1257195197929293\n"
          ]
        }
      ],
      "source": [
        "# Calculando a média da coluna \"government_trust\"\n",
        "media_confianca_gov = df['government_trust'].mean()\n",
        "\n",
        "# Exibindo a média\n",
        "print(\"Média de Confiança no Governo (government_trust):\", media_confianca_gov)"
      ]
    },
    {
      "cell_type": "markdown",
      "metadata": {
        "id": "JDSWib5LfiLw"
      },
      "source": [
        "b) Com base na média calculada, crie uma nova coluna no DataFrame que atribuirá um rótulo (\"alta\" ou \"baixa\") a cada país de acordo com sua confiança no governo em relação à média."
      ]
    },
    {
      "cell_type": "code",
      "execution_count": null,
      "metadata": {
        "id": "6061tkF4fiLw",
        "colab": {
          "base_uri": "https://localhost:8080/"
        },
        "outputId": "b2c14030-f53b-44cd-ea8f-8791381bf0ff"
      },
      "outputs": [
        {
          "output_type": "stream",
          "name": "stdout",
          "text": [
            "       Country  happiness_score  gdp_per_capita    family    health   freedom  \\\n",
            "0       Norway            7.537        1.616463  1.533524  0.796667  0.635423   \n",
            "1      Denmark            7.522        1.482383  1.551122  0.792566  0.626007   \n",
            "2      Iceland            7.504        1.480633  1.610574  0.833552  0.627163   \n",
            "3  Switzerland            7.494        1.564980  1.516912  0.858131  0.620071   \n",
            "4      Finland            7.469        1.443572  1.540247  0.809158  0.617951   \n",
            "\n",
            "   generosity  government_trust  dystopia_residual continent  Year  \\\n",
            "0    0.362012          0.315964           2.277027    Europe  2015   \n",
            "1    0.355280          0.400770           2.313707    Europe  2015   \n",
            "2    0.475540          0.153527           2.322715    Europe  2015   \n",
            "3    0.290549          0.367007           2.276716    Europe  2015   \n",
            "4    0.245483          0.382612           2.430182    Europe  2015   \n",
            "\n",
            "   social_support  cpi_score confianca_gov_rotulo  \n",
            "0             0.0         88                 alta  \n",
            "1             0.0         91                 alta  \n",
            "2             0.0         79                 alta  \n",
            "3             0.0         86                 alta  \n",
            "4             0.0         90                 alta  \n"
          ]
        }
      ],
      "source": [
        "# Adicionando uma nova coluna com rótulos \"alta\" ou \"baixa\" baseada na confiança no governo\n",
        "df['confianca_gov_rotulo'] = df['government_trust'].apply(lambda x: 'alta' if x > media_confianca_gov else 'baixa')\n",
        "\n",
        "# Exibindo as primeiras linhas para verificar a nova coluna\n",
        "print(df.head())"
      ]
    },
    {
      "cell_type": "markdown",
      "metadata": {
        "id": "5BJI0UkHfiLx"
      },
      "source": [
        "c) Após dividir os países em grupos, calcule a média da pontuação de felicidade para cada grupo separadamente.\n"
      ]
    },
    {
      "cell_type": "code",
      "execution_count": null,
      "metadata": {
        "id": "VBP0-SDJfiLx",
        "colab": {
          "base_uri": "https://localhost:8080/"
        },
        "outputId": "26bf7844-d36a-4a29-dca7-2f1a712b724e"
      },
      "outputs": [
        {
          "output_type": "stream",
          "name": "stdout",
          "text": [
            "Média da Pontuação de Felicidade - Alta Confiança no Governo: 6.124542747490707\n",
            "Média da Pontuação de Felicidade - Baixa Confiança no Governo: 5.138354492376672\n"
          ]
        }
      ],
      "source": [
        "# Calculando a média da pontuação de felicidade para países com alta confiança no governo\n",
        "media_felicidade_alta_confianca = df[df['confianca_gov_rotulo'] == 'alta']['happiness_score'].mean()\n",
        "\n",
        "# Calculando a média da pontuação de felicidade para países com baixa confiança no governo\n",
        "media_felicidade_baixa_confianca = df[df['confianca_gov_rotulo'] == 'baixa']['happiness_score'].mean()\n",
        "\n",
        "# Exibindo as médias\n",
        "print(\"Média da Pontuação de Felicidade - Alta Confiança no Governo:\", media_felicidade_alta_confianca)\n",
        "print(\"Média da Pontuação de Felicidade - Baixa Confiança no Governo:\", media_felicidade_baixa_confianca)\n"
      ]
    },
    {
      "cell_type": "markdown",
      "metadata": {
        "id": "3dLLxi90fiLx"
      },
      "source": [
        "d) Use um gráfico de barras para representar a relação entre o nível de confiança no governo e a média da pontuação de felicidade. Cada barra no gráfico representa um grupo (alta ou baixa) e a altura da barra representa a média da pontuação de felicidade para esse grupo."
      ]
    },
    {
      "cell_type": "code",
      "execution_count": null,
      "metadata": {
        "id": "zEPsQ5iQfiLx",
        "colab": {
          "base_uri": "https://localhost:8080/",
          "height": 490
        },
        "outputId": "0f9fe991-199e-4c7c-f25b-116e14c2eb32"
      },
      "outputs": [
        {
          "output_type": "display_data",
          "data": {
            "text/plain": [
              "<Figure size 1000x600 with 0 Axes>"
            ]
          },
          "metadata": {}
        },
        {
          "output_type": "display_data",
          "data": {
            "text/plain": [
              "<Figure size 640x480 with 1 Axes>"
            ],
            "image/png": "[encoded data removed]"
          },
          "metadata": {}
        }
      ],
      "source": [
        "import matplotlib.pyplot as plt\n",
        "\n",
        "# Preparando os dados para o gráfico\n",
        "media_por_grupo = pd.DataFrame({\n",
        "    'Grupo': ['Alta Confiança no Governo', 'Baixa Confiança no Governo'],\n",
        "    'Média da Pontuação de Felicidade': [media_felicidade_alta_confianca, media_felicidade_baixa_confianca]\n",
        "})\n",
        "media_por_grupo = media_por_grupo.set_index('Grupo')\n",
        "\n",
        "# Criando o gráfico de barras\n",
        "plt.figure(figsize=(10, 6))\n",
        "media_por_grupo.plot(kind='bar', color='skyblue')\n",
        "plt.title('Média da Pontuação de Felicidade por Nível de Confiança no Governo')\n",
        "plt.xlabel('Nível de Confiança no Governo')\n",
        "plt.ylabel('Média da Pontuação de Felicidade')\n",
        "plt.xticks(rotation=0)\n",
        "plt.show()"
      ]
    },
    {
      "cell_type": "markdown",
      "metadata": {
        "id": "zDueN9wzfiLx"
      },
      "source": [
        "e) qual é a conclusão de **Países com maior confiança no governo são mais felizes?**"
      ]
    },
    {
      "cell_type": "markdown",
      "metadata": {
        "id": "LyHid1HUfiLx"
      },
      "source": [
        "RESPOSTA:  Países Mais Felizes com Maior Confiança no Governo: Se os dados mostrarem que países com alta confiança no governo têm pontuações de felicidade significativamente maiores, podemos concluir que existe uma tendência de países com maior confiança no governo serem mais felizes. Isso pode ser devido à maior eficiência governamental, menores níveis de corrupção, maior estabilidade e melhores serviços públicos, que contribuem para o bem-estar geral.\n",
        "\n",
        "Sem Correlação Clara ou Fatores Adicionais: Se as diferenças nas pontuações de felicidade não forem significativas ou se outros fatores parecerem ter um impacto maior, isso sugere que a relação entre confiança no governo e felicidade é mais complexa e pode ser influenciada por múltiplas variáveis.\n",
        "É importante lembrar que análises como essa podem indicar correlação, mas não necessariamente implicam causalidade. Além disso, a felicidade de um país pode ser influenciada por uma variedade de fatores, incluindo, mas não se limitando a, saúde econômica, sistemas de saúde e educação, liberdade pessoal e cultural, e estabilidade política."
      ]
    },
    {
      "cell_type": "markdown",
      "metadata": {
        "id": "zgF1rUCkfiLx"
      },
      "source": [
        "## QUESTÃO 9"
      ]
    },
    {
      "cell_type": "markdown",
      "metadata": {
        "id": "mAUcvBuNfiLx"
      },
      "source": [
        "**Países mais ricos são mais felizes?**"
      ]
    },
    {
      "cell_type": "markdown",
      "metadata": {
        "id": "CHSsAadQfiLx"
      },
      "source": [
        "a) Crie um gráfico de dispersão (scatter plot) que mostre a relação entre a pontuação de felicidade e o PIB per capita. Coloque a pontuação de felicidade no eixo vertical (y) e o PIB per capita no eixo horizontal (x). Adicione rótulos aos eixos e um título informativo ao gráfico."
      ]
    },
    {
      "cell_type": "code",
      "execution_count": null,
      "metadata": {
        "id": "IXNii71HfiLx",
        "colab": {
          "base_uri": "https://localhost:8080/",
          "height": 528
        },
        "outputId": "3275d301-114a-47db-c978-c48bddde7768"
      },
      "outputs": [
        {
          "output_type": "display_data",
          "data": {
            "text/plain": [
              "<Figure size 1000x600 with 1 Axes>"
            ],
            "image/png": "[encoded data removed]"
          },
          "metadata": {}
        }
      ],
      "source": [
        "\n",
        "# Defina os dados para os eixos x e y\n",
        "x = df['gdp_per_capita']  # Substitua 'gdp_per_capita' pelo nome correto da coluna, se diferente\n",
        "y = df['happiness_score']  # Substitua 'happiness_score' pelo nome correto da coluna, se diferente\n",
        "\n",
        "# Crie o gráfico de dispersão\n",
        "plt.figure(figsize=(10, 6))  # Define o tamanho da figura\n",
        "plt.scatter(x, y, alpha=0.5)  # Cria o scatter plot com transparência\n",
        "\n",
        "# Adicione rótulos aos eixos\n",
        "plt.xlabel('PIB per Capita')\n",
        "plt.ylabel('Pontuação de Felicidade')\n",
        "plt.title('Relação entre PIB per Capita e Pontuação de Felicidade')\n",
        "\n",
        "# Exiba o gráfico\n",
        "plt.show()"
      ]
    },
    {
      "cell_type": "markdown",
      "metadata": {
        "id": "BFv56cYBfiLy"
      },
      "source": [
        "b) Qual é a conclusão de **Países mais ricos são mais felizes?**"
      ]
    },
    {
      "cell_type": "markdown",
      "metadata": {
        "id": "7JlQcXuufiLy"
      },
      "source": [
        "RESPOSTA: A conclusão sobre se países mais ricos são mais felizes depende dos resultados visualizados no gráfico de dispersão entre o PIB per capita e a pontuação de felicidade. Vamos considerar as possíveis interpretações:\n",
        "\n",
        "Correlação Positiva: Se o gráfico de dispersão mostrar que, à medida que o PIB per capita aumenta, a pontuação de felicidade também aumenta (ou seja, os pontos no gráfico tendem a subir à medida que se move para a direita), isso sugere uma correlação positiva. Neste caso, podemos concluir que, em média, países mais ricos tendem a ser mais felizes. Isso pode ser devido a fatores como melhor acesso a serviços de saúde, educação, infraestrutura de qualidade e estabilidade econômica, que frequentemente acompanham uma maior riqueza.\n",
        "\n",
        "Correlação Fraca ou Inexistente: Se o gráfico não mostrar uma tendência clara ou se os pontos estiverem amplamente dispersos sem um padrão definido, isso indicaria uma correlação fraca ou inexistente. Nesse cenário, a conclusão seria que a riqueza (medida pelo PIB per capita) não é necessariamente um determinante confiável da felicidade. Pode haver países com PIB per capita alto, mas com pontuações médias ou baixas de felicidade, e vice-versa.\n",
        "\n",
        "Outros Fatores em Jogo: É importante lembrar que a felicidade é um fenômeno complexo influenciado por uma variedade de fatores além da riqueza, incluindo cultura, valores sociais, liberdade política e pessoal, qualidade do meio ambiente, entre outros. Portanto, enquanto o PIB per capita é um indicador importante, ele não conta toda a história da felicidade de um país.\n",
        "\n",
        "Conclusão\n",
        "A conclusão sobre a relação entre riqueza e felicidade depende da análise do gráfico de dispersão. Se houver uma correlação positiva aparente, pode-se concluir que há uma tendência de países mais ricos serem mais felizes. No entanto, se a correlação for fraca ou inexistente, isso sugere que a riqueza é apenas um dos vários fatores que contribuem para a felicidade. Para uma compreensão mais aprofundada, seria ideal considerar outras variáveis e fatores que também podem influenciar a felicidade dos países."
      ]
    },
    {
      "cell_type": "markdown",
      "metadata": {
        "id": "meAToa08fiLy"
      },
      "source": [
        "## QUESTÃO 10"
      ]
    },
    {
      "cell_type": "markdown",
      "metadata": {
        "id": "iMlJANjefiLy"
      },
      "source": [
        "**Aonde se localizam os países mais felizes? Europa? Ásia?....**"
      ]
    },
    {
      "cell_type": "markdown",
      "metadata": {
        "id": "Up63iOycfiLy"
      },
      "source": [
        "a) Calcule a média da pontuação de felicidade (Score) em todo o DataFrame.\n"
      ]
    },
    {
      "cell_type": "code",
      "execution_count": null,
      "metadata": {
        "id": "RFTgvZYqfiLy",
        "colab": {
          "base_uri": "https://localhost:8080/"
        },
        "outputId": "31f0acdb-ec5e-4025-a9e3-13bccb0f55f4"
      },
      "outputs": [
        {
          "output_type": "stream",
          "name": "stdout",
          "text": [
            "Média Global da Pontuação de Felicidade: 5.47330984670202\n"
          ]
        }
      ],
      "source": [
        "# Calculando a média global da pontuação de felicidade\n",
        "media_felicidade_global = df['happiness_score'].mean()\n",
        "\n",
        "# Exibindo a média global\n",
        "print(\"Média Global da Pontuação de Felicidade:\", media_felicidade_global)"
      ]
    },
    {
      "cell_type": "markdown",
      "metadata": {
        "id": "1_QmEhMAfiLy"
      },
      "source": [
        "b) Crie dois DataFrames separados: um com os países com pontuação de felicidade acima da média e outro com os países com pontuação abaixo da média."
      ]
    },
    {
      "cell_type": "code",
      "execution_count": null,
      "metadata": {
        "id": "P15RjyHcfiLy",
        "colab": {
          "base_uri": "https://localhost:8080/"
        },
        "outputId": "26cb5c03-8c02-4983-bca1-8efe0e5f8bf8"
      },
      "outputs": [
        {
          "output_type": "stream",
          "name": "stdout",
          "text": [
            "Número de países com pontuação de felicidade acima da média: 399\n",
            "Número de países com pontuação de felicidade abaixo da média: 393\n"
          ]
        }
      ],
      "source": [
        "\n",
        "# DataFrames separados para países com pontuação de felicidade acima e abaixo da média\n",
        "paises_acima_media = df[df['happiness_score'] > media_felicidade_global]\n",
        "paises_abaixo_media = df[df['happiness_score'] <= media_felicidade_global]\n",
        "\n",
        "# Exibindo o número de países em cada grupo\n",
        "print(\"Número de países com pontuação de felicidade acima da média:\", paises_acima_media.shape[0])\n",
        "print(\"Número de países com pontuação de felicidade abaixo da média:\", paises_abaixo_media.shape[0])\n"
      ]
    },
    {
      "cell_type": "markdown",
      "metadata": {
        "id": "yBfqMcoyfiLy"
      },
      "source": [
        "c) Para cada um dos dois DataFrames criados no item b, crie subgrupos calculando a contagem de países por continente (coluna \"Region\"). dica: .value_counts()"
      ]
    },
    {
      "cell_type": "code",
      "execution_count": null,
      "metadata": {
        "id": "mj_hWM9xfiLy",
        "colab": {
          "base_uri": "https://localhost:8080/"
        },
        "outputId": "0ffa616e-e481-4f8d-e127-60e8a68d4392"
      },
      "outputs": [
        {
          "output_type": "stream",
          "name": "stdout",
          "text": [
            "Contagem de países por continente - Acima da Média de Felicidade:\n",
            "Europe           176\n",
            "South America     95\n",
            "Asia              83\n",
            "North America     18\n",
            "Africa            15\n",
            "Australia         12\n",
            "Name: continent, dtype: int64\n",
            "\n",
            "Contagem de países por continente - Abaixo da Média de Felicidade:\n",
            "Africa           177\n",
            "Asia             139\n",
            "Europe            52\n",
            "South America     25\n",
            "Name: continent, dtype: int64\n"
          ]
        }
      ],
      "source": [
        "\n",
        "# Contagem de países por continente para países com pontuação de felicidade acima da média\n",
        "contagem_continentes_acima_media = paises_acima_media['continent'].value_counts()\n",
        "\n",
        "# Contagem de países por continente para países com pontuação de felicidade abaixo da média\n",
        "contagem_continentes_abaixo_media = paises_abaixo_media['continent'].value_counts()\n",
        "\n",
        "# Exibindo os resultados\n",
        "print(\"Contagem de países por continente - Acima da Média de Felicidade:\")\n",
        "print(contagem_continentes_acima_media)\n",
        "print(\"\\nContagem de países por continente - Abaixo da Média de Felicidade:\")\n",
        "print(contagem_continentes_abaixo_media)"
      ]
    },
    {
      "cell_type": "markdown",
      "metadata": {
        "id": "cZUOAopNfiLy"
      },
      "source": [
        "d) Calcule a porcentagem que cada continente representa em relação ao total de países em cada grupo."
      ]
    },
    {
      "cell_type": "code",
      "execution_count": null,
      "metadata": {
        "id": "GWCMuGCffiLz",
        "colab": {
          "base_uri": "https://localhost:8080/"
        },
        "outputId": "7fcd61f5-0945-4deb-c052-aaeee4236a80"
      },
      "outputs": [
        {
          "output_type": "stream",
          "name": "stdout",
          "text": [
            "Porcentagem de países por continente - Acima da Média de Felicidade:\n",
            "Europe           44.110276\n",
            "South America    23.809524\n",
            "Asia             20.802005\n",
            "North America     4.511278\n",
            "Africa            3.759398\n",
            "Australia         3.007519\n",
            "Name: continent, dtype: float64\n",
            "\n",
            "Porcentagem de países por continente - Abaixo da Média de Felicidade:\n",
            "Africa           45.038168\n",
            "Asia             35.368957\n",
            "Europe           13.231552\n",
            "South America     6.361323\n",
            "Name: continent, dtype: float64\n"
          ]
        }
      ],
      "source": [
        "# Calculando as porcentagens para países com pontuação de felicidade acima da média\n",
        "porcentagem_continentes_acima_media = (contagem_continentes_acima_media / len(paises_acima_media)) * 100\n",
        "\n",
        "# Calculando as porcentagens para países com pontuação de felicidade abaixo da média\n",
        "porcentagem_continentes_abaixo_media = (contagem_continentes_abaixo_media / len(paises_abaixo_media)) * 100\n",
        "\n",
        "# Exibindo os resultados\n",
        "print(\"Porcentagem de países por continente - Acima da Média de Felicidade:\")\n",
        "print(porcentagem_continentes_acima_media)\n",
        "print(\"\\nPorcentagem de países por continente - Abaixo da Média de Felicidade:\")\n",
        "print(porcentagem_continentes_abaixo_media)"
      ]
    },
    {
      "cell_type": "markdown",
      "metadata": {
        "id": "kksks5nCfiLz"
      },
      "source": [
        "e) Crie gráficos de barras que mostrem a porcentagem de cada continente nos grupos de alta felicidade e baixa felicidade."
      ]
    },
    {
      "cell_type": "code",
      "execution_count": null,
      "metadata": {
        "id": "C06S1YmRfiLz",
        "colab": {
          "base_uri": "https://localhost:8080/",
          "height": 1000
        },
        "outputId": "c7638c27-3e7c-49f3-c9c3-65636e37adb7"
      },
      "outputs": [
        {
          "output_type": "display_data",
          "data": {
            "text/plain": [
              "<Figure size 1000x600 with 1 Axes>"
            ],
            "image/png": "[encoded data removed]"
          },
          "metadata": {}
        },
        {
          "output_type": "display_data",
          "data": {
            "text/plain": [
              "<Figure size 1000x600 with 1 Axes>"
            ],
            "image/png": "[encoded data removed]"
          },
          "metadata": {}
        }
      ],
      "source": [
        "\n",
        "import matplotlib.pyplot as plt\n",
        "\n",
        "# Gráfico de barras para o grupo de alta felicidade\n",
        "plt.figure(figsize=(10, 6))\n",
        "plt.bar(porcentagem_continentes_acima_media.index, porcentagem_continentes_acima_media)\n",
        "plt.title('Porcentagem de Países por Continente - Acima da Média de Felicidade')\n",
        "plt.xlabel('Continente')\n",
        "plt.ylabel('Porcentagem')\n",
        "plt.xticks(rotation=45)\n",
        "plt.show()\n",
        "\n",
        "# Gráfico de barras para o grupo de baixa felicidade\n",
        "plt.figure(figsize=(10, 6))\n",
        "plt.bar(porcentagem_continentes_abaixo_media.index, porcentagem_continentes_abaixo_media)\n",
        "plt.title('Porcentagem de Países por Continente - Abaixo da Média de Felicidade')\n",
        "plt.xlabel('Continente')\n",
        "plt.ylabel('Porcentagem')\n",
        "plt.xticks(rotation=45)\n",
        "plt.show()"
      ]
    },
    {
      "cell_type": "markdown",
      "metadata": {
        "id": "BdT0YEmrfiLz"
      },
      "source": [
        "f)  Qual é a conclusão da questão: **Aonde se localizam os países mais felizes? Europa? Ásia?....**"
      ]
    },
    {
      "cell_type": "markdown",
      "metadata": {
        "id": "9nUfg6A4fiLz"
      },
      "source": [
        "RESPOSTA: Para concluir sobre a localização dos países mais felizes com base nos gráficos de barras de porcentagem por continente para grupos de alta e baixa felicidade, você deve observar quais continentes têm a maior porcentagem de países no grupo de alta felicidade. As conclusões podem ser tiradas da seguinte forma:\n",
        "\n",
        "1. Continente Dominante no Grupo de Alta Felicidade: Se um continente específico, como a Europa, tem uma porcentagem significativamente maior de países no grupo de alta felicidade em comparação com outros continentes, podemos concluir que os países mais felizes tendem a se localizar nesse continente.\n",
        "\n",
        "2. Diversidade Geográfica da Felicidade: Se os países do grupo de alta felicidade estão mais uniformemente distribuídos entre vários continentes, isso sugere que a felicidade é mais diversificada geograficamente e não está restrita a uma área específica do mundo.\n",
        "\n",
        "3. Comparação com o Grupo de Baixa Felicidade: Ao observar quais continentes têm maior representação no grupo de baixa felicidade, você pode identificar regiões que podem enfrentar mais desafios em termos de bem-estar e felicidade.\n",
        "\n",
        "Conclusão:\n",
        "Se os gráficos mostrarem que um ou dois continentes têm uma proporção muito maior de países no grupo de alta felicidade, isso indica que os países mais felizes tendem a estar concentrados nesses continentes.\n",
        "\n",
        "Por outro lado, se a distribuição for mais equilibrada, isso indica que a felicidade não está confinada a uma região específica e varia mais amplamente.\n",
        "\n",
        "Fatores Influenciadores:\n",
        "É importante lembrar que a felicidade de um país pode ser influenciada por uma variedade de fatores, como estabilidade política, qualidade de vida, liberdade pessoal, saúde econômica e social, entre outros.\n",
        "\n",
        "Portanto, embora a localização geográfica possa fornecer algumas informações, ela deve ser considerada juntamente com outros fatores que contribuem para o bem-estar de um país.\n",
        "\n",
        "Com base na análise dos gráficos e informações deste estudo, pode-se concluir que a felicidade é de um conceito complexo ímpar, determinado por uma variedade de fatores diversos, nem sempre podendo ser quantizada ou mesmo qualificada pela estatística. Ela é, portanto, subjetiva, emocional, cultural e pessoal, sendo por fim um sentimento de satisfação com a vida!"
      ]
    },
    {
      "cell_type": "markdown",
      "metadata": {
        "id": "MZ1nenqIfiLz"
      },
      "source": [
        "APÓS A LISTA VOCÊ CONSEGUE ENXERGAR ALGUMA CONCLUSÃO SOBRE A QUESTÃO INICIAL DO TEMA?"
      ]
    },
    {
      "cell_type": "markdown",
      "source": [
        "A análise da relação entre corrupção (ou confiança no governo, que frequentemente se relaciona inversamente com a corrupção) e felicidade em países envolve considerar a subjetividade como um fator importante. Aqui estão algumas conclusões que podem ser tiradas com base na lista de sinônimos de subjetividade e na questão inicial:\n",
        "\n",
        "Percepções Variadas de Corrupção e Felicidade: A subjetividade implica que as percepções de corrupção e felicidade podem variar amplamente entre diferentes culturas e indivíduos. O que é considerado corrupto em uma sociedade pode não ser visto da mesma forma em outra, e o mesmo vale para os conceitos de felicidade.\n",
        "\n",
        "Influência da Parcialidade e da Perspectiva Pessoal: As opiniões sobre a relação entre corrupção e felicidade podem ser influenciadas por experiências pessoais e culturais. Por exemplo, em sociedades onde a corrupção é mais aceita ou normalizada, pode não haver uma correlação percebida tão forte entre baixa corrupção e alta felicidade.\n",
        "\n",
        "Relativismo na Avaliação da Felicidade: A felicidade é um conceito altamente relativo e subjetivo. Embora estudos possam mostrar uma tendência de países com menor corrupção serem mais felizes, isso não é uma regra absoluta e pode variar com base em uma série de outros fatores socioculturais e econômicos.\n",
        "\n",
        "Complexidade da Felicidade e Corrupção: A felicidade é influenciada por múltiplos fatores, e a corrupção é apenas um deles. Outros aspectos como saúde econômica, liberdade individual, qualidade de vida, e saúde e educação podem ter um papel igualmente significativo.\n",
        "\n",
        "Importância da Individualidade nas Percepções: A individualidade das percepções significa que, mesmo em países menos corruptos, nem todos os cidadãos podem se sentir mais felizes. A experiência de felicidade é pessoal e pode ser influenciada por circunstâncias individuais além da corrupção.\n",
        "\n",
        "Em resumo, enquanto estudos e análises podem indicar uma tendência geral de países menos corruptos apresentarem níveis mais altos de felicidade, essa relação é complexa e influenciada por fatores subjetivos e culturais. A felicidade e a corrupção são conceitos multifacetados e inter-relacionados, e sua compreensão exige uma abordagem que considere a diversidade de experiências humanas e contextos sociais.\n",
        "\n"
      ],
      "metadata": {
        "id": "wBneVO4LpJsT"
      }
    },
    {
      "cell_type": "code",
      "source": [],
      "metadata": {
        "id": "PWmDDSJ2qA3K"
      },
      "execution_count": null,
      "outputs": []
    }
  ],
  "metadata": {
    "kernelspec": {
      "display_name": "Python 3 (ipykernel)",
      "language": "python",
      "name": "python3"
    },
    "language_info": {
      "codemirror_mode": {
        "name": "ipython",
        "version": 3
      },
      "file_extension": ".py",
      "mimetype": "text/x-python",
      "name": "python",
      "nbconvert_exporter": "python",
      "pygments_lexer": "ipython3",
      "version": "3.11.4"
    },
    "colab": {
      "provenance": []
    }
  },
  "nbformat": 4,
  "nbformat_minor": 0
}